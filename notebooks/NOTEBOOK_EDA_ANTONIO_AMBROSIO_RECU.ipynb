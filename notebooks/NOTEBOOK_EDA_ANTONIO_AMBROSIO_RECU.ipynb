{
 "cells": [
  {
   "cell_type": "markdown",
   "metadata": {},
   "source": [
    "## IMPORTACIÓN DE LIBRERIAS NECESARIAS ##"
   ]
  },
  {
   "cell_type": "code",
   "execution_count": 1,
   "metadata": {},
   "outputs": [],
   "source": [
    "import zipfile\n",
    "\n",
    "import pandas as pd\n",
    "import numpy as np\n",
    "import seaborn as sns\n",
    "import matplotlib.pyplot as plt\n",
    "import plotly.express as px\n",
    "\n",
    "from datetime import datetime \n",
    "from collections import Counter\n",
    "\n",
    "%matplotlib inline"
   ]
  },
  {
   "cell_type": "markdown",
   "metadata": {},
   "source": [
    "## EXTRACCIÓN/CARGA DE DATOS "
   ]
  },
  {
   "cell_type": "code",
   "execution_count": 2,
   "metadata": {},
   "outputs": [],
   "source": [
    "# Asignamos a una variable la ruta donde se encuentra el archivo zip con el dataset que vamos a trabjar\n",
    "# Asignamos a otra variable el directorio donde queremos que guarde el dataset extraido de ese archivo zip\n",
    "\n",
    "path_to_zip_file = '../data/dataset_shark_attack.zip'\n",
    "directory_to_extract_to = '../data'"
   ]
  },
  {
   "cell_type": "code",
   "execution_count": 23,
   "metadata": {},
   "outputs": [],
   "source": [
    "# Con esta función de esta libreria importada extraemos el contenido en el zip y lo guardamos en el dorecotrio antes asignado\n",
    "\n",
    "with zipfile.ZipFile(path_to_zip_file, 'r') as zip_ref:\n",
    "    zip_ref.extractall(directory_to_extract_to)"
   ]
  },
  {
   "cell_type": "code",
   "execution_count": 3,
   "metadata": {},
   "outputs": [],
   "source": [
    "# Asiganmos a una nueva variable el contenido del dataset, en este caso un archivo csv\n",
    "# Guardamos en otra variable los datos decodificados con una función de pandas para empezar a trabjar con ellos en python\n",
    "\n",
    "path_dataset = '/Users/antoineambros/Documents/proyectos/shark_attacks/data/attacks.csv'\n",
    "data = pd.read_csv(path_dataset, encoding='latin1')"
   ]
  },
  {
   "cell_type": "markdown",
   "metadata": {},
   "source": [
    "## EXPLORACIÓN DE DATOS"
   ]
  },
  {
   "cell_type": "markdown",
   "metadata": {},
   "source": [
    "### Conocer información básica"
   ]
  },
  {
   "cell_type": "code",
   "execution_count": 9,
   "metadata": {},
   "outputs": [
    {
     "name": "stdout",
     "output_type": "stream",
     "text": [
      "Cantidad de Filas y columnas: (25723, 24)\n"
     ]
    }
   ],
   "source": [
    "print('Cantidad de Filas y columnas:',data.shape)"
   ]
  },
  {
   "cell_type": "code",
   "execution_count": 10,
   "metadata": {},
   "outputs": [
    {
     "name": "stdout",
     "output_type": "stream",
     "text": [
      "COLUMNAS DEL DATASET: ['Case Number' 'Date' 'Year' 'Type' 'Country' 'Area' 'Location' 'Activity'\n",
      " 'Name' 'Sex' 'Age' 'Injury' 'Fatal' 'Time' 'Species'\n",
      " 'Investigator or Source' 'pdf' 'href formula' 'href' 'Case Number.1'\n",
      " 'Case Number.2' 'original order' 'Unnamed: 22' 'Unnamed: 23']\n"
     ]
    }
   ],
   "source": [
    "print(f'COLUMNAS DEL DATASET: {data.columns.values}')"
   ]
  },
  {
   "cell_type": "code",
   "execution_count": null,
   "metadata": {},
   "outputs": [],
   "source": [
    "# Veamos el tipo de datos. Un vistazo preliminar del contenido del dataset\n",
    "\n",
    "data.head()"
   ]
  },
  {
   "cell_type": "code",
   "execution_count": 5,
   "metadata": {},
   "outputs": [],
   "source": [
    "# Aqui podremos ver los tipos de datos que vamos a manejar, si hay muchos datos 'nulos' en el dataset\n",
    "\n",
    "data.info()"
   ]
  },
  {
   "cell_type": "code",
   "execution_count": 4,
   "metadata": {},
   "outputs": [],
   "source": [
    "data.isnull().sum()"
   ]
  },
  {
   "attachments": {},
   "cell_type": "markdown",
   "metadata": {},
   "source": [
    "#### Con la siguiente función vamos a ver cómo son los datos de los que se componen cada una de las variables que tenemos en el DataSet"
   ]
  },
  {
   "cell_type": "code",
   "execution_count": 5,
   "metadata": {},
   "outputs": [],
   "source": [
    "for i in data.columns:\n",
    "    print(str(i) + ':' + str(data[i].unique()) + '\\n' )"
   ]
  },
  {
   "cell_type": "code",
   "execution_count": 6,
   "metadata": {},
   "outputs": [],
   "source": [
    "# Mediante esta función podemos ver datos aleatorios de nuestra estructura, y hacernos una idea de lo que tenemos\n",
    "\n",
    "data.sample(3)"
   ]
  },
  {
   "attachments": {},
   "cell_type": "markdown",
   "metadata": {},
   "source": [
    "##### Aqui si nos fijamos bien, no todas las columnas están bien escritas, o no aportan nada porque solamente contienen valores NaN, como en el caso de \"Unnamed: 22\" y \"Unnamed: 23\",  y eso nos puede llevar a errores mas adelante. Así que vamos a mofificar y eliminar las variables que no nos vayan a hacer falta o no aporten ningún valor al estudio."
   ]
  },
  {
   "cell_type": "code",
   "execution_count": 256,
   "metadata": {},
   "outputs": [],
   "source": [
    "# Tenemos dos columnas con un espacio al final y otra con paréntesis, mayúsculas... Vamos a renombrarlas\n",
    "\n",
    "print('Nombre columnas:',data.columns)"
   ]
  },
  {
   "cell_type": "markdown",
   "metadata": {},
   "source": [
    "### Arreglamos eso:"
   ]
  },
  {
   "cell_type": "code",
   "execution_count": 4,
   "metadata": {},
   "outputs": [],
   "source": [
    "data.rename(columns = {'Sex ':'Sex'}, inplace = True)\n",
    "data.rename(columns = {'Species ':'Species'}, inplace = True)\n",
    "data.rename(columns = {'Fatal (Y/N)':'Fatal'}, inplace = True)"
   ]
  },
  {
   "cell_type": "markdown",
   "metadata": {},
   "source": [
    "## Ahora comprobamos los países donde se dan mas casos de ataques de tiburones. El Top 5."
   ]
  },
  {
   "cell_type": "code",
   "execution_count": 6,
   "metadata": {},
   "outputs": [
    {
     "data": {
      "text/plain": [
       "[(nan, 19471),\n",
       " ('USA', 2229),\n",
       " ('AUSTRALIA', 1338),\n",
       " ('SOUTH AFRICA', 579),\n",
       " ('PAPUA NEW GUINEA', 134),\n",
       " ('NEW ZEALAND', 128)]"
      ]
     },
     "execution_count": 6,
     "metadata": {},
     "output_type": "execute_result"
    }
   ],
   "source": [
    "country = data['Country']\n",
    "Counter(country).most_common(6)"
   ]
  },
  {
   "cell_type": "code",
   "execution_count": 7,
   "metadata": {},
   "outputs": [],
   "source": [
    "country = country.dropna()\n",
    "top_country = dict(Counter(country).most_common(5))\n",
    "y_count= (top_country.keys())\n",
    "x_count= top_country.values()\n",
    "y_pos_count = np.arange(len(y_count))"
   ]
  },
  {
   "cell_type": "code",
   "execution_count": 8,
   "metadata": {},
   "outputs": [
    {
     "data": {
      "image/png": "[encoded data removed]",
      "text/plain": [
       "<Figure size 1000x600 with 1 Axes>"
      ]
     },
     "metadata": {},
     "output_type": "display_data"
    }
   ],
   "source": [
    "plt.style.use('ggplot')\n",
    "plt.rcParams['figure.figsize'] = [10, 6]\n",
    "fig, ax = plt.subplots()\n",
    "ax.barh(y_pos_count, x_count, align='center')\n",
    "ax.set_yticks(y_pos_count)\n",
    "ax.set_yticklabels(y_count)\n",
    "ax.invert_yaxis()  \n",
    "ax.set_xlabel('Número de casos')\n",
    "ax.set(xlim=[0, 2500])\n",
    "ax.set_title('Países con mayor número de casos a nivel Mundial');"
   ]
  },
  {
   "cell_type": "markdown",
   "metadata": {},
   "source": [
    "### El País que vamor a centrar nuestro análisis exploratorio será USA"
   ]
  },
  {
   "cell_type": "code",
   "execution_count": 8,
   "metadata": {},
   "outputs": [
    {
     "name": "stdout",
     "output_type": "stream",
     "text": [
      "Los número de registros de ataques de tiburón en USA son 2229\n"
     ]
    }
   ],
   "source": [
    "# Vamos a filtrar el dataset por el país con el que nos vamos a quedar para el análisis\n",
    "\n",
    "country = 'USA'\n",
    "df_country_filtered = data[data['Country'] == country]\n",
    "\n",
    "count_num_country_filtered = len(df_country_filtered)\n",
    "print(f'Los número de registros de ataques de tiburón en {country} son {count_num_country_filtered}')"
   ]
  },
  {
   "attachments": {},
   "cell_type": "markdown",
   "metadata": {},
   "source": [
    "## **Preprocesamiento de datos**"
   ]
  },
  {
   "attachments": {},
   "cell_type": "markdown",
   "metadata": {},
   "source": [
    "#### Primero vamos a eliminar las variables con las que no vamos a trabajar. Ya sea porque no aportan nada, o porque sólo tienen valores nulos, ect..."
   ]
  },
  {
   "attachments": {},
   "cell_type": "markdown",
   "metadata": {},
   "source": [
    "##### Borramos las columnas que no nos interesan para el estudio, haciendo una copia para que no perder es dataset original"
   ]
  },
  {
   "cell_type": "code",
   "execution_count": 9,
   "metadata": {},
   "outputs": [],
   "source": [
    "data_USA = df_country_filtered.copy()\n",
    "\n",
    "drop_columns = ['Unnamed: 22',\n",
    "         'Unnamed: 23',\n",
    "         'Case Number',\n",
    "         'Name',\n",
    "         'Investigator or Source',\n",
    "         'pdf',\n",
    "         'href formula',\n",
    "         'href',\n",
    "         'Case Number.1',\n",
    "         'Case Number.2',\n",
    "         'Injury',\n",
    "         'original order',\n",
    "         'Time',\n",
    "         'Location',\n",
    "         'Area',\n",
    "         'Type']\n",
    "         \n",
    "\n",
    "data_USA.drop(drop_columns, axis=1, inplace=True)"
   ]
  },
  {
   "cell_type": "code",
   "execution_count": 37,
   "metadata": {},
   "outputs": [
    {
     "name": "stdout",
     "output_type": "stream",
     "text": [
      "LAS COLUMNAS QUE AHORA NOS QUEDAN SON: Index(['Date', 'Year', 'Country', 'Activity', 'Sex', 'Age', 'Fatal',\n",
      "       'Species'],\n",
      "      dtype='object')\n"
     ]
    }
   ],
   "source": [
    "print(f'LAS COLUMNAS QUE AHORA NOS QUEDAN SON: {data_USA.columns}')"
   ]
  },
  {
   "cell_type": "code",
   "execution_count": 16,
   "metadata": {},
   "outputs": [],
   "source": [
    "for i in data_USA.columns:\n",
    "     print(str(i) + ':' + str(data_USA[i].unique()) + '\\n' )"
   ]
  },
  {
   "attachments": {},
   "cell_type": "markdown",
   "metadata": {},
   "source": [
    "## Limpieza de Nulos"
   ]
  },
  {
   "cell_type": "code",
   "execution_count": 10,
   "metadata": {},
   "outputs": [
    {
     "data": {
      "text/plain": [
       "Date          0\n",
       "Year          0\n",
       "Country       0\n",
       "Activity    134\n",
       "Sex          98\n",
       "Age         727\n",
       "Fatal       188\n",
       "Species     906\n",
       "dtype: int64"
      ]
     },
     "execution_count": 10,
     "metadata": {},
     "output_type": "execute_result"
    }
   ],
   "source": [
    "# Aqui vamos ha hacer un conteo de datos nulos en el nuevo dataset con los datos filtrados por el país elegido. USA\n",
    "\n",
    "data_USA.isnull().sum()"
   ]
  },
  {
   "attachments": {},
   "cell_type": "markdown",
   "metadata": {},
   "source": [
    "### Vamos a crear una función que nos permita visualizar las columnas que contienen más datos nulos mediante una gráfica"
   ]
  },
  {
   "cell_type": "code",
   "execution_count": 39,
   "metadata": {},
   "outputs": [
    {
     "data": {
      "image/png": "[encoded data removed]",
      "text/plain": [
       "<Figure size 800x600 with 1 Axes>"
      ]
     },
     "metadata": {},
     "output_type": "display_data"
    }
   ],
   "source": [
    "plt.style.use(\"seaborn-white\")\n",
    "\n",
    "def plot_nas(df: pd.DataFrame):\n",
    "    if df.isnull().sum().sum() != 0:\n",
    "        na_df = (df.isnull().sum() / len(df)) * 100      \n",
    "        na_df = na_df.drop(na_df[na_df == 0].index).sort_values(ascending=False)\n",
    "        missing_data = pd.DataFrame({'Porcentaje de Nulos %' :na_df})\n",
    "        missing_data.plot(kind = \"barh\", title=\"Proporción de Nulos por Columnas\", color='blue', alpha=1., figsize=(8, 6))\n",
    "        plt.show()\n",
    "    else:\n",
    "        print('No Nas found')\n",
    "plot_nas(data_USA)"
   ]
  },
  {
   "attachments": {},
   "cell_type": "markdown",
   "metadata": {},
   "source": [
    "#### Ahora vamos a proceder a rellenar esos valores nulos o missing que contienen las variables visualizadas y modificar algunas variables cambiándole el tipo a numérico para poder trabajarlas"
   ]
  },
  {
   "cell_type": "code",
   "execution_count": 66,
   "metadata": {},
   "outputs": [
    {
     "data": {
      "text/plain": [
       "Date         object\n",
       "Year          int64\n",
       "Country      object\n",
       "Activity     object\n",
       "Sex          object\n",
       "Age         float64\n",
       "Fatal        object\n",
       "Species      object\n",
       "dtype: object"
      ]
     },
     "execution_count": 66,
     "metadata": {},
     "output_type": "execute_result"
    }
   ],
   "source": [
    "data_USA.dtypes"
   ]
  },
  {
   "attachments": {},
   "cell_type": "markdown",
   "metadata": {},
   "source": [
    "### Comenzamos con la variable \"Date\""
   ]
  },
  {
   "cell_type": "code",
   "execution_count": 11,
   "metadata": {},
   "outputs": [],
   "source": [
    "def date_convert(date):\n",
    "    months = ['Jan', 'Feb', 'Mar', 'Apr', 'May', 'Jun', 'Jul', 'Aug', 'Sep', 'Oct', 'Nov', 'Dec']\n",
    "    num_months = ['01', '02', '03', '04', '05', '06', '07', '08', '09', '10', '11', '12']\n",
    "    \n",
    "    date = str(date)\n",
    "    if (len(date) == 11 and date[2] == '-'):\n",
    "        for i in range(len(months)):\n",
    "            date = date.replace(months[i], num_months[i])\n",
    "        return date\n",
    "    else:\n",
    "        return np.nan"
   ]
  },
  {
   "cell_type": "code",
   "execution_count": 12,
   "metadata": {},
   "outputs": [],
   "source": [
    "data_USA['Date'] = data_USA['Date'].apply(date_convert)"
   ]
  },
  {
   "cell_type": "code",
   "execution_count": 13,
   "metadata": {},
   "outputs": [],
   "source": [
    "data_USA = data_USA[~data_USA['Date'].isna()]"
   ]
  },
  {
   "attachments": {},
   "cell_type": "markdown",
   "metadata": {},
   "source": [
    "### Variable \"Year\""
   ]
  },
  {
   "cell_type": "code",
   "execution_count": 14,
   "metadata": {},
   "outputs": [],
   "source": [
    "def year_covert(year):\n",
    "    if year > 1945.0: \n",
    "        return year\n",
    "    else:\n",
    "        return np.nan"
   ]
  },
  {
   "cell_type": "code",
   "execution_count": 15,
   "metadata": {},
   "outputs": [],
   "source": [
    "data_USA['Year'] = data_USA['Year'].apply(year_covert)"
   ]
  },
  {
   "cell_type": "code",
   "execution_count": 16,
   "metadata": {},
   "outputs": [],
   "source": [
    "data_USA = data_USA[~data_USA['Year'].isna()]"
   ]
  },
  {
   "cell_type": "code",
   "execution_count": 17,
   "metadata": {},
   "outputs": [],
   "source": [
    "data_USA = data_USA.astype({'Year':'int'})"
   ]
  },
  {
   "attachments": {},
   "cell_type": "markdown",
   "metadata": {},
   "source": [
    "### Variable \"Sex\""
   ]
  },
  {
   "cell_type": "code",
   "execution_count": 18,
   "metadata": {},
   "outputs": [],
   "source": [
    "def sex_covert(sex):\n",
    "    if sex == 'M' or sex == 'F':\n",
    "        return sex\n",
    "    else:\n",
    "        return np.nan"
   ]
  },
  {
   "cell_type": "code",
   "execution_count": 19,
   "metadata": {},
   "outputs": [],
   "source": [
    "data_USA['Sex'] = data_USA['Sex'].apply(sex_covert)"
   ]
  },
  {
   "cell_type": "code",
   "execution_count": 20,
   "metadata": {},
   "outputs": [
    {
     "data": {
      "text/html": [
       "<div>\n",
       "<style scoped>\n",
       "    .dataframe tbody tr th:only-of-type {\n",
       "        vertical-align: middle;\n",
       "    }\n",
       "\n",
       "    .dataframe tbody tr th {\n",
       "        vertical-align: top;\n",
       "    }\n",
       "\n",
       "    .dataframe thead th {\n",
       "        text-align: right;\n",
       "    }\n",
       "</style>\n",
       "<table border=\"1\" class=\"dataframe\">\n",
       "  <thead>\n",
       "    <tr style=\"text-align: right;\">\n",
       "      <th></th>\n",
       "      <th>Sex</th>\n",
       "    </tr>\n",
       "  </thead>\n",
       "  <tbody>\n",
       "    <tr>\n",
       "      <th>0</th>\n",
       "      <td>M</td>\n",
       "    </tr>\n",
       "  </tbody>\n",
       "</table>\n",
       "</div>"
      ],
      "text/plain": [
       "  Sex\n",
       "0   M"
      ]
     },
     "execution_count": 20,
     "metadata": {},
     "output_type": "execute_result"
    }
   ],
   "source": [
    "data_USA[['Sex']].mode()"
   ]
  },
  {
   "cell_type": "code",
   "execution_count": 20,
   "metadata": {},
   "outputs": [],
   "source": [
    "data_USA['Sex'].fillna('M', inplace=True)"
   ]
  },
  {
   "attachments": {},
   "cell_type": "markdown",
   "metadata": {},
   "source": [
    "### Variable \"Age\""
   ]
  },
  {
   "cell_type": "code",
   "execution_count": 21,
   "metadata": {},
   "outputs": [],
   "source": [
    "def age_covert(age):\n",
    "    try:\n",
    "        age = int(age)\n",
    "    except ValueError:\n",
    "        age = 0\n",
    "        \n",
    "    if (age > 0 and age <= 100):\n",
    "        return age\n",
    "    else:\n",
    "        return np.nan"
   ]
  },
  {
   "cell_type": "code",
   "execution_count": 22,
   "metadata": {},
   "outputs": [],
   "source": [
    "data_USA['Age'].fillna(0, inplace=True)"
   ]
  },
  {
   "cell_type": "code",
   "execution_count": 23,
   "metadata": {},
   "outputs": [],
   "source": [
    "data_USA['Age'] = data_USA['Age'].apply(age_covert)"
   ]
  },
  {
   "cell_type": "code",
   "execution_count": 24,
   "metadata": {},
   "outputs": [],
   "source": [
    "data_USA = data_USA[~data_USA['Age'].isna()]"
   ]
  },
  {
   "cell_type": "code",
   "execution_count": 25,
   "metadata": {},
   "outputs": [],
   "source": [
    "data_USA = data_USA.astype({'Age':'int'})"
   ]
  },
  {
   "attachments": {},
   "cell_type": "markdown",
   "metadata": {},
   "source": [
    "### Variable \"Fatal\""
   ]
  },
  {
   "cell_type": "code",
   "execution_count": 26,
   "metadata": {},
   "outputs": [],
   "source": [
    "data_USA = data_USA.replace({'Fatal':{' N':'N','N ':'N'}})"
   ]
  },
  {
   "cell_type": "code",
   "execution_count": 27,
   "metadata": {},
   "outputs": [],
   "source": [
    "def fatal_convert(fatal):\n",
    "    if fatal == 'N' or fatal == 'Y':\n",
    "        return fatal\n",
    "    else:\n",
    "        return np.nan"
   ]
  },
  {
   "cell_type": "code",
   "execution_count": 28,
   "metadata": {},
   "outputs": [],
   "source": [
    "data_USA['Fatal'] = data_USA['Fatal'].apply(fatal_convert)"
   ]
  },
  {
   "cell_type": "code",
   "execution_count": 45,
   "metadata": {},
   "outputs": [
    {
     "data": {
      "text/html": [
       "<div>\n",
       "<style scoped>\n",
       "    .dataframe tbody tr th:only-of-type {\n",
       "        vertical-align: middle;\n",
       "    }\n",
       "\n",
       "    .dataframe tbody tr th {\n",
       "        vertical-align: top;\n",
       "    }\n",
       "\n",
       "    .dataframe thead th {\n",
       "        text-align: right;\n",
       "    }\n",
       "</style>\n",
       "<table border=\"1\" class=\"dataframe\">\n",
       "  <thead>\n",
       "    <tr style=\"text-align: right;\">\n",
       "      <th></th>\n",
       "      <th>Fatal</th>\n",
       "    </tr>\n",
       "  </thead>\n",
       "  <tbody>\n",
       "    <tr>\n",
       "      <th>0</th>\n",
       "      <td>N</td>\n",
       "    </tr>\n",
       "  </tbody>\n",
       "</table>\n",
       "</div>"
      ],
      "text/plain": [
       "  Fatal\n",
       "0     N"
      ]
     },
     "execution_count": 45,
     "metadata": {},
     "output_type": "execute_result"
    }
   ],
   "source": [
    "data_USA[['Fatal']].mode()"
   ]
  },
  {
   "cell_type": "code",
   "execution_count": 29,
   "metadata": {},
   "outputs": [],
   "source": [
    "data_USA['Fatal'].fillna('N', inplace=True)"
   ]
  },
  {
   "attachments": {},
   "cell_type": "markdown",
   "metadata": {},
   "source": [
    "### Variable \"Activity\""
   ]
  },
  {
   "cell_type": "code",
   "execution_count": 87,
   "metadata": {},
   "outputs": [
    {
     "name": "stdout",
     "output_type": "stream",
     "text": [
      "Surfing                                                      524\n",
      "Swimming                                                     219\n",
      "Wading                                                        92\n",
      "Fishing                                                       56\n",
      "Standing                                                      46\n",
      "                                                            ... \n",
      "Wading in school of baitfish                                   1\n",
      "Swimming with dolphins                                         1\n",
      "Lying prone in 2' of water                                     1\n",
      "Wading with surfboard                                          1\n",
      "C47 aircraft carrying 5,000 lbs of ice ditched in the sea      1\n",
      "Name: Activity, Length: 366, dtype: int64\n"
     ]
    }
   ],
   "source": [
    "print(data_USA['Activity'].value_counts())"
   ]
  },
  {
   "cell_type": "code",
   "execution_count": 30,
   "metadata": {},
   "outputs": [],
   "source": [
    "data_USA.loc[data_USA['Activity'].str.contains('surf', case=False, na=False), 'Activity'] = 'Surfing'\n",
    "data_USA.loc[data_USA['Activity'].str.contains('boarding', case=False, na=False), 'Activity'] = 'Surfing'\n",
    "data_USA.loc[data_USA['Activity'].str.contains('swim', case=False, na=False), 'Activity'] = 'Swimming'\n",
    "data_USA.loc[data_USA['Activity'].str.contains('fishing', case=False, na=False), 'Activity'] = 'Fishing'\n",
    "data_USA.loc[data_USA['Activity'].str.contains('aquarium', case=False, na=False), 'Activity'] = 'Fishing'\n",
    "data_USA.loc[data_USA['Activity'].str.contains('hunt', case=False, na=False), 'Activity'] = 'Fishing'\n",
    "data_USA.loc[data_USA['Activity'].str.contains('trap', case=False, na=False), 'Activity'] = 'Fishing'\n",
    "data_USA.loc[data_USA['Activity'].str.contains('walk', case=False, na=False), 'Activity'] = 'Swimming'\n",
    "data_USA.loc[data_USA['Activity'].str.contains('wading', case=False, na=False), 'Activity'] = 'Swimming'\n",
    "data_USA.loc[data_USA['Activity'].str.contains('float', case=False, na=False), 'Activity'] = 'Swimming'\n",
    "data_USA.loc[data_USA['Activity'].str.contains('Treading water', case=False, na=False), 'Activity'] = 'Swimming'\n",
    "data_USA.loc[data_USA['Activity'].str.contains('pull', case=False, na=False), 'Activity'] = 'Fishing'\n",
    "data_USA.loc[data_USA['Activity'].str.contains('pick', case=False, na=False), 'Activity'] = 'Fishing'\n",
    "data_USA.loc[data_USA['Activity'].str.contains('bath', case=False, na=False), 'Activity'] = 'Swimming'\n",
    "data_USA.loc[data_USA['Activity'].str.contains('diving', case=False, na=False), 'Activity'] = 'Diving'\n",
    "data_USA.loc[data_USA['Activity'].str.contains('snorkel', case=False, na=False), 'Activity'] = 'Diving'"
   ]
  },
  {
   "cell_type": "code",
   "execution_count": 31,
   "metadata": {},
   "outputs": [
    {
     "data": {
      "text/plain": [
       "Surfing                    620\n",
       "Swimming                   340\n",
       "Fishing                    114\n",
       "Diving                      86\n",
       "Standing                    43\n",
       "Kayaking                    11\n",
       "Playing                      6\n",
       "Jumping                      4\n",
       "Escaping from Alacatraz      3\n",
       "Clamming                     2\n",
       "Name: Activity, dtype: int64"
      ]
     },
     "execution_count": 31,
     "metadata": {},
     "output_type": "execute_result"
    }
   ],
   "source": [
    "data_USA['Activity'].value_counts().head(10)"
   ]
  },
  {
   "cell_type": "code",
   "execution_count": 32,
   "metadata": {},
   "outputs": [],
   "source": [
    "def activity_convert(activity):\n",
    "    if activity == 'Surfing' or activity == 'Swimming' or activity == 'Fishing' or activity == 'Diving' or activity == 'Standing' or activity == 'Kayaking' or activity == 'Playing' or activity == 'Jumping' or activity == 'Tagging sharks' or activity == 'Canoeing':\n",
    "        return activity\n",
    "    else:\n",
    "        return np.nan"
   ]
  },
  {
   "cell_type": "code",
   "execution_count": 33,
   "metadata": {},
   "outputs": [],
   "source": [
    "data_USA['Activity'] = data_USA['Activity'].apply(activity_convert)"
   ]
  },
  {
   "cell_type": "code",
   "execution_count": 34,
   "metadata": {},
   "outputs": [],
   "source": [
    "data_USA['Activity'].fillna('Fishing', inplace=True)"
   ]
  },
  {
   "attachments": {},
   "cell_type": "markdown",
   "metadata": {},
   "source": [
    "### Variable \"Species\""
   ]
  },
  {
   "cell_type": "code",
   "execution_count": 44,
   "metadata": {},
   "outputs": [
    {
     "data": {
      "text/plain": [
       "White shark       1215\n",
       "Tiger shark         63\n",
       "Bull shark          43\n",
       "Blacktip shark       7\n",
       "Nurse shark          5\n",
       "Name: Species, dtype: int64"
      ]
     },
     "execution_count": 44,
     "metadata": {},
     "output_type": "execute_result"
    }
   ],
   "source": [
    "data_USA['Species'].value_counts().head(6)"
   ]
  },
  {
   "cell_type": "code",
   "execution_count": 37,
   "metadata": {},
   "outputs": [],
   "source": [
    "def species_convert(species):\n",
    "    if species == 'Nurse shark' or species == 'White shark' or species == 'Tiger shark' or species == 'Shark involvement not confirmed' or species == 'Blacktip shark' or species == 'Bull shark' or species == \"4' shark\" or species == \"6' shark\":\n",
    "        return species\n",
    "    else:\n",
    "        return np.nan"
   ]
  },
  {
   "cell_type": "code",
   "execution_count": 38,
   "metadata": {},
   "outputs": [],
   "source": [
    "data_USA['Species'] = data_USA['Species'].apply(species_convert)"
   ]
  },
  {
   "cell_type": "code",
   "execution_count": 43,
   "metadata": {},
   "outputs": [],
   "source": [
    "data_USA['Species'].fillna('White shark', inplace=True)"
   ]
  },
  {
   "cell_type": "code",
   "execution_count": 41,
   "metadata": {},
   "outputs": [],
   "source": [
    "data_USA = data_USA.replace({'Species':{\"4' shark\":'Tiger shark'}})\n",
    "data_USA = data_USA.replace({'Species':{\"Shark involvement not confirmed\":'Bull shark'}})\n",
    "data_USA = data_USA.replace({'Species':{\"6' shark\":'Tiger shark'}})"
   ]
  },
  {
   "attachments": {},
   "cell_type": "markdown",
   "metadata": {},
   "source": [
    "### Ahora podemos comprobar como hemos limpiado los datos de cada una de las columnas, y nos hemos quedado sin ningún valor nulo en todas ellas"
   ]
  },
  {
   "cell_type": "code",
   "execution_count": 45,
   "metadata": {},
   "outputs": [
    {
     "data": {
      "text/html": [
       "<div>\n",
       "<style scoped>\n",
       "    .dataframe tbody tr th:only-of-type {\n",
       "        vertical-align: middle;\n",
       "    }\n",
       "\n",
       "    .dataframe tbody tr th {\n",
       "        vertical-align: top;\n",
       "    }\n",
       "\n",
       "    .dataframe thead th {\n",
       "        text-align: right;\n",
       "    }\n",
       "</style>\n",
       "<table border=\"1\" class=\"dataframe\">\n",
       "  <thead>\n",
       "    <tr style=\"text-align: right;\">\n",
       "      <th></th>\n",
       "      <th>Date</th>\n",
       "      <th>Year</th>\n",
       "      <th>Country</th>\n",
       "      <th>Activity</th>\n",
       "      <th>Sex</th>\n",
       "      <th>Age</th>\n",
       "      <th>Fatal</th>\n",
       "      <th>Species</th>\n",
       "    </tr>\n",
       "  </thead>\n",
       "  <tbody>\n",
       "    <tr>\n",
       "      <th>0</th>\n",
       "      <td>25-06-2018</td>\n",
       "      <td>2018</td>\n",
       "      <td>USA</td>\n",
       "      <td>Fishing</td>\n",
       "      <td>F</td>\n",
       "      <td>57</td>\n",
       "      <td>N</td>\n",
       "      <td>White shark</td>\n",
       "    </tr>\n",
       "    <tr>\n",
       "      <th>1</th>\n",
       "      <td>18-06-2018</td>\n",
       "      <td>2018</td>\n",
       "      <td>USA</td>\n",
       "      <td>Standing</td>\n",
       "      <td>F</td>\n",
       "      <td>11</td>\n",
       "      <td>N</td>\n",
       "      <td>White shark</td>\n",
       "    </tr>\n",
       "    <tr>\n",
       "      <th>2</th>\n",
       "      <td>09-06-2018</td>\n",
       "      <td>2018</td>\n",
       "      <td>USA</td>\n",
       "      <td>Surfing</td>\n",
       "      <td>M</td>\n",
       "      <td>48</td>\n",
       "      <td>N</td>\n",
       "      <td>White shark</td>\n",
       "    </tr>\n",
       "    <tr>\n",
       "      <th>7</th>\n",
       "      <td>27-05-2018</td>\n",
       "      <td>2018</td>\n",
       "      <td>USA</td>\n",
       "      <td>Fishing</td>\n",
       "      <td>M</td>\n",
       "      <td>52</td>\n",
       "      <td>N</td>\n",
       "      <td>White shark</td>\n",
       "    </tr>\n",
       "    <tr>\n",
       "      <th>8</th>\n",
       "      <td>26-05-2018</td>\n",
       "      <td>2018</td>\n",
       "      <td>USA</td>\n",
       "      <td>Swimming</td>\n",
       "      <td>M</td>\n",
       "      <td>15</td>\n",
       "      <td>N</td>\n",
       "      <td>White shark</td>\n",
       "    </tr>\n",
       "    <tr>\n",
       "      <th>...</th>\n",
       "      <td>...</td>\n",
       "      <td>...</td>\n",
       "      <td>...</td>\n",
       "      <td>...</td>\n",
       "      <td>...</td>\n",
       "      <td>...</td>\n",
       "      <td>...</td>\n",
       "      <td>...</td>\n",
       "    </tr>\n",
       "    <tr>\n",
       "      <th>4509</th>\n",
       "      <td>25-07-1949</td>\n",
       "      <td>1949</td>\n",
       "      <td>USA</td>\n",
       "      <td>Swimming</td>\n",
       "      <td>M</td>\n",
       "      <td>16</td>\n",
       "      <td>N</td>\n",
       "      <td>White shark</td>\n",
       "    </tr>\n",
       "    <tr>\n",
       "      <th>4510</th>\n",
       "      <td>16-07-1949</td>\n",
       "      <td>1949</td>\n",
       "      <td>USA</td>\n",
       "      <td>Fishing</td>\n",
       "      <td>M</td>\n",
       "      <td>16</td>\n",
       "      <td>N</td>\n",
       "      <td>White shark</td>\n",
       "    </tr>\n",
       "    <tr>\n",
       "      <th>4545</th>\n",
       "      <td>01-07-1948</td>\n",
       "      <td>1948</td>\n",
       "      <td>USA</td>\n",
       "      <td>Swimming</td>\n",
       "      <td>M</td>\n",
       "      <td>46</td>\n",
       "      <td>Y</td>\n",
       "      <td>White shark</td>\n",
       "    </tr>\n",
       "    <tr>\n",
       "      <th>4570</th>\n",
       "      <td>04-08-1947</td>\n",
       "      <td>1947</td>\n",
       "      <td>USA</td>\n",
       "      <td>Swimming</td>\n",
       "      <td>M</td>\n",
       "      <td>20</td>\n",
       "      <td>Y</td>\n",
       "      <td>White shark</td>\n",
       "    </tr>\n",
       "    <tr>\n",
       "      <th>4575</th>\n",
       "      <td>27-06-1947</td>\n",
       "      <td>1947</td>\n",
       "      <td>USA</td>\n",
       "      <td>Fishing</td>\n",
       "      <td>M</td>\n",
       "      <td>35</td>\n",
       "      <td>N</td>\n",
       "      <td>White shark</td>\n",
       "    </tr>\n",
       "  </tbody>\n",
       "</table>\n",
       "<p>1333 rows × 8 columns</p>\n",
       "</div>"
      ],
      "text/plain": [
       "            Date  Year Country  Activity Sex  Age Fatal      Species\n",
       "0     25-06-2018  2018     USA   Fishing   F   57     N  White shark\n",
       "1     18-06-2018  2018     USA  Standing   F   11     N  White shark\n",
       "2     09-06-2018  2018     USA   Surfing   M   48     N  White shark\n",
       "7     27-05-2018  2018     USA   Fishing   M   52     N  White shark\n",
       "8     26-05-2018  2018     USA  Swimming   M   15     N  White shark\n",
       "...          ...   ...     ...       ...  ..  ...   ...          ...\n",
       "4509  25-07-1949  1949     USA  Swimming   M   16     N  White shark\n",
       "4510  16-07-1949  1949     USA   Fishing   M   16     N  White shark\n",
       "4545  01-07-1948  1948     USA  Swimming   M   46     Y  White shark\n",
       "4570  04-08-1947  1947     USA  Swimming   M   20     Y  White shark\n",
       "4575  27-06-1947  1947     USA   Fishing   M   35     N  White shark\n",
       "\n",
       "[1333 rows x 8 columns]"
      ]
     },
     "execution_count": 45,
     "metadata": {},
     "output_type": "execute_result"
    }
   ],
   "source": [
    "data_USA"
   ]
  },
  {
   "cell_type": "code",
   "execution_count": 46,
   "metadata": {},
   "outputs": [
    {
     "data": {
      "text/plain": [
       "Date        0\n",
       "Year        0\n",
       "Country     0\n",
       "Activity    0\n",
       "Sex         0\n",
       "Age         0\n",
       "Fatal       0\n",
       "Species     0\n",
       "dtype: int64"
      ]
     },
     "execution_count": 46,
     "metadata": {},
     "output_type": "execute_result"
    }
   ],
   "source": [
    "data_USA.isnull().sum()"
   ]
  },
  {
   "cell_type": "markdown",
   "metadata": {},
   "source": [
    "### Creamos nuestro nuevo DataFrame reseteando los índices, para tenerlo ya con las columnas seleccionadas para nuestro estudio. Ahora ya están filtradas, limpias y corregidos errorer"
   ]
  },
  {
   "cell_type": "code",
   "execution_count": 47,
   "metadata": {},
   "outputs": [],
   "source": [
    "data_USA = data_USA.reset_index()\n",
    "data_USA.drop(['index'], axis=1 , inplace=True)"
   ]
  },
  {
   "cell_type": "code",
   "execution_count": 48,
   "metadata": {},
   "outputs": [
    {
     "data": {
      "text/plain": [
       "Date        0\n",
       "Year        0\n",
       "Country     0\n",
       "Activity    0\n",
       "Sex         0\n",
       "Age         0\n",
       "Fatal       0\n",
       "Species     0\n",
       "dtype: int64"
      ]
     },
     "execution_count": 48,
     "metadata": {},
     "output_type": "execute_result"
    }
   ],
   "source": [
    "data_USA.isnull().sum()"
   ]
  },
  {
   "cell_type": "code",
   "execution_count": 49,
   "metadata": {},
   "outputs": [
    {
     "name": "stdout",
     "output_type": "stream",
     "text": [
      "<class 'pandas.core.frame.DataFrame'>\n",
      "RangeIndex: 1333 entries, 0 to 1332\n",
      "Data columns (total 8 columns):\n",
      " #   Column    Non-Null Count  Dtype \n",
      "---  ------    --------------  ----- \n",
      " 0   Date      1333 non-null   object\n",
      " 1   Year      1333 non-null   int64 \n",
      " 2   Country   1333 non-null   object\n",
      " 3   Activity  1333 non-null   object\n",
      " 4   Sex       1333 non-null   object\n",
      " 5   Age       1333 non-null   int64 \n",
      " 6   Fatal     1333 non-null   object\n",
      " 7   Species   1333 non-null   object\n",
      "dtypes: int64(2), object(6)\n",
      "memory usage: 83.4+ KB\n"
     ]
    }
   ],
   "source": [
    "data_USA.info()"
   ]
  },
  {
   "cell_type": "code",
   "execution_count": 50,
   "metadata": {},
   "outputs": [
    {
     "data": {
      "text/html": [
       "<div>\n",
       "<style scoped>\n",
       "    .dataframe tbody tr th:only-of-type {\n",
       "        vertical-align: middle;\n",
       "    }\n",
       "\n",
       "    .dataframe tbody tr th {\n",
       "        vertical-align: top;\n",
       "    }\n",
       "\n",
       "    .dataframe thead th {\n",
       "        text-align: right;\n",
       "    }\n",
       "</style>\n",
       "<table border=\"1\" class=\"dataframe\">\n",
       "  <thead>\n",
       "    <tr style=\"text-align: right;\">\n",
       "      <th></th>\n",
       "      <th>Date</th>\n",
       "      <th>Year</th>\n",
       "      <th>Country</th>\n",
       "      <th>Activity</th>\n",
       "      <th>Sex</th>\n",
       "      <th>Age</th>\n",
       "      <th>Fatal</th>\n",
       "      <th>Species</th>\n",
       "    </tr>\n",
       "  </thead>\n",
       "  <tbody>\n",
       "    <tr>\n",
       "      <th>0</th>\n",
       "      <td>25-06-2018</td>\n",
       "      <td>2018</td>\n",
       "      <td>USA</td>\n",
       "      <td>Fishing</td>\n",
       "      <td>F</td>\n",
       "      <td>57</td>\n",
       "      <td>N</td>\n",
       "      <td>White shark</td>\n",
       "    </tr>\n",
       "    <tr>\n",
       "      <th>1</th>\n",
       "      <td>18-06-2018</td>\n",
       "      <td>2018</td>\n",
       "      <td>USA</td>\n",
       "      <td>Standing</td>\n",
       "      <td>F</td>\n",
       "      <td>11</td>\n",
       "      <td>N</td>\n",
       "      <td>White shark</td>\n",
       "    </tr>\n",
       "    <tr>\n",
       "      <th>2</th>\n",
       "      <td>09-06-2018</td>\n",
       "      <td>2018</td>\n",
       "      <td>USA</td>\n",
       "      <td>Surfing</td>\n",
       "      <td>M</td>\n",
       "      <td>48</td>\n",
       "      <td>N</td>\n",
       "      <td>White shark</td>\n",
       "    </tr>\n",
       "    <tr>\n",
       "      <th>3</th>\n",
       "      <td>27-05-2018</td>\n",
       "      <td>2018</td>\n",
       "      <td>USA</td>\n",
       "      <td>Fishing</td>\n",
       "      <td>M</td>\n",
       "      <td>52</td>\n",
       "      <td>N</td>\n",
       "      <td>White shark</td>\n",
       "    </tr>\n",
       "    <tr>\n",
       "      <th>4</th>\n",
       "      <td>26-05-2018</td>\n",
       "      <td>2018</td>\n",
       "      <td>USA</td>\n",
       "      <td>Swimming</td>\n",
       "      <td>M</td>\n",
       "      <td>15</td>\n",
       "      <td>N</td>\n",
       "      <td>White shark</td>\n",
       "    </tr>\n",
       "    <tr>\n",
       "      <th>...</th>\n",
       "      <td>...</td>\n",
       "      <td>...</td>\n",
       "      <td>...</td>\n",
       "      <td>...</td>\n",
       "      <td>...</td>\n",
       "      <td>...</td>\n",
       "      <td>...</td>\n",
       "      <td>...</td>\n",
       "    </tr>\n",
       "    <tr>\n",
       "      <th>1328</th>\n",
       "      <td>25-07-1949</td>\n",
       "      <td>1949</td>\n",
       "      <td>USA</td>\n",
       "      <td>Swimming</td>\n",
       "      <td>M</td>\n",
       "      <td>16</td>\n",
       "      <td>N</td>\n",
       "      <td>White shark</td>\n",
       "    </tr>\n",
       "    <tr>\n",
       "      <th>1329</th>\n",
       "      <td>16-07-1949</td>\n",
       "      <td>1949</td>\n",
       "      <td>USA</td>\n",
       "      <td>Fishing</td>\n",
       "      <td>M</td>\n",
       "      <td>16</td>\n",
       "      <td>N</td>\n",
       "      <td>White shark</td>\n",
       "    </tr>\n",
       "    <tr>\n",
       "      <th>1330</th>\n",
       "      <td>01-07-1948</td>\n",
       "      <td>1948</td>\n",
       "      <td>USA</td>\n",
       "      <td>Swimming</td>\n",
       "      <td>M</td>\n",
       "      <td>46</td>\n",
       "      <td>Y</td>\n",
       "      <td>White shark</td>\n",
       "    </tr>\n",
       "    <tr>\n",
       "      <th>1331</th>\n",
       "      <td>04-08-1947</td>\n",
       "      <td>1947</td>\n",
       "      <td>USA</td>\n",
       "      <td>Swimming</td>\n",
       "      <td>M</td>\n",
       "      <td>20</td>\n",
       "      <td>Y</td>\n",
       "      <td>White shark</td>\n",
       "    </tr>\n",
       "    <tr>\n",
       "      <th>1332</th>\n",
       "      <td>27-06-1947</td>\n",
       "      <td>1947</td>\n",
       "      <td>USA</td>\n",
       "      <td>Fishing</td>\n",
       "      <td>M</td>\n",
       "      <td>35</td>\n",
       "      <td>N</td>\n",
       "      <td>White shark</td>\n",
       "    </tr>\n",
       "  </tbody>\n",
       "</table>\n",
       "<p>1333 rows × 8 columns</p>\n",
       "</div>"
      ],
      "text/plain": [
       "            Date  Year Country  Activity Sex  Age Fatal      Species\n",
       "0     25-06-2018  2018     USA   Fishing   F   57     N  White shark\n",
       "1     18-06-2018  2018     USA  Standing   F   11     N  White shark\n",
       "2     09-06-2018  2018     USA   Surfing   M   48     N  White shark\n",
       "3     27-05-2018  2018     USA   Fishing   M   52     N  White shark\n",
       "4     26-05-2018  2018     USA  Swimming   M   15     N  White shark\n",
       "...          ...   ...     ...       ...  ..  ...   ...          ...\n",
       "1328  25-07-1949  1949     USA  Swimming   M   16     N  White shark\n",
       "1329  16-07-1949  1949     USA   Fishing   M   16     N  White shark\n",
       "1330  01-07-1948  1948     USA  Swimming   M   46     Y  White shark\n",
       "1331  04-08-1947  1947     USA  Swimming   M   20     Y  White shark\n",
       "1332  27-06-1947  1947     USA   Fishing   M   35     N  White shark\n",
       "\n",
       "[1333 rows x 8 columns]"
      ]
     },
     "execution_count": 50,
     "metadata": {},
     "output_type": "execute_result"
    }
   ],
   "source": [
    "data_USA"
   ]
  },
  {
   "attachments": {},
   "cell_type": "markdown",
   "metadata": {},
   "source": [
    "### **En este gráfico se muestra la cantidad de ataques de tuburones en USA desde 1945 hasta 2018.**"
   ]
  },
  {
   "cell_type": "code",
   "execution_count": 74,
   "metadata": {},
   "outputs": [
    {
     "data": {
      "image/png": "[encoded data removed]",
      "text/plain": [
       "<Figure size 1000x500 with 1 Axes>"
      ]
     },
     "metadata": {},
     "output_type": "display_data"
    }
   ],
   "source": [
    "year_attack = data_USA[data_USA['Year'] >= 1945]\n",
    "\n",
    "year_attack = year_attack.groupby('Year')['Date'].count().reset_index()\n",
    "\n",
    "plt.style.use(\"seaborn-white\")\n",
    "year_attack.plot(kind='line', x= \"Year\", y= \"Date\", title= \"Ataques de tiburón en USA en los últimos 70 años\", legend=False, linestyle='-', color='g', figsize=(10, 5))\n",
    "plt.xlabel('Año')\n",
    "plt.ylabel('Casos Resgistrados')\n",
    "\n",
    "plt.show();"
   ]
  },
  {
   "cell_type": "code",
   "execution_count": 75,
   "metadata": {},
   "outputs": [
    {
     "data": {
      "image/png": "[encoded data removed]",
      "text/plain": [
       "<Figure size 1500x500 with 1 Axes>"
      ]
     },
     "metadata": {},
     "output_type": "display_data"
    }
   ],
   "source": [
    "plt.figure(figsize = (15,5))\n",
    "sns.histplot(data=data_USA, x=\"Year\", bins=65)\n",
    "plt.xlabel('Año')\n",
    "plt.ylabel('Casos Resgistrados')\n",
    "plt.show();"
   ]
  },
  {
   "attachments": {},
   "cell_type": "markdown",
   "metadata": {},
   "source": [
    "### **Aqui vamos a mostrar los ataques registrados en USA entre 2002 y 2018, siendo este último año, del último que se tienen registros**"
   ]
  },
  {
   "cell_type": "code",
   "execution_count": 117,
   "metadata": {},
   "outputs": [
    {
     "data": {
      "image/png": "[encoded data removed]",
      "text/plain": [
       "<Figure size 1000x500 with 1 Axes>"
      ]
     },
     "metadata": {},
     "output_type": "display_data"
    }
   ],
   "source": [
    "year_attack2 = data_USA[data_USA['Year'] >= 2002]\n",
    "\n",
    "year_attack2 = year_attack2.groupby('Year')['Date'].count().reset_index()\n",
    "plt.style.use(\"seaborn-white\")\n",
    "year_attack2.plot(kind='line', x= \"Year\", y= \"Date\", title= \"Ataques de tiburón en USA entre 2002 y 2018\", legend=False, linestyle='-', color='g', figsize=(10, 5))\n",
    "plt.xlabel('Año')\n",
    "plt.ylabel('Casos Resgistrados')\n",
    "\n",
    "plt.show();"
   ]
  },
  {
   "attachments": {},
   "cell_type": "markdown",
   "metadata": {},
   "source": [
    "### **TOP TEN AÑOS CON MÁS ATAQUES**"
   ]
  },
  {
   "cell_type": "code",
   "execution_count": 122,
   "metadata": {},
   "outputs": [],
   "source": [
    "dates = pd.to_datetime(data_USA['Date'],dayfirst=True, errors='coerce')"
   ]
  },
  {
   "cell_type": "code",
   "execution_count": 127,
   "metadata": {},
   "outputs": [
    {
     "data": {
      "image/png": "[encoded data removed]",
      "text/plain": [
       "<Figure size 800x600 with 1 Axes>"
      ]
     },
     "metadata": {},
     "output_type": "display_data"
    }
   ],
   "source": [
    "year = dates.dropna().map(lambda x:x.year)\n",
    "year_counter = Counter(year).most_common(10)\n",
    "year_index = [year[0] for year in year_counter]\n",
    "year_values = [year[1] for year in year_counter]\n",
    "\n",
    "fig,ax = plt.subplots(figsize=(8,6))\n",
    "sns.barplot(x = year_index,y=year_values,ax=ax)\n",
    "plt.title('TOP TEN AÑOS CON MÁS ATAQUES')\n",
    "plt.xlabel('Año')\n",
    "plt.ylabel('Casos')\n",
    "plt.show();"
   ]
  },
  {
   "attachments": {},
   "cell_type": "markdown",
   "metadata": {},
   "source": [
    "### **Proporción de Víctimas según Sexo y Año**"
   ]
  },
  {
   "cell_type": "code",
   "execution_count": 104,
   "metadata": {},
   "outputs": [
    {
     "data": {
      "image/png": "[encoded data removed]",
      "text/plain": [
       "<Figure size 1000x800 with 1 Axes>"
      ]
     },
     "metadata": {},
     "output_type": "display_data"
    }
   ],
   "source": [
    "sns.set_style(\"darkgrid\", {\"grid.color\": \".6\", \"grid.linestyle\": \":\"})\n",
    "fig, ax = plt.subplots(figsize=(10, 8))\n",
    "sns.histplot(data=data_USA, x=\"Year\", kde=True, hue=\"Sex\", palette=[\"crimson\", \"navy\"], alpha=0.5, ax=ax)\n",
    "plt.xticks(rotation=60)\n",
    "plt.xlabel('Año')\n",
    "plt.ylabel('Casos Resgistrados')\n",
    "plt.title('Proporción de Víctimas según Sexo y Año', fontsize=16, fontweight='bold')\n",
    "plt.plot();"
   ]
  },
  {
   "attachments": {},
   "cell_type": "markdown",
   "metadata": {},
   "source": [
    "### **Proporción de Víctimas por Edad**"
   ]
  },
  {
   "cell_type": "code",
   "execution_count": 64,
   "metadata": {},
   "outputs": [
    {
     "data": {
      "image/png": "[encoded data removed]",
      "text/plain": [
       "<Figure size 900x600 with 1 Axes>"
      ]
     },
     "metadata": {},
     "output_type": "display_data"
    }
   ],
   "source": [
    "sns.set(rc={'axes.facecolor':'w', 'figure.facecolor':'lightblue'}, font_scale=0.9)\n",
    "data_USA['Age'].plot(kind='hist', figsize=(9, 6), alpha=0.9, bins=25, color='mediumseagreen')\n",
    "plt.xlabel('Edad (años)', fontsize=14)\n",
    "plt.ylabel('Número de Víctimas', fontsize=14)\n",
    "plt.title('Proporción de Víctimas por Edad', fontsize=16, fontweight='bold')\n",
    "plt.grid(color='k', axis='y', alpha=0.6, lw=0.3)\n",
    "data_USA.Fatal.value_counts()\n",
    "plt.show();"
   ]
  },
  {
   "attachments": {},
   "cell_type": "markdown",
   "metadata": {},
   "source": [
    "### **Proporción de Víctimas teniendo en cuenta la edad y el sexo**"
   ]
  },
  {
   "cell_type": "code",
   "execution_count": 62,
   "metadata": {},
   "outputs": [
    {
     "data": {
      "image/png": "[encoded data removed]",
      "text/plain": [
       "<Figure size 1000x500 with 1 Axes>"
      ]
     },
     "metadata": {},
     "output_type": "display_data"
    }
   ],
   "source": [
    "plt.figure(figsize = (10,5))\n",
    "sns.histplot(data=data_USA, x=\"Age\", kde=True, hue=\"Sex\", palette=[\"crimson\", \"navy\"], alpha=0.5, bins=38)\n",
    "plt.xlabel('Edad')\n",
    "plt.ylabel('Casos Resgistrados')\n",
    "plt.title('Proporción de Víctimas según su Edad y Sexo', fontsize=16, fontweight='bold')\n",
    "plt.plot();"
   ]
  },
  {
   "cell_type": "markdown",
   "metadata": {},
   "source": [
    "## Visualización de ataques de tiburón en USA según el género"
   ]
  },
  {
   "cell_type": "code",
   "execution_count": 53,
   "metadata": {},
   "outputs": [
    {
     "data": {
      "text/plain": [
       "M    1087\n",
       "F     246\n",
       "Name: Sex, dtype: int64"
      ]
     },
     "execution_count": 53,
     "metadata": {},
     "output_type": "execute_result"
    }
   ],
   "source": [
    "data_USA['Sex'].value_counts()"
   ]
  },
  {
   "cell_type": "code",
   "execution_count": 54,
   "metadata": {},
   "outputs": [],
   "source": [
    "data_USA.loc[data_USA['Sex'].str.contains(\"M\"), 'Sex'] = \"Hombres\""
   ]
  },
  {
   "cell_type": "code",
   "execution_count": 55,
   "metadata": {},
   "outputs": [],
   "source": [
    "data_USA.loc[data_USA['Sex'].str.contains(\"F\"), 'Sex'] = \"Mujeres\""
   ]
  },
  {
   "cell_type": "code",
   "execution_count": 56,
   "metadata": {},
   "outputs": [
    {
     "data": {
      "text/html": [
       "<div>\n",
       "<style scoped>\n",
       "    .dataframe tbody tr th:only-of-type {\n",
       "        vertical-align: middle;\n",
       "    }\n",
       "\n",
       "    .dataframe tbody tr th {\n",
       "        vertical-align: top;\n",
       "    }\n",
       "\n",
       "    .dataframe thead th {\n",
       "        text-align: right;\n",
       "    }\n",
       "</style>\n",
       "<table border=\"1\" class=\"dataframe\">\n",
       "  <thead>\n",
       "    <tr style=\"text-align: right;\">\n",
       "      <th></th>\n",
       "      <th>Gender</th>\n",
       "      <th>Count</th>\n",
       "    </tr>\n",
       "  </thead>\n",
       "  <tbody>\n",
       "    <tr>\n",
       "      <th>0</th>\n",
       "      <td>Hombres</td>\n",
       "      <td>1087</td>\n",
       "    </tr>\n",
       "    <tr>\n",
       "      <th>1</th>\n",
       "      <td>Mujeres</td>\n",
       "      <td>246</td>\n",
       "    </tr>\n",
       "  </tbody>\n",
       "</table>\n",
       "</div>"
      ],
      "text/plain": [
       "    Gender  Count\n",
       "0  Hombres   1087\n",
       "1  Mujeres    246"
      ]
     },
     "execution_count": 56,
     "metadata": {},
     "output_type": "execute_result"
    }
   ],
   "source": [
    "Sex_count = data_USA['Sex'].value_counts().reset_index().rename(columns={'index':'Gender','Sex':'Count'})\n",
    "\n",
    "Sex_count"
   ]
  },
  {
   "attachments": {},
   "cell_type": "markdown",
   "metadata": {},
   "source": [
    "### **Gráfica sobre la Propoción de casos de ataques de tiburones en Hombres y Mujeres en USA**"
   ]
  },
  {
   "cell_type": "code",
   "execution_count": 65,
   "metadata": {},
   "outputs": [],
   "source": [
    "fig = px.pie(data_frame = Sex_count,\n",
    "             values = 'Count',\n",
    "             names = 'Gender',\n",
    "             title = 'Ataques de Tiburón por Género en USA',\n",
    "             color_discrete_sequence=px.colors.qualitative.Set2\n",
    "             )"
   ]
  },
  {
   "cell_type": "code",
   "execution_count": 66,
   "metadata": {},
   "outputs": [
    {
     "data": {
      "application/vnd.plotly.v1+json": {
       "config": {
        "plotlyServerURL": "https://plot.ly"
       },
       "data": [
        {
         "domain": {
          "x": [
           0,
           1
          ],
          "y": [
           0,
           1
          ]
         },
         "hovertemplate": "Gender=%{label}<br>Count=%{value}<extra></extra>",
         "labels": [
          "Hombres",
          "Mujeres"
         ],
         "legendgroup": "",
         "name": "",
         "showlegend": true,
         "textinfo": "label+percent",
         "textposition": "outside",
         "type": "pie",
         "values": [
          1087,
          246
         ]
        }
       ],
       "layout": {
        "font": {
         "color": "black",
         "family": "Helvetica",
         "size": 18
        },
        "legend": {
         "title": {
          "text": "Género"
         },
         "tracegroupgap": 0
        },
        "paper_bgcolor": "moccasin",
        "piecolorway": [
         "rgb(102,194,165)",
         "rgb(252,141,98)",
         "rgb(141,160,203)",
         "rgb(231,138,195)",
         "rgb(166,216,84)",
         "rgb(255,217,47)",
         "rgb(229,196,148)",
         "rgb(179,179,179)"
        ],
        "template": {
         "data": {
          "bar": [
           {
            "error_x": {
             "color": "#2a3f5f"
            },
            "error_y": {
             "color": "#2a3f5f"
            },
            "marker": {
             "line": {
              "color": "#E5ECF6",
              "width": 0.5
             },
             "pattern": {
              "fillmode": "overlay",
              "size": 10,
              "solidity": 0.2
             }
            },
            "type": "bar"
           }
          ],
          "barpolar": [
           {
            "marker": {
             "line": {
              "color": "#E5ECF6",
              "width": 0.5
             },
             "pattern": {
              "fillmode": "overlay",
              "size": 10,
              "solidity": 0.2
             }
            },
            "type": "barpolar"
           }
          ],
          "carpet": [
           {
            "aaxis": {
             "endlinecolor": "#2a3f5f",
             "gridcolor": "white",
             "linecolor": "white",
             "minorgridcolor": "white",
             "startlinecolor": "#2a3f5f"
            },
            "baxis": {
             "endlinecolor": "#2a3f5f",
             "gridcolor": "white",
             "linecolor": "white",
             "minorgridcolor": "white",
             "startlinecolor": "#2a3f5f"
            },
            "type": "carpet"
           }
          ],
          "choropleth": [
           {
            "colorbar": {
             "outlinewidth": 0,
             "ticks": ""
            },
            "type": "choropleth"
           }
          ],
          "contour": [
           {
            "colorbar": {
             "outlinewidth": 0,
             "ticks": ""
            },
            "colorscale": [
             [
              0,
              "#0d0887"
             ],
             [
              0.1111111111111111,
              "#46039f"
             ],
             [
              0.2222222222222222,
              "#7201a8"
             ],
             [
              0.3333333333333333,
              "#9c179e"
             ],
             [
              0.4444444444444444,
              "#bd3786"
             ],
             [
              0.5555555555555556,
              "#d8576b"
             ],
             [
              0.6666666666666666,
              "#ed7953"
             ],
             [
              0.7777777777777778,
              "#fb9f3a"
             ],
             [
              0.8888888888888888,
              "#fdca26"
             ],
             [
              1,
              "#f0f921"
             ]
            ],
            "type": "contour"
           }
          ],
          "contourcarpet": [
           {
            "colorbar": {
             "outlinewidth": 0,
             "ticks": ""
            },
            "type": "contourcarpet"
           }
          ],
          "heatmap": [
           {
            "colorbar": {
             "outlinewidth": 0,
             "ticks": ""
            },
            "colorscale": [
             [
              0,
              "#0d0887"
             ],
             [
              0.1111111111111111,
              "#46039f"
             ],
             [
              0.2222222222222222,
              "#7201a8"
             ],
             [
              0.3333333333333333,
              "#9c179e"
             ],
             [
              0.4444444444444444,
              "#bd3786"
             ],
             [
              0.5555555555555556,
              "#d8576b"
             ],
             [
              0.6666666666666666,
              "#ed7953"
             ],
             [
              0.7777777777777778,
              "#fb9f3a"
             ],
             [
              0.8888888888888888,
              "#fdca26"
             ],
             [
              1,
              "#f0f921"
             ]
            ],
            "type": "heatmap"
           }
          ],
          "heatmapgl": [
           {
            "colorbar": {
             "outlinewidth": 0,
             "ticks": ""
            },
            "colorscale": [
             [
              0,
              "#0d0887"
             ],
             [
              0.1111111111111111,
              "#46039f"
             ],
             [
              0.2222222222222222,
              "#7201a8"
             ],
             [
              0.3333333333333333,
              "#9c179e"
             ],
             [
              0.4444444444444444,
              "#bd3786"
             ],
             [
              0.5555555555555556,
              "#d8576b"
             ],
             [
              0.6666666666666666,
              "#ed7953"
             ],
             [
              0.7777777777777778,
              "#fb9f3a"
             ],
             [
              0.8888888888888888,
              "#fdca26"
             ],
             [
              1,
              "#f0f921"
             ]
            ],
            "type": "heatmapgl"
           }
          ],
          "histogram": [
           {
            "marker": {
             "pattern": {
              "fillmode": "overlay",
              "size": 10,
              "solidity": 0.2
             }
            },
            "type": "histogram"
           }
          ],
          "histogram2d": [
           {
            "colorbar": {
             "outlinewidth": 0,
             "ticks": ""
            },
            "colorscale": [
             [
              0,
              "#0d0887"
             ],
             [
              0.1111111111111111,
              "#46039f"
             ],
             [
              0.2222222222222222,
              "#7201a8"
             ],
             [
              0.3333333333333333,
              "#9c179e"
             ],
             [
              0.4444444444444444,
              "#bd3786"
             ],
             [
              0.5555555555555556,
              "#d8576b"
             ],
             [
              0.6666666666666666,
              "#ed7953"
             ],
             [
              0.7777777777777778,
              "#fb9f3a"
             ],
             [
              0.8888888888888888,
              "#fdca26"
             ],
             [
              1,
              "#f0f921"
             ]
            ],
            "type": "histogram2d"
           }
          ],
          "histogram2dcontour": [
           {
            "colorbar": {
             "outlinewidth": 0,
             "ticks": ""
            },
            "colorscale": [
             [
              0,
              "#0d0887"
             ],
             [
              0.1111111111111111,
              "#46039f"
             ],
             [
              0.2222222222222222,
              "#7201a8"
             ],
             [
              0.3333333333333333,
              "#9c179e"
             ],
             [
              0.4444444444444444,
              "#bd3786"
             ],
             [
              0.5555555555555556,
              "#d8576b"
             ],
             [
              0.6666666666666666,
              "#ed7953"
             ],
             [
              0.7777777777777778,
              "#fb9f3a"
             ],
             [
              0.8888888888888888,
              "#fdca26"
             ],
             [
              1,
              "#f0f921"
             ]
            ],
            "type": "histogram2dcontour"
           }
          ],
          "mesh3d": [
           {
            "colorbar": {
             "outlinewidth": 0,
             "ticks": ""
            },
            "type": "mesh3d"
           }
          ],
          "parcoords": [
           {
            "line": {
             "colorbar": {
              "outlinewidth": 0,
              "ticks": ""
             }
            },
            "type": "parcoords"
           }
          ],
          "pie": [
           {
            "automargin": true,
            "type": "pie"
           }
          ],
          "scatter": [
           {
            "fillpattern": {
             "fillmode": "overlay",
             "size": 10,
             "solidity": 0.2
            },
            "type": "scatter"
           }
          ],
          "scatter3d": [
           {
            "line": {
             "colorbar": {
              "outlinewidth": 0,
              "ticks": ""
             }
            },
            "marker": {
             "colorbar": {
              "outlinewidth": 0,
              "ticks": ""
             }
            },
            "type": "scatter3d"
           }
          ],
          "scattercarpet": [
           {
            "marker": {
             "colorbar": {
              "outlinewidth": 0,
              "ticks": ""
             }
            },
            "type": "scattercarpet"
           }
          ],
          "scattergeo": [
           {
            "marker": {
             "colorbar": {
              "outlinewidth": 0,
              "ticks": ""
             }
            },
            "type": "scattergeo"
           }
          ],
          "scattergl": [
           {
            "marker": {
             "colorbar": {
              "outlinewidth": 0,
              "ticks": ""
             }
            },
            "type": "scattergl"
           }
          ],
          "scattermapbox": [
           {
            "marker": {
             "colorbar": {
              "outlinewidth": 0,
              "ticks": ""
             }
            },
            "type": "scattermapbox"
           }
          ],
          "scatterpolar": [
           {
            "marker": {
             "colorbar": {
              "outlinewidth": 0,
              "ticks": ""
             }
            },
            "type": "scatterpolar"
           }
          ],
          "scatterpolargl": [
           {
            "marker": {
             "colorbar": {
              "outlinewidth": 0,
              "ticks": ""
             }
            },
            "type": "scatterpolargl"
           }
          ],
          "scatterternary": [
           {
            "marker": {
             "colorbar": {
              "outlinewidth": 0,
              "ticks": ""
             }
            },
            "type": "scatterternary"
           }
          ],
          "surface": [
           {
            "colorbar": {
             "outlinewidth": 0,
             "ticks": ""
            },
            "colorscale": [
             [
              0,
              "#0d0887"
             ],
             [
              0.1111111111111111,
              "#46039f"
             ],
             [
              0.2222222222222222,
              "#7201a8"
             ],
             [
              0.3333333333333333,
              "#9c179e"
             ],
             [
              0.4444444444444444,
              "#bd3786"
             ],
             [
              0.5555555555555556,
              "#d8576b"
             ],
             [
              0.6666666666666666,
              "#ed7953"
             ],
             [
              0.7777777777777778,
              "#fb9f3a"
             ],
             [
              0.8888888888888888,
              "#fdca26"
             ],
             [
              1,
              "#f0f921"
             ]
            ],
            "type": "surface"
           }
          ],
          "table": [
           {
            "cells": {
             "fill": {
              "color": "#EBF0F8"
             },
             "line": {
              "color": "white"
             }
            },
            "header": {
             "fill": {
              "color": "#C8D4E3"
             },
             "line": {
              "color": "white"
             }
            },
            "type": "table"
           }
          ]
         },
         "layout": {
          "annotationdefaults": {
           "arrowcolor": "#2a3f5f",
           "arrowhead": 0,
           "arrowwidth": 1
          },
          "autotypenumbers": "strict",
          "coloraxis": {
           "colorbar": {
            "outlinewidth": 0,
            "ticks": ""
           }
          },
          "colorscale": {
           "diverging": [
            [
             0,
             "#8e0152"
            ],
            [
             0.1,
             "#c51b7d"
            ],
            [
             0.2,
             "#de77ae"
            ],
            [
             0.3,
             "#f1b6da"
            ],
            [
             0.4,
             "#fde0ef"
            ],
            [
             0.5,
             "#f7f7f7"
            ],
            [
             0.6,
             "#e6f5d0"
            ],
            [
             0.7,
             "#b8e186"
            ],
            [
             0.8,
             "#7fbc41"
            ],
            [
             0.9,
             "#4d9221"
            ],
            [
             1,
             "#276419"
            ]
           ],
           "sequential": [
            [
             0,
             "#0d0887"
            ],
            [
             0.1111111111111111,
             "#46039f"
            ],
            [
             0.2222222222222222,
             "#7201a8"
            ],
            [
             0.3333333333333333,
             "#9c179e"
            ],
            [
             0.4444444444444444,
             "#bd3786"
            ],
            [
             0.5555555555555556,
             "#d8576b"
            ],
            [
             0.6666666666666666,
             "#ed7953"
            ],
            [
             0.7777777777777778,
             "#fb9f3a"
            ],
            [
             0.8888888888888888,
             "#fdca26"
            ],
            [
             1,
             "#f0f921"
            ]
           ],
           "sequentialminus": [
            [
             0,
             "#0d0887"
            ],
            [
             0.1111111111111111,
             "#46039f"
            ],
            [
             0.2222222222222222,
             "#7201a8"
            ],
            [
             0.3333333333333333,
             "#9c179e"
            ],
            [
             0.4444444444444444,
             "#bd3786"
            ],
            [
             0.5555555555555556,
             "#d8576b"
            ],
            [
             0.6666666666666666,
             "#ed7953"
            ],
            [
             0.7777777777777778,
             "#fb9f3a"
            ],
            [
             0.8888888888888888,
             "#fdca26"
            ],
            [
             1,
             "#f0f921"
            ]
           ]
          },
          "colorway": [
           "#636efa",
           "#EF553B",
           "#00cc96",
           "#ab63fa",
           "#FFA15A",
           "#19d3f3",
           "#FF6692",
           "#B6E880",
           "#FF97FF",
           "#FECB52"
          ],
          "font": {
           "color": "#2a3f5f"
          },
          "geo": {
           "bgcolor": "white",
           "lakecolor": "white",
           "landcolor": "#E5ECF6",
           "showlakes": true,
           "showland": true,
           "subunitcolor": "white"
          },
          "hoverlabel": {
           "align": "left"
          },
          "hovermode": "closest",
          "mapbox": {
           "style": "light"
          },
          "paper_bgcolor": "white",
          "plot_bgcolor": "#E5ECF6",
          "polar": {
           "angularaxis": {
            "gridcolor": "white",
            "linecolor": "white",
            "ticks": ""
           },
           "bgcolor": "#E5ECF6",
           "radialaxis": {
            "gridcolor": "white",
            "linecolor": "white",
            "ticks": ""
           }
          },
          "scene": {
           "xaxis": {
            "backgroundcolor": "#E5ECF6",
            "gridcolor": "white",
            "gridwidth": 2,
            "linecolor": "white",
            "showbackground": true,
            "ticks": "",
            "zerolinecolor": "white"
           },
           "yaxis": {
            "backgroundcolor": "#E5ECF6",
            "gridcolor": "white",
            "gridwidth": 2,
            "linecolor": "white",
            "showbackground": true,
            "ticks": "",
            "zerolinecolor": "white"
           },
           "zaxis": {
            "backgroundcolor": "#E5ECF6",
            "gridcolor": "white",
            "gridwidth": 2,
            "linecolor": "white",
            "showbackground": true,
            "ticks": "",
            "zerolinecolor": "white"
           }
          },
          "shapedefaults": {
           "line": {
            "color": "#2a3f5f"
           }
          },
          "ternary": {
           "aaxis": {
            "gridcolor": "white",
            "linecolor": "white",
            "ticks": ""
           },
           "baxis": {
            "gridcolor": "white",
            "linecolor": "white",
            "ticks": ""
           },
           "bgcolor": "#E5ECF6",
           "caxis": {
            "gridcolor": "white",
            "linecolor": "white",
            "ticks": ""
           }
          },
          "title": {
           "x": 0.05
          },
          "xaxis": {
           "automargin": true,
           "gridcolor": "white",
           "linecolor": "white",
           "ticks": "",
           "title": {
            "standoff": 15
           },
           "zerolinecolor": "white",
           "zerolinewidth": 2
          },
          "yaxis": {
           "automargin": true,
           "gridcolor": "white",
           "linecolor": "white",
           "ticks": "",
           "title": {
            "standoff": 15
           },
           "zerolinecolor": "white",
           "zerolinewidth": 2
          }
         }
        },
        "title": {
         "text": "Ataques de Tiburón por Género en USA"
        }
       }
      }
     },
     "metadata": {},
     "output_type": "display_data"
    }
   ],
   "source": [
    "fig.update_traces(textposition ='outside',\n",
    "                  textinfo = 'label+percent')\n",
    "fig.update_layout(paper_bgcolor='moccasin',\n",
    "                  legend_title = 'Género',\n",
    "                  font = dict(\n",
    "                      family = \"Helvetica\",\n",
    "                      size = 18,\n",
    "                      color = 'black'\n",
    "                  ))\n",
    "\n",
    "fig.show();"
   ]
  },
  {
   "attachments": {},
   "cell_type": "markdown",
   "metadata": {},
   "source": [
    "### **Vamos a mostrar ahora las proporciones de muertes y de supervivientes a los ataques por tiburones en USA**"
   ]
  },
  {
   "cell_type": "code",
   "execution_count": 67,
   "metadata": {},
   "outputs": [
    {
     "data": {
      "text/plain": [
       "N    1279\n",
       "Y      54\n",
       "Name: Fatal, dtype: int64"
      ]
     },
     "execution_count": 67,
     "metadata": {},
     "output_type": "execute_result"
    }
   ],
   "source": [
    "data_USA['Fatal'].value_counts()"
   ]
  },
  {
   "cell_type": "code",
   "execution_count": 68,
   "metadata": {},
   "outputs": [],
   "source": [
    "data_USA.loc[data_USA['Fatal'] == \"N\", 'Fatal'] = 'NO'"
   ]
  },
  {
   "cell_type": "code",
   "execution_count": 69,
   "metadata": {},
   "outputs": [],
   "source": [
    "data_USA.loc[data_USA['Fatal'] == \"Y\", 'Fatal'] = 'SI'"
   ]
  },
  {
   "cell_type": "code",
   "execution_count": 70,
   "metadata": {},
   "outputs": [
    {
     "data": {
      "text/html": [
       "<div>\n",
       "<style scoped>\n",
       "    .dataframe tbody tr th:only-of-type {\n",
       "        vertical-align: middle;\n",
       "    }\n",
       "\n",
       "    .dataframe tbody tr th {\n",
       "        vertical-align: top;\n",
       "    }\n",
       "\n",
       "    .dataframe thead th {\n",
       "        text-align: right;\n",
       "    }\n",
       "</style>\n",
       "<table border=\"1\" class=\"dataframe\">\n",
       "  <thead>\n",
       "    <tr style=\"text-align: right;\">\n",
       "      <th></th>\n",
       "      <th>Status</th>\n",
       "      <th>Count</th>\n",
       "    </tr>\n",
       "  </thead>\n",
       "  <tbody>\n",
       "    <tr>\n",
       "      <th>0</th>\n",
       "      <td>NO</td>\n",
       "      <td>1279</td>\n",
       "    </tr>\n",
       "    <tr>\n",
       "      <th>1</th>\n",
       "      <td>SI</td>\n",
       "      <td>54</td>\n",
       "    </tr>\n",
       "  </tbody>\n",
       "</table>\n",
       "</div>"
      ],
      "text/plain": [
       "  Status  Count\n",
       "0     NO   1279\n",
       "1     SI     54"
      ]
     },
     "execution_count": 70,
     "metadata": {},
     "output_type": "execute_result"
    }
   ],
   "source": [
    "Fatal_count = data_USA['Fatal'].value_counts().reset_index().rename(columns = {'Fatal':'Count','index':'Status'})\n",
    "Fatal_count"
   ]
  },
  {
   "cell_type": "code",
   "execution_count": 89,
   "metadata": {},
   "outputs": [],
   "source": [
    "fig2 = px.pie(data_frame = Fatal_count,\n",
    "             values = 'Count',\n",
    "             names = 'Status',\n",
    "             title = 'Porcentaje de Mortalidad',\n",
    "             color_discrete_sequence=px.colors.qualitative.Set2\n",
    "             )"
   ]
  },
  {
   "cell_type": "code",
   "execution_count": 90,
   "metadata": {},
   "outputs": [
    {
     "data": {
      "application/vnd.plotly.v1+json": {
       "config": {
        "plotlyServerURL": "https://plot.ly"
       },
       "data": [
        {
         "domain": {
          "x": [
           0,
           1
          ],
          "y": [
           0,
           1
          ]
         },
         "hovertemplate": "Status=%{label}<br>Count=%{value}<extra></extra>",
         "labels": [
          "NO",
          "SI"
         ],
         "legendgroup": "",
         "name": "",
         "showlegend": true,
         "textinfo": "label+percent",
         "textposition": "outside",
         "type": "pie",
         "values": [
          1279,
          54
         ]
        }
       ],
       "layout": {
        "font": {
         "color": "black",
         "family": "Helvetica",
         "size": 18
        },
        "legend": {
         "title": {
          "text": "¿MURIÓ?"
         },
         "tracegroupgap": 0
        },
        "paper_bgcolor": "navajowhite",
        "piecolorway": [
         "rgb(102,194,165)",
         "rgb(252,141,98)",
         "rgb(141,160,203)",
         "rgb(231,138,195)",
         "rgb(166,216,84)",
         "rgb(255,217,47)",
         "rgb(229,196,148)",
         "rgb(179,179,179)"
        ],
        "template": {
         "data": {
          "bar": [
           {
            "error_x": {
             "color": "#2a3f5f"
            },
            "error_y": {
             "color": "#2a3f5f"
            },
            "marker": {
             "line": {
              "color": "#E5ECF6",
              "width": 0.5
             },
             "pattern": {
              "fillmode": "overlay",
              "size": 10,
              "solidity": 0.2
             }
            },
            "type": "bar"
           }
          ],
          "barpolar": [
           {
            "marker": {
             "line": {
              "color": "#E5ECF6",
              "width": 0.5
             },
             "pattern": {
              "fillmode": "overlay",
              "size": 10,
              "solidity": 0.2
             }
            },
            "type": "barpolar"
           }
          ],
          "carpet": [
           {
            "aaxis": {
             "endlinecolor": "#2a3f5f",
             "gridcolor": "white",
             "linecolor": "white",
             "minorgridcolor": "white",
             "startlinecolor": "#2a3f5f"
            },
            "baxis": {
             "endlinecolor": "#2a3f5f",
             "gridcolor": "white",
             "linecolor": "white",
             "minorgridcolor": "white",
             "startlinecolor": "#2a3f5f"
            },
            "type": "carpet"
           }
          ],
          "choropleth": [
           {
            "colorbar": {
             "outlinewidth": 0,
             "ticks": ""
            },
            "type": "choropleth"
           }
          ],
          "contour": [
           {
            "colorbar": {
             "outlinewidth": 0,
             "ticks": ""
            },
            "colorscale": [
             [
              0,
              "#0d0887"
             ],
             [
              0.1111111111111111,
              "#46039f"
             ],
             [
              0.2222222222222222,
              "#7201a8"
             ],
             [
              0.3333333333333333,
              "#9c179e"
             ],
             [
              0.4444444444444444,
              "#bd3786"
             ],
             [
              0.5555555555555556,
              "#d8576b"
             ],
             [
              0.6666666666666666,
              "#ed7953"
             ],
             [
              0.7777777777777778,
              "#fb9f3a"
             ],
             [
              0.8888888888888888,
              "#fdca26"
             ],
             [
              1,
              "#f0f921"
             ]
            ],
            "type": "contour"
           }
          ],
          "contourcarpet": [
           {
            "colorbar": {
             "outlinewidth": 0,
             "ticks": ""
            },
            "type": "contourcarpet"
           }
          ],
          "heatmap": [
           {
            "colorbar": {
             "outlinewidth": 0,
             "ticks": ""
            },
            "colorscale": [
             [
              0,
              "#0d0887"
             ],
             [
              0.1111111111111111,
              "#46039f"
             ],
             [
              0.2222222222222222,
              "#7201a8"
             ],
             [
              0.3333333333333333,
              "#9c179e"
             ],
             [
              0.4444444444444444,
              "#bd3786"
             ],
             [
              0.5555555555555556,
              "#d8576b"
             ],
             [
              0.6666666666666666,
              "#ed7953"
             ],
             [
              0.7777777777777778,
              "#fb9f3a"
             ],
             [
              0.8888888888888888,
              "#fdca26"
             ],
             [
              1,
              "#f0f921"
             ]
            ],
            "type": "heatmap"
           }
          ],
          "heatmapgl": [
           {
            "colorbar": {
             "outlinewidth": 0,
             "ticks": ""
            },
            "colorscale": [
             [
              0,
              "#0d0887"
             ],
             [
              0.1111111111111111,
              "#46039f"
             ],
             [
              0.2222222222222222,
              "#7201a8"
             ],
             [
              0.3333333333333333,
              "#9c179e"
             ],
             [
              0.4444444444444444,
              "#bd3786"
             ],
             [
              0.5555555555555556,
              "#d8576b"
             ],
             [
              0.6666666666666666,
              "#ed7953"
             ],
             [
              0.7777777777777778,
              "#fb9f3a"
             ],
             [
              0.8888888888888888,
              "#fdca26"
             ],
             [
              1,
              "#f0f921"
             ]
            ],
            "type": "heatmapgl"
           }
          ],
          "histogram": [
           {
            "marker": {
             "pattern": {
              "fillmode": "overlay",
              "size": 10,
              "solidity": 0.2
             }
            },
            "type": "histogram"
           }
          ],
          "histogram2d": [
           {
            "colorbar": {
             "outlinewidth": 0,
             "ticks": ""
            },
            "colorscale": [
             [
              0,
              "#0d0887"
             ],
             [
              0.1111111111111111,
              "#46039f"
             ],
             [
              0.2222222222222222,
              "#7201a8"
             ],
             [
              0.3333333333333333,
              "#9c179e"
             ],
             [
              0.4444444444444444,
              "#bd3786"
             ],
             [
              0.5555555555555556,
              "#d8576b"
             ],
             [
              0.6666666666666666,
              "#ed7953"
             ],
             [
              0.7777777777777778,
              "#fb9f3a"
             ],
             [
              0.8888888888888888,
              "#fdca26"
             ],
             [
              1,
              "#f0f921"
             ]
            ],
            "type": "histogram2d"
           }
          ],
          "histogram2dcontour": [
           {
            "colorbar": {
             "outlinewidth": 0,
             "ticks": ""
            },
            "colorscale": [
             [
              0,
              "#0d0887"
             ],
             [
              0.1111111111111111,
              "#46039f"
             ],
             [
              0.2222222222222222,
              "#7201a8"
             ],
             [
              0.3333333333333333,
              "#9c179e"
             ],
             [
              0.4444444444444444,
              "#bd3786"
             ],
             [
              0.5555555555555556,
              "#d8576b"
             ],
             [
              0.6666666666666666,
              "#ed7953"
             ],
             [
              0.7777777777777778,
              "#fb9f3a"
             ],
             [
              0.8888888888888888,
              "#fdca26"
             ],
             [
              1,
              "#f0f921"
             ]
            ],
            "type": "histogram2dcontour"
           }
          ],
          "mesh3d": [
           {
            "colorbar": {
             "outlinewidth": 0,
             "ticks": ""
            },
            "type": "mesh3d"
           }
          ],
          "parcoords": [
           {
            "line": {
             "colorbar": {
              "outlinewidth": 0,
              "ticks": ""
             }
            },
            "type": "parcoords"
           }
          ],
          "pie": [
           {
            "automargin": true,
            "type": "pie"
           }
          ],
          "scatter": [
           {
            "fillpattern": {
             "fillmode": "overlay",
             "size": 10,
             "solidity": 0.2
            },
            "type": "scatter"
           }
          ],
          "scatter3d": [
           {
            "line": {
             "colorbar": {
              "outlinewidth": 0,
              "ticks": ""
             }
            },
            "marker": {
             "colorbar": {
              "outlinewidth": 0,
              "ticks": ""
             }
            },
            "type": "scatter3d"
           }
          ],
          "scattercarpet": [
           {
            "marker": {
             "colorbar": {
              "outlinewidth": 0,
              "ticks": ""
             }
            },
            "type": "scattercarpet"
           }
          ],
          "scattergeo": [
           {
            "marker": {
             "colorbar": {
              "outlinewidth": 0,
              "ticks": ""
             }
            },
            "type": "scattergeo"
           }
          ],
          "scattergl": [
           {
            "marker": {
             "colorbar": {
              "outlinewidth": 0,
              "ticks": ""
             }
            },
            "type": "scattergl"
           }
          ],
          "scattermapbox": [
           {
            "marker": {
             "colorbar": {
              "outlinewidth": 0,
              "ticks": ""
             }
            },
            "type": "scattermapbox"
           }
          ],
          "scatterpolar": [
           {
            "marker": {
             "colorbar": {
              "outlinewidth": 0,
              "ticks": ""
             }
            },
            "type": "scatterpolar"
           }
          ],
          "scatterpolargl": [
           {
            "marker": {
             "colorbar": {
              "outlinewidth": 0,
              "ticks": ""
             }
            },
            "type": "scatterpolargl"
           }
          ],
          "scatterternary": [
           {
            "marker": {
             "colorbar": {
              "outlinewidth": 0,
              "ticks": ""
             }
            },
            "type": "scatterternary"
           }
          ],
          "surface": [
           {
            "colorbar": {
             "outlinewidth": 0,
             "ticks": ""
            },
            "colorscale": [
             [
              0,
              "#0d0887"
             ],
             [
              0.1111111111111111,
              "#46039f"
             ],
             [
              0.2222222222222222,
              "#7201a8"
             ],
             [
              0.3333333333333333,
              "#9c179e"
             ],
             [
              0.4444444444444444,
              "#bd3786"
             ],
             [
              0.5555555555555556,
              "#d8576b"
             ],
             [
              0.6666666666666666,
              "#ed7953"
             ],
             [
              0.7777777777777778,
              "#fb9f3a"
             ],
             [
              0.8888888888888888,
              "#fdca26"
             ],
             [
              1,
              "#f0f921"
             ]
            ],
            "type": "surface"
           }
          ],
          "table": [
           {
            "cells": {
             "fill": {
              "color": "#EBF0F8"
             },
             "line": {
              "color": "white"
             }
            },
            "header": {
             "fill": {
              "color": "#C8D4E3"
             },
             "line": {
              "color": "white"
             }
            },
            "type": "table"
           }
          ]
         },
         "layout": {
          "annotationdefaults": {
           "arrowcolor": "#2a3f5f",
           "arrowhead": 0,
           "arrowwidth": 1
          },
          "autotypenumbers": "strict",
          "coloraxis": {
           "colorbar": {
            "outlinewidth": 0,
            "ticks": ""
           }
          },
          "colorscale": {
           "diverging": [
            [
             0,
             "#8e0152"
            ],
            [
             0.1,
             "#c51b7d"
            ],
            [
             0.2,
             "#de77ae"
            ],
            [
             0.3,
             "#f1b6da"
            ],
            [
             0.4,
             "#fde0ef"
            ],
            [
             0.5,
             "#f7f7f7"
            ],
            [
             0.6,
             "#e6f5d0"
            ],
            [
             0.7,
             "#b8e186"
            ],
            [
             0.8,
             "#7fbc41"
            ],
            [
             0.9,
             "#4d9221"
            ],
            [
             1,
             "#276419"
            ]
           ],
           "sequential": [
            [
             0,
             "#0d0887"
            ],
            [
             0.1111111111111111,
             "#46039f"
            ],
            [
             0.2222222222222222,
             "#7201a8"
            ],
            [
             0.3333333333333333,
             "#9c179e"
            ],
            [
             0.4444444444444444,
             "#bd3786"
            ],
            [
             0.5555555555555556,
             "#d8576b"
            ],
            [
             0.6666666666666666,
             "#ed7953"
            ],
            [
             0.7777777777777778,
             "#fb9f3a"
            ],
            [
             0.8888888888888888,
             "#fdca26"
            ],
            [
             1,
             "#f0f921"
            ]
           ],
           "sequentialminus": [
            [
             0,
             "#0d0887"
            ],
            [
             0.1111111111111111,
             "#46039f"
            ],
            [
             0.2222222222222222,
             "#7201a8"
            ],
            [
             0.3333333333333333,
             "#9c179e"
            ],
            [
             0.4444444444444444,
             "#bd3786"
            ],
            [
             0.5555555555555556,
             "#d8576b"
            ],
            [
             0.6666666666666666,
             "#ed7953"
            ],
            [
             0.7777777777777778,
             "#fb9f3a"
            ],
            [
             0.8888888888888888,
             "#fdca26"
            ],
            [
             1,
             "#f0f921"
            ]
           ]
          },
          "colorway": [
           "#636efa",
           "#EF553B",
           "#00cc96",
           "#ab63fa",
           "#FFA15A",
           "#19d3f3",
           "#FF6692",
           "#B6E880",
           "#FF97FF",
           "#FECB52"
          ],
          "font": {
           "color": "#2a3f5f"
          },
          "geo": {
           "bgcolor": "white",
           "lakecolor": "white",
           "landcolor": "#E5ECF6",
           "showlakes": true,
           "showland": true,
           "subunitcolor": "white"
          },
          "hoverlabel": {
           "align": "left"
          },
          "hovermode": "closest",
          "mapbox": {
           "style": "light"
          },
          "paper_bgcolor": "white",
          "plot_bgcolor": "#E5ECF6",
          "polar": {
           "angularaxis": {
            "gridcolor": "white",
            "linecolor": "white",
            "ticks": ""
           },
           "bgcolor": "#E5ECF6",
           "radialaxis": {
            "gridcolor": "white",
            "linecolor": "white",
            "ticks": ""
           }
          },
          "scene": {
           "xaxis": {
            "backgroundcolor": "#E5ECF6",
            "gridcolor": "white",
            "gridwidth": 2,
            "linecolor": "white",
            "showbackground": true,
            "ticks": "",
            "zerolinecolor": "white"
           },
           "yaxis": {
            "backgroundcolor": "#E5ECF6",
            "gridcolor": "white",
            "gridwidth": 2,
            "linecolor": "white",
            "showbackground": true,
            "ticks": "",
            "zerolinecolor": "white"
           },
           "zaxis": {
            "backgroundcolor": "#E5ECF6",
            "gridcolor": "white",
            "gridwidth": 2,
            "linecolor": "white",
            "showbackground": true,
            "ticks": "",
            "zerolinecolor": "white"
           }
          },
          "shapedefaults": {
           "line": {
            "color": "#2a3f5f"
           }
          },
          "ternary": {
           "aaxis": {
            "gridcolor": "white",
            "linecolor": "white",
            "ticks": ""
           },
           "baxis": {
            "gridcolor": "white",
            "linecolor": "white",
            "ticks": ""
           },
           "bgcolor": "#E5ECF6",
           "caxis": {
            "gridcolor": "white",
            "linecolor": "white",
            "ticks": ""
           }
          },
          "title": {
           "x": 0.05
          },
          "xaxis": {
           "automargin": true,
           "gridcolor": "white",
           "linecolor": "white",
           "ticks": "",
           "title": {
            "standoff": 15
           },
           "zerolinecolor": "white",
           "zerolinewidth": 2
          },
          "yaxis": {
           "automargin": true,
           "gridcolor": "white",
           "linecolor": "white",
           "ticks": "",
           "title": {
            "standoff": 15
           },
           "zerolinecolor": "white",
           "zerolinewidth": 2
          }
         }
        },
        "title": {
         "text": "Porcentaje de Mortalidad"
        }
       }
      }
     },
     "metadata": {},
     "output_type": "display_data"
    }
   ],
   "source": [
    "fig2.update_traces(textposition ='outside',\n",
    "                  textinfo = 'label+percent')\n",
    "fig2.update_layout(paper_bgcolor='navajowhite',\n",
    "                  legend_title = '¿MURIÓ?',\n",
    "                  font = dict(\n",
    "                      family = \"Helvetica\",\n",
    "                      size = 18,\n",
    "                      color = 'black'\n",
    "                  ))\n",
    "\n",
    "fig2.show();"
   ]
  },
  {
   "attachments": {},
   "cell_type": "markdown",
   "metadata": {},
   "source": [
    "### **Aquí vamos a ver de forma gráfica el TOP 5 de los tiburones que más ataques han provocado en USA**"
   ]
  },
  {
   "cell_type": "code",
   "execution_count": 97,
   "metadata": {},
   "outputs": [
    {
     "data": {
      "text/plain": [
       "White shark       1215\n",
       "Tiger shark         63\n",
       "Bull shark          43\n",
       "Blacktip shark       7\n",
       "Nurse shark          5\n",
       "Name: Species, dtype: int64"
      ]
     },
     "execution_count": 97,
     "metadata": {},
     "output_type": "execute_result"
    }
   ],
   "source": [
    "data_USA['Species'].value_counts()"
   ]
  },
  {
   "cell_type": "code",
   "execution_count": 99,
   "metadata": {},
   "outputs": [],
   "source": [
    "shark5 = data_USA.groupby(['Species'], as_index=False).size()\n",
    "\n",
    "shark5 = shark5.sort_values(by=['size'], ascending=False)\n",
    "\n",
    "shark5 = shark5[0:5]\n",
    "\n",
    "mlabels=['White shark','Tiger shark','Bull shark','Bronze whaler shark', 'Nurse shark']\n",
    "\n",
    "plt.pie(shark5['size'],labels=mlabels, explode = (0.1,0.1,0.1,0.1,0.1), autopct='%1.1f%%')\n",
    "\n",
    "plt.title('Top 5 de los Tiburones más Peligrosos en USA', loc='center')\n",
    "\n",
    "fig = plt.gcf()\n",
    "\n",
    "fig.set_size_inches(8,6)\n",
    "\n",
    "plt.legend(bbox_to_anchor=(1,0.6), loc=\"lower left\")\n",
    "\n",
    "plt.show();\n",
    "                          "
   ]
  },
  {
   "attachments": {},
   "cell_type": "markdown",
   "metadata": {},
   "source": [
    "### **Top 6 actividades más expuestas a un ataque de tiburón**"
   ]
  },
  {
   "cell_type": "code",
   "execution_count": 123,
   "metadata": {},
   "outputs": [
    {
     "data": {
      "image/png": "[encoded data removed]",
      "text/plain": [
       "<Figure size 700x500 with 1 Axes>"
      ]
     },
     "metadata": {},
     "output_type": "display_data"
    }
   ],
   "source": [
    "activity = data_USA.Activity.value_counts().head(6)\n",
    "\n",
    "sns.set(rc={'axes.facecolor':'w', 'figure.facecolor':'lightblue'}, font_scale=0.9)\n",
    "activity.plot(kind='bar', figsize=(7, 5), alpha=0.8, color='turquoise', rot=45)\n",
    "plt.xlabel('Actividades', fontsize=12)\n",
    "plt.ylabel('Número de Casos', fontsize=12)\n",
    "plt.title('Top 6 actividades más expuestas a un ataque de tiburón', fontsize=16, fontweight='bold')\n",
    "plt.grid(color='k', axis='y', alpha=0.3, lw=0.5)\n",
    "plt.show();"
   ]
  },
  {
   "attachments": {},
   "cell_type": "markdown",
   "metadata": {},
   "source": [
    "### **Proporción de víctimas por sexo y actividad realizada**"
   ]
  },
  {
   "cell_type": "code",
   "execution_count": 134,
   "metadata": {},
   "outputs": [
    {
     "data": {
      "image/png": "[encoded data removed]",
      "text/plain": [
       "<Figure size 800x600 with 1 Axes>"
      ]
     },
     "metadata": {},
     "output_type": "display_data"
    }
   ],
   "source": [
    "activity_count = data_USA[\"Activity\"].value_counts()[:6].index.to_list()\n",
    "activities = pd.Categorical(data_USA['Activity'], activity_count)\n",
    "\n",
    "plt.figure(figsize = (8, 6))\n",
    "sns.histplot(data=data_USA, x=activities, hue=\"Sex\", palette=[\"crimson\", \"navy\"], alpha=0.5)\n",
    "plt.xlabel('Actividades', fontsize=12)\n",
    "plt.ylabel('Casos Resgistrados', fontsize=12)\n",
    "plt.title('Proporción de víctimas por sexo y actividad realizada', fontsize=16, fontweight='bold')\n",
    "plt.xticks(rotation=60)\n",
    "plt.plot();"
   ]
  },
  {
   "attachments": {},
   "cell_type": "markdown",
   "metadata": {},
   "source": [
    "### **Estacionalidad en los ataques de tiburón**"
   ]
  },
  {
   "cell_type": "code",
   "execution_count": 138,
   "metadata": {},
   "outputs": [],
   "source": [
    "dates = pd.to_datetime(data_USA['Date'], dayfirst=True, errors='coerce')"
   ]
  },
  {
   "cell_type": "code",
   "execution_count": 149,
   "metadata": {},
   "outputs": [],
   "source": [
    "months = dates.dropna().map(lambda x: x.month)\n",
    "\n",
    "def get_season(month):\n",
    "    if month >= 3 and month <= 5:\n",
    "        return 'Spring'\n",
    "    elif month >= 6 and month <= 8:\n",
    "        return 'Summer'\n",
    "    elif month >= 9 and month <= 11:\n",
    "        return 'Autumn'\n",
    "    else:\n",
    "        return 'Winter'\n",
    "\n",
    "months_labels = months.apply(get_season)\n",
    "\n",
    "months_counter = Counter(months_labels)\n",
    "months_keys = list(months_counter.keys())\n",
    "months_values = list(months_counter.values())"
   ]
  },
  {
   "cell_type": "code",
   "execution_count": 168,
   "metadata": {},
   "outputs": [
    {
     "data": {
      "image/png": "[encoded data removed]",
      "text/plain": [
       "<Figure size 800x600 with 1 Axes>"
      ]
     },
     "metadata": {},
     "output_type": "display_data"
    }
   ],
   "source": [
    "fig = plt.subplots(figsize=(8, 6))\n",
    "sns.set(rc={'axes.facecolor':'w', 'figure.facecolor':'lightblue'})\n",
    "sns.barplot(x=months_keys, y=months_values, alpha=0.7, color='darkslateblue')\n",
    "plt.xlabel('Estaciones', fontsize=10)\n",
    "plt.ylabel('Número de Casos Registrados', fontsize=10)\n",
    "plt.title('Estacionalidad en los ataques de tiburón', fontsize=16, fontweight='bold')\n",
    "plt.show();"
   ]
  },
  {
   "attachments": {},
   "cell_type": "markdown",
   "metadata": {},
   "source": [
    "## **CONCLUSIONES:**"
   ]
  },
  {
   "attachments": {},
   "cell_type": "markdown",
   "metadata": {},
   "source": [
    "Podemos decir que el número de accidentes con tiburones tiende a ser mayor cada año desde la década de 1980. Esto podría deberse a dos factores pricipalmente. El primero, que se están reportando y registrando más casos desde entonces, ya que la tecnología, la comunicación, la seguridad marítima, ect, es mucho mayor. Y la segunda, porque los tiburones y los humanos cada vez viven más cerca, el ser humano no deja de invadir todo espacio natural y consigo invaden hábitats salvajes dónde hay fauna salvaje."
   ]
  },
  {
   "attachments": {},
   "cell_type": "markdown",
   "metadata": {},
   "source": [
    "También podemos decir que la mayoría de los ataques ocurren realizando actividades como el Surf, la Natación y la Pesca. Aunque el más peligroso es claramente el surf. \n",
    "Estos accidentes se producen en un 81,5% en hombres frente al 18,5% en las mujeres. Podemos suponer que este tipo de actividades, sobretodo la pesca, han sido realizadas siempre por hombres, y hasta hace unas pocas décadas el surf, la natación en aguas abiertas o el buceo eran tambien actividades donde predominaba el hombre. Esta tendencia ha ido cambiando, y así lo demuestran los datos que hemos podido analizar y visualizar, donde se puede ver que aunque sigan siendo hombres los más atacados por tiburones, desde los años 90, has aumentado exponencialmente los casos de ataques en mujeres en las mismas actividades. Esto se debe al que el sesgo machista va desapareciendo. "
   ]
  },
  {
   "attachments": {},
   "cell_type": "markdown",
   "metadata": {},
   "source": [
    "Por otro lado hemos podido observar que los hombres tienen un rango de edad más amplio donde se disparan los ataques o los acidentes con tiburones que las mujeres. Puede deberse a la naturaleza predominante de que el hombre madura más tarde en su personalidad, y esto le hace más temerario. Mientras que la edad de las mujeres que sufren ataques se comprende entre los 13 y los 20 años, lo hombres tienen un rango que comprende de los 13 a los 30 años, y donde se producen unos picos enormes entre los 16 y los 27 años. Parece ser que los hombres emplean mas tiempo de su vida en ponerse en peligro ante amenazas como los tiburones."
   ]
  },
  {
   "attachments": {},
   "cell_type": "markdown",
   "metadata": {},
   "source": [
    "Otro dato que hemos podido recabar, es que desde el año 2000 han aumentado muchisimo los casos de ataques, y puede deberse al boom de ser \"surfero\", siendo el año 2015 el que más accidentes se registraron desde que se tiene constancia de estos."
   ]
  },
  {
   "attachments": {},
   "cell_type": "markdown",
   "metadata": {},
   "source": [
    "Es importante destacar que el El 96% de los accidentes con tiburones en Estados Unidos no son mortales. Y aunque parezca bastante obvio decir que hay más ataques en verano y otoño que en invierno y primavera, es lo que nos arrojan los datos y podemos encontrarle todo el sentido. Asi pues podemos decir que si estás de vacaciones en Estados Unidos, o eres de allí, eres hombre de unos 20 años y te encanta surfear olas...cuidate, porque eres el prototipo de persona con más probabilidades de ser atacado por un tiburón, aunque no debes preocuparte demasiado, probablemente no vas a morir, solo te puedes quedar sin un brazo o una pierna, o con mucha suerte una cicatriz por la cual vacilar a tus colegas."
   ]
  }
 ],
 "metadata": {
  "kernelspec": {
   "display_name": "Python 3",
   "language": "python",
   "name": "python3"
  },
  "language_info": {
   "codemirror_mode": {
    "name": "ipython",
    "version": 3
   },
   "file_extension": ".py",
   "mimetype": "text/x-python",
   "name": "python",
   "nbconvert_exporter": "python",
   "pygments_lexer": "ipython3",
   "version": "3.7.4"
  },
  "orig_nbformat": 4,
  "vscode": {
   "interpreter": {
    "hash": "aee8b7b246df8f9039afb4144a1f6fd8d2ca17a180786b69acc140d282b71a49"
   }
  }
 },
 "nbformat": 4,
 "nbformat_minor": 2
}
