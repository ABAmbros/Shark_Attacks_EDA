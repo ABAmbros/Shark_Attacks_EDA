{
 "cells": [
  {
   "cell_type": "markdown",
   "metadata": {},
   "source": [
    "## IMPORTACIÓN DE LIBRERIAS NECESARIAS ##"
   ]
  },
  {
   "cell_type": "code",
   "execution_count": 1,
   "metadata": {},
   "outputs": [],
   "source": [
    "import pandas as pd\n",
    "import zipfile\n",
    "import imageio as iio\n",
    "import matplotlib.pyplot as plt\n",
    "import numpy as np\n",
    "import seaborn as sns\n",
    "import statsmodels.api as sm\n",
    "from collections import Counter\n",
    "import plotly.express as px\n",
    "import re\n",
    "\n",
    "%matplotlib inline"
   ]
  },
  {
   "cell_type": "markdown",
   "metadata": {},
   "source": [
    "## EXTRACCIÓN/CARGA DE DATOS "
   ]
  },
  {
   "cell_type": "code",
   "execution_count": 2,
   "metadata": {},
   "outputs": [],
   "source": [
    "# Asignamos a una variable la ruta donde se encuentra el archivo zip con el dataset que vamos a trabjar\n",
    "# Asignamos a otra variable el directorio donde queremos que guarde el dataset extraido de ese archivo zip\n",
    "\n",
    "path_to_zip_file = '../data/dataset_shark_attack.zip'\n",
    "directory_to_extract_to = '../data'"
   ]
  },
  {
   "cell_type": "code",
   "execution_count": 23,
   "metadata": {},
   "outputs": [],
   "source": [
    "# Con esta función de esta libreria importada extraemos el contenido en el zip y lo guardamos en el dorecotrio antes asignado\n",
    "\n",
    "with zipfile.ZipFile(path_to_zip_file, 'r') as zip_ref:\n",
    "    #zip_ref.extractall(directory_to_extract_to)"
   ]
  },
  {
   "cell_type": "code",
   "execution_count": 3,
   "metadata": {},
   "outputs": [],
   "source": [
    "# Asiganmos a una nueva variable el contenido del dataset, en este caso un archivo csv\n",
    "# Guardamos en otra variable los datos decodificados con una función de pandas para empezar a trabjar con ellos en python\n",
    "\n",
    "path_dataset = '/Users/antoineambros/Documents/proyectos/shark_attacks/data/attacks.csv'\n",
    "data = pd.read_csv(path_dataset, encoding='latin1')"
   ]
  },
  {
   "cell_type": "markdown",
   "metadata": {},
   "source": [
    "## EXPLORACIÓN DE DATOS"
   ]
  },
  {
   "cell_type": "markdown",
   "metadata": {},
   "source": [
    "### Conocer información básica"
   ]
  },
  {
   "cell_type": "code",
   "execution_count": 9,
   "metadata": {},
   "outputs": [
    {
     "name": "stdout",
     "output_type": "stream",
     "text": [
      "Cantidad de Filas y columnas: (25723, 24)\n"
     ]
    }
   ],
   "source": [
    "print('Cantidad de Filas y columnas:',data.shape)"
   ]
  },
  {
   "cell_type": "code",
   "execution_count": 10,
   "metadata": {},
   "outputs": [
    {
     "name": "stdout",
     "output_type": "stream",
     "text": [
      "COLUMNAS DEL DATASET: ['Case Number' 'Date' 'Year' 'Type' 'Country' 'Area' 'Location' 'Activity'\n",
      " 'Name' 'Sex' 'Age' 'Injury' 'Fatal' 'Time' 'Species'\n",
      " 'Investigator or Source' 'pdf' 'href formula' 'href' 'Case Number.1'\n",
      " 'Case Number.2' 'original order' 'Unnamed: 22' 'Unnamed: 23']\n"
     ]
    }
   ],
   "source": [
    "print(f'COLUMNAS DEL DATASET: {data.columns.values}')"
   ]
  },
  {
   "cell_type": "code",
   "execution_count": null,
   "metadata": {},
   "outputs": [],
   "source": [
    "# Veamos el tipo de datos. Un vistazo preliminar del contenido del dataset\n",
    "\n",
    "data.head()"
   ]
  },
  {
   "cell_type": "code",
   "execution_count": 5,
   "metadata": {},
   "outputs": [],
   "source": [
    "# Aqui podremos ver los tipos de datos que vamos a manejar, si hay muchos datos 'nulos' en el dataset\n",
    "\n",
    "data.info()"
   ]
  },
  {
   "cell_type": "code",
   "execution_count": 15,
   "metadata": {},
   "outputs": [
    {
     "data": {
      "text/plain": [
       "Case Number               17021\n",
       "Date                      19421\n",
       "Year                      19423\n",
       "Type                      19425\n",
       "Country                   19471\n",
       "Area                      19876\n",
       "Location                  19961\n",
       "Activity                  19965\n",
       "Name                      19631\n",
       "Sex                       19986\n",
       "Age                       22252\n",
       "Injury                    19449\n",
       "Fatal                     19960\n",
       "Time                      22775\n",
       "Species                   22259\n",
       "Investigator or Source    19438\n",
       "pdf                       19421\n",
       "href formula              19422\n",
       "href                      19421\n",
       "Case Number.1             19421\n",
       "Case Number.2             19421\n",
       "original order            19414\n",
       "Unnamed: 22               25722\n",
       "Unnamed: 23               25721\n",
       "dtype: int64"
      ]
     },
     "execution_count": 15,
     "metadata": {},
     "output_type": "execute_result"
    }
   ],
   "source": [
    "data.isnull().sum()"
   ]
  },
  {
   "attachments": {},
   "cell_type": "markdown",
   "metadata": {},
   "source": [
    "#### Con la siguiente función vamos a ver cómo son los datos de los que se componen cada una de las variables que tenemos en el DataSet"
   ]
  },
  {
   "cell_type": "code",
   "execution_count": 13,
   "metadata": {},
   "outputs": [
    {
     "name": "stdout",
     "output_type": "stream",
     "text": [
      "Case Number:['2018.06.25' '2018.06.18' '2018.06.09' ... 'ND.0001' '0' 'xx']\n",
      "\n",
      "Date:['25-Jun-2018' '18-Jun-2018' '09-Jun-2018' ... '1883-1889' '1845-1853' nan]\n",
      "\n",
      "Year:[2018. 2017.   nan 2016. 2015. 2014. 2013. 2012. 2011. 2010. 2009. 2008.\n",
      " 2007. 2006. 2005. 2004. 2003. 2002. 2001. 2000. 1999. 1998. 1997. 1996.\n",
      " 1995. 1984. 1994. 1993. 1992. 1991. 1990. 1989. 1969. 1988. 1987. 1986.\n",
      " 1985. 1983. 1982. 1981. 1980. 1979. 1978. 1977. 1976. 1975. 1974. 1973.\n",
      " 1972. 1971. 1970. 1968. 1967. 1966. 1965. 1964. 1963. 1962. 1961. 1960.\n",
      " 1959. 1958. 1957. 1956. 1955. 1954. 1953. 1952. 1951. 1950. 1949. 1948.\n",
      " 1848. 1947. 1946. 1945. 1944. 1943. 1942. 1941. 1940. 1939. 1938. 1937.\n",
      " 1936. 1935. 1934. 1933. 1932. 1931. 1930. 1929. 1928. 1927. 1926. 1925.\n",
      " 1924. 1923. 1922. 1921. 1920. 1919. 1918. 1917. 1916. 1915. 1914. 1913.\n",
      " 1912. 1911. 1910. 1909. 1908. 1907. 1906. 1905. 1904. 1903. 1902. 1901.\n",
      " 1900. 1899. 1898. 1897. 1896. 1895. 1894. 1893. 1892. 1891. 1890. 1889.\n",
      " 1888. 1887. 1886. 1885. 1884. 1883. 1882. 1881. 1880. 1879. 1878. 1877.\n",
      " 1876. 1875. 1874. 1873. 1872. 1871. 1870. 1869. 1868. 1867. 1866. 1865.\n",
      " 1864. 1863. 1862. 1861. 1860. 1859. 1858. 1857. 1856. 1855. 1853. 1852.\n",
      " 1851. 1850. 1849. 1847. 1846. 1845. 1844. 1842. 1841. 1840. 1839. 1837.\n",
      " 1836. 1835. 1834. 1832. 1831. 1830. 1829. 1828. 1827. 1826. 1825. 1823.\n",
      " 1822. 1819. 1818. 1817. 1816. 1815. 1812. 1811. 1810. 1808. 1807. 1805.\n",
      " 1804. 1803. 1802. 1801. 1800. 1797. 1792. 1791. 1788. 1787. 1786. 1785.\n",
      " 1784. 1783. 1780. 1779. 1776. 1771. 1767. 1764. 1758. 1753. 1751. 1749.\n",
      " 1755. 1748. 1742. 1738. 1733. 1723. 1721. 1703. 1700. 1642. 1638. 1637.\n",
      " 1617. 1595. 1580. 1555. 1554. 1543.  500.   77.    5.    0.]\n",
      "\n",
      "Type:['Boating' 'Unprovoked' 'Invalid' 'Provoked' 'Questionable' 'Sea Disaster'\n",
      " nan 'Boat' 'Boatomg']\n",
      "\n",
      "Country:['USA' 'AUSTRALIA' 'MEXICO' 'BRAZIL' 'ENGLAND' 'SOUTH AFRICA' 'THAILAND'\n",
      " 'COSTA RICA' 'MALDIVES' 'BAHAMAS' 'NEW CALEDONIA' 'ECUADOR' 'MALAYSIA'\n",
      " 'LIBYA' nan 'CUBA' 'MAURITIUS' 'NEW ZEALAND' 'SPAIN' 'SAMOA'\n",
      " 'SOLOMON ISLANDS' 'JAPAN' 'EGYPT' 'ST HELENA, British overseas territory'\n",
      " 'COMOROS' 'REUNION' 'FRENCH POLYNESIA' 'UNITED KINGDOM'\n",
      " 'UNITED ARAB EMIRATES' 'PHILIPPINES' 'INDONESIA' 'CHINA' 'COLUMBIA'\n",
      " 'CAPE VERDE' 'Fiji' 'DOMINICAN REPUBLIC' 'CAYMAN ISLANDS' 'ARUBA'\n",
      " 'MOZAMBIQUE' 'FIJI' 'PUERTO RICO' 'ITALY' 'ATLANTIC OCEAN' 'GREECE'\n",
      " 'ST. MARTIN' 'FRANCE' 'PAPUA NEW GUINEA' 'TRINIDAD & TOBAGO' 'KIRIBATI'\n",
      " 'ISRAEL' 'DIEGO GARCIA' 'TAIWAN' 'JAMAICA' 'PALESTINIAN TERRITORIES'\n",
      " 'GUAM' 'SEYCHELLES' 'BELIZE' 'NIGERIA' 'TONGA' 'SCOTLAND' 'CANADA'\n",
      " 'CROATIA' 'SAUDI ARABIA' 'CHILE' 'ANTIGUA' 'KENYA' 'RUSSIA'\n",
      " 'TURKS & CAICOS' 'UNITED ARAB EMIRATES (UAE)' 'AZORES' 'SOUTH KOREA'\n",
      " 'MALTA' 'VIETNAM' 'MADAGASCAR' 'PANAMA' 'SOMALIA' 'NEVIS'\n",
      " 'BRITISH VIRGIN ISLANDS' 'NORWAY' 'SENEGAL' 'YEMEN' 'GULF OF ADEN'\n",
      " 'Sierra Leone' 'ST. MAARTIN' 'GRAND CAYMAN' 'Seychelles' 'LIBERIA'\n",
      " 'VANUATU' 'MEXICO ' 'HONDURAS' 'VENEZUELA' 'SRI LANKA' ' TONGA' 'URUGUAY'\n",
      " 'INDIA' 'MICRONESIA' 'CARIBBEAN SEA' 'OKINAWA' 'TANZANIA'\n",
      " 'MARSHALL ISLANDS' 'EGYPT / ISRAEL' 'NORTHERN ARABIAN SEA' 'HONG KONG'\n",
      " 'EL SALVADOR' 'ANGOLA' 'BERMUDA' 'MONTENEGRO' 'IRAN' 'TUNISIA' 'NAMIBIA'\n",
      " 'NORTH ATLANTIC OCEAN' 'PORTUGAL' 'SOUTH CHINA SEA' 'BANGLADESH' 'PALAU'\n",
      " 'WESTERN SAMOA' 'PACIFIC OCEAN ' 'BRITISH ISLES' 'GRENADA' 'IRAQ'\n",
      " 'TURKEY' 'SINGAPORE' 'NEW BRITAIN' 'SUDAN' 'JOHNSTON ISLAND'\n",
      " 'SOUTH PACIFIC OCEAN' 'NEW GUINEA' 'RED SEA' 'NORTH PACIFIC OCEAN'\n",
      " 'FEDERATED STATES OF MICRONESIA' 'MID ATLANTIC OCEAN' 'ADMIRALTY ISLANDS'\n",
      " 'BRITISH WEST INDIES' 'SOUTH ATLANTIC OCEAN' 'PERSIAN GULF'\n",
      " 'RED SEA / INDIAN OCEAN' 'PACIFIC OCEAN' 'NORTH SEA' 'NICARAGUA '\n",
      " 'MALDIVE ISLANDS' 'AMERICAN SAMOA' 'ANDAMAN / NICOBAR ISLANDAS' 'GABON'\n",
      " 'MAYOTTE' 'NORTH ATLANTIC OCEAN ' 'THE BALKANS' 'SUDAN?' 'ARGENTINA'\n",
      " 'MARTINIQUE' 'INDIAN OCEAN' 'GUATEMALA' 'NETHERLANDS ANTILLES'\n",
      " 'NORTHERN MARIANA ISLANDS' 'IRAN / IRAQ' 'JAVA' 'SIERRA LEONE'\n",
      " ' PHILIPPINES' 'NICARAGUA' 'CENTRAL PACIFIC' 'SOLOMON ISLANDS / VANUATU'\n",
      " 'SOUTHWEST PACIFIC OCEAN' 'BAY OF BENGAL' 'MID-PACIFC OCEAN' 'SLOVENIA'\n",
      " 'CURACAO' 'ICELAND' 'ITALY / CROATIA' 'BARBADOS' 'MONACO' 'GUYANA'\n",
      " 'HAITI' 'SAN DOMINGO' 'IRELAND' 'KUWAIT' 'YEMEN ' 'REUNION ISLAND'\n",
      " 'FALKLAND ISLANDS' 'CRETE' 'CYPRUS' 'EGYPT ' 'WEST INDIES' 'BURMA'\n",
      " 'LEBANON' 'PARAGUAY' 'BRITISH NEW GUINEA' 'CEYLON' 'OCEAN' 'GEORGIA'\n",
      " 'SYRIA' 'TUVALU' 'INDIAN OCEAN?' 'GUINEA' 'ANDAMAN ISLANDS'\n",
      " 'EQUATORIAL GUINEA / CAMEROON' 'COOK ISLANDS' 'TOBAGO' 'PERU' 'AFRICA'\n",
      " 'ALGERIA' 'Coast of AFRICA' 'TASMAN SEA' 'GHANA' 'GREENLAND'\n",
      " 'MEDITERRANEAN SEA' 'SWEDEN' 'ROATAN' 'Between PORTUGAL & INDIA'\n",
      " 'DJIBOUTI' 'BAHREIN' 'KOREA' 'RED SEA?' 'ASIA?' 'CEYLON (SRI LANKA)']\n",
      "\n",
      "Area:['California' 'Georgia' 'Hawaii' 'New South Wales' 'Colima' 'Pernambuco'\n",
      " 'Florida' 'Queensland' 'South Carolina' 'Cornwall' 'Westerm Australia'\n",
      " 'Eastern Cape Province' 'Hua Hin' 'Cocos Island' 'Western Australia'\n",
      " 'Alifu Alifu Atoll' 'Western Cape Province' 'New Providence' 'Alagoas'\n",
      " nan 'Victoria' 'KwaZulu-Natal' 'Boi Island, Victoria' 'Galapagos Islands'\n",
      " 'Fernando de Noronha' 'Sepang' 'Holquin Province' 'Pamplemousses '\n",
      " 'South Australia' 'North Island' 'New York' 'Canary Islands'\n",
      " ' Upolu Island' 'Shizuoka Prefecture' 'Texas' 'Castellón' 'Massachusetts'\n",
      " 'Red Sea Protectorate' 'New Providence District'\n",
      " '40 miles off Grand Bahama Island' 'Ascension Island' 'New Jersey'\n",
      " 'Majorca' 'Washington' 'Tabasco' 'Anjouan' 'Ibiza Island' 'Marquesas'\n",
      " 'South Devon' 'New Providence ' 'Sharjah, ' 'Baja California Sur'\n",
      " 'Saint-Leu' 'South Island' 'Luzon Island' 'Great Exuma' 'Saint-Andre'\n",
      " 'Bimini' 'Bali' 'Tuamotos' 'Oregon' 'North Province'\n",
      " 'New Providence Island' 'Alicante Province' 'Hong Kong'\n",
      " 'Kochi Prefecture' 'Tasmania' 'Abaco Islands' 'Alabama' 'North Carolina'\n",
      " 'Isla Provedencia' 'Suez' 'Grand Terre' 'Boa Vista Island' 'Vanua Levu'\n",
      " 'Santa Catarina State' 'South Province' 'Altagracia Province'\n",
      " 'Grand Cayman' 'Balneário Camboriú' 'Fujairah Emirate'\n",
      " 'Grand Canary Island' 'Inhambane Province' 'Phuket' 'Alicante'\n",
      " 'Guanacaste' 'Bora Bora' 'Grand Bahama Island' 'Le Port' 'Rangiroa'\n",
      " 'Saint-Gilles-les-Bains' 'Sardinia' 'Sinaloa' 'Central Tuamotu'\n",
      " 'd\\x92Étang-Salé' 'Granada' 'Cargados Carajos Shoals (St. Brandon)'\n",
      " 'Moorea' 'Catalonia' 'Maryland' 'Louisiana' 'West End' 'Delaware'\n",
      " 'Atsumi peninsula' 'Palmyra Atoll' 'Wallis and Futuna'\n",
      " 'Baie de Sainte-Marie' 'Society Islands' 'Trinidad' 'Okinawa Prefecture'\n",
      " '740 miles SE of Tarawa Atoll' 'Southern District' 'Bay of Biscay'\n",
      " 'Quintana Roo' 'Exuma Islands' 'Saint-Paul' 'Taitung ' 'Kingston Parish'\n",
      " 'Santa Cruz Island' 'Saint-Gilles' 'Tuamotus' 'Eleuthera' 'St. Catherine'\n",
      " 'Palawan' 'Mercury Islands' 'Delta' \"Vava'u\" 'Inner Hebrides' 'Saint Leu'\n",
      " 'Trois-Bassins' 'British Colombia' 'Guerrero' 'Saint-Benoit'\n",
      " 'Tabuk Province' 'Antofagasta Province' \"St John's\" 'Santa Elena'\n",
      " 'East New Britain' 'Bois-Blanc ' 'Moray' 'Puerto Rico' 'Samaná Province'\n",
      " 'Coast Province' 'Central Province' 'Primorsky Krai'\n",
      " 'Peter the Great Bay, Khasan, Primorsky Krai (Far East)'\n",
      " 'Telyakovsky Bay, Khasan,  Primorsky Krai (Far East)' 'Praslin' 'Sucre'\n",
      " 'Middle Caicos' 'Caicos Bank' 'San Andrés archipelago' 'Kedah'\n",
      " 'Umm al Qaywayan Province' 'Vitu Levu' 'South Sinai Peninsula'\n",
      " ' Loyalty Islands' 'Saint Gilles ' 'Maine' 'Virginia' \"Ha'api \"\n",
      " 'Western Province' 'Jeju Province' 'Binh Dinh Province'\n",
      " 'Antsiranana Province' 'Sinai Peninsula' 'Off Vanua Levu' 'Merizo'\n",
      " 'Rio Grande Do Sul' 'Dubai' 'Torres Strait' 'Eastern Province'\n",
      " 'Eastern Cape  Province' 'Maputo Province' 'Bocas' 'Fife' 'Devon'\n",
      " 'Makira-Ulawa Province' 'Mombasa' 'Catalunya' 'St. Johns Reef'\n",
      " 'Off Green Island' 'North Region' 'Batangas province' 'Strait of Malacca'\n",
      " 'Guantanamo Province' 'Maranhão' 'Red Sea' 'Batanes Provine' 'Luzon'\n",
      " 'Northern Territory' ' Split-Dalmatia Count,' 'North Devon'\n",
      " 'US Virgin Islands' 'San Carlos' 'Cabo San Lucas' 'Sussex' 'Bahia'\n",
      " 'Easter Ross' 'Guerro' 'Yasawa Islands' 'Northern Bahamas' 'Tokyo Bay'\n",
      " 'Baja California' 'Green Bay' 'Loyalty Islands' 'Marovo Lagoon'\n",
      " 'Territory of Cocos (Keeling) Islands' 'Oslo Fjord' 'Kent' 'Bird Island'\n",
      " 'Providenciales' 'Bimini Islands' 'Muhafazat Hadramawt' 'Cook islans'\n",
      " 'Surigao del Norte' 'Between Somalia & Yemen' 'Ambergris Caye'\n",
      " 'Saint-Pierre' 'Kentucky' 'Andros Islands' 'Guam' 'Western Area'\n",
      " '300 miles from Antigua' '800 miles from land'\n",
      " '600 nm west of the Canary Islands' 'Simpson Bay' 'East Wall'\n",
      " 'Inner Islands' 'Shanghai' 'Malampa Province'\n",
      " \"South Ch'ungch'ong Province\" 'Bay Islands' 'New Mexico'\n",
      " 'Santa Isabel Province' 'Santiago de Cuba Province' 'Camaguey Province'\n",
      " 'Conservatória District' 'South Carolina ' 'Kuril Islands in the Pacific'\n",
      " 'Wakayama Prefecture' \"Nuku'alofa\" 'Saint-Benoît'\n",
      " 'South Island, near Karitane north of Dunedin' 'Rocha' 'Northlands'\n",
      " 'Anzoategui' 'Cook Islands' 'Tamil Nadu' 'Pearl Islands' 'Taveuni'\n",
      " 'Johnston Atoll' 'Baatan' 'Rio de Janeiro' 'Nueva Esparta' 'Southland'\n",
      " 'North Pacific coast' 'Caroline Islands' 'Cheshire'\n",
      " 'Louisiade Archipelago'\n",
      " 'KwaZulu-Natal between Port Edward and Port St Johns'\n",
      " 'Milne Bay Province' 'Cikobia Island (north of Vanua Levu)'\n",
      " 'Rayong Province' 'Zamboanga del Sur Province' 'Rio Grande de Norte'\n",
      " 'Off the western coast of peninsular Malaysia' 'New Brunswick'\n",
      " 'Miyako Island' 'Alaska' 'Minerva Reef' 'Madang Province'\n",
      " 'Worcestershire' 'Phang nga Province' 'Alinglaplap Atoll' 'Adriatic Sea'\n",
      " 'Ralik Chain' 'Grand Baie' \"L' Etang Salé-les-Bains\" 'Southern Japan'\n",
      " 'Cap Vert Peninsula' 'Marches region' 'Berry Islands' 'Transvaal' 'Gaza'\n",
      " \"Grand'Anse\" 'Beaufonds' 'Miyako' \"L'Etang-Sale\" 'Chatham Islands '\n",
      " 'South Sinai, Gulf of Aqaba' 'Cat Cay' 'Missouri'\n",
      " '12 miles off the north coast' 'Saint-Paul '\n",
      " 'Chatham Islands, east of New  Zealand' 'Saint-Denis' 'Vava\\x92u'\n",
      " 'Mississippi' 'Clearwater Bay' 'New Territories' 'Aichi Prefecture'\n",
      " 'Tafea Province' 'Kagoshima Prefecture' 'Saint-Joseph' 'Banaadir Region'\n",
      " 'La Libertad' 'Costa Blanca' 'Walkers Cay'\n",
      " 'On the Kowloon penisula, south of Sai Kung' 'Ehime Prefecture'\n",
      " 'Tongapatu Group' 'West Africa' 'Wakaya Island' 'North Carolina '\n",
      " 'Mexico / Caribbean Sea' 'Antarctic Ocean' 'La Saline-les-Bains'\n",
      " 'Sea of Japan' 'Tavenui' 'Ligurian Sea' \"L'Etang-Salé\"\n",
      " 'Kowloon Peninsula' 'Port Shelter' 'Laucala Island' 'Sainte-Marie'\n",
      " 'Great Exuma Island' 'Sainte-Suzanne' 'Tuscany' 'Tyrrhenian Sea'\n",
      " 'New Ireland' 'Valpariso Province' 'Viscayan Sea' 'Manfredonia '\n",
      " 'Tokyo Prefecture' 'Saint-Louis' 'Mindoro' 'Between DR and Puerto Rico'\n",
      " 'Between Honiara & Isabel Island' 'Florida Straits' 'Gulf of Lyons'\n",
      " 'Cádiz' 'Sicily' 'Andikira Fokithes' 'Central Philippines' 'Rhode Island'\n",
      " 'Northwest Italy' 'English Channel' 'North & South Carolina'\n",
      " 'Kumamoto Prefecture' 'Biserta' 'Saint-Philippe' 'Chungnam'\n",
      " 'Eronogo Region' 'Coquimbo' 'Pagasitikos Gulf' \"St. Mary's Parish\"\n",
      " 'Romblon Province' 'Lamu Archipelago' 'Los Vilos' 'Island of Kos'\n",
      " \"Ha'api\" 'Madeira Islands' 'Ho Ha Wan Marine Park' 'Southern Thailand'\n",
      " 'Golfo de Venezia' 'Ralik Archipelago'\n",
      " 'South China Sea 200 miles from Hong Kong' 'Reggio Calabria Province'\n",
      " 'Mirs Bay ' 'Genoa Province' 'Ganges-Brahmaputra delta'\n",
      " ' Split-Dalmatia County' 'Florida ' 'Primorje-Gorski Kotar County '\n",
      " 'Aulong Island' 'Western Caroline Islands' 'Upolu Island' 'Antibes'\n",
      " 'Illeginni Atoll' 'Istria County' 'Between Beira & Maputo'\n",
      " 'Khuzestan Province' 'Inhambe Province' 'Namonuito Atoll'\n",
      " 'Eastern Caroline Islands'\n",
      " 'Western Caroline Islands (North Pacific Ocean)' 'Caribbean Sea'\n",
      " 'St. Andrew Parish' '200 nm southeast of Manila' 'Limpopo River'\n",
      " 'New Ireland Province' 'Zadar County' 'Basrah' 'Clarendon' 'Moro Gulf'\n",
      " 'Johor' 'Magdalena Department' 'Mafia Island' 'Gulf Province'\n",
      " 'Morobe Province' 'Limón Province' 'Rombion Province' 'Veracruz'\n",
      " 'Brindisi Province' 'Kagawa Prefecture' 'Liguria' 'Hamilton'\n",
      " 'Out Islands' 'Mugla Province' 'Gibraltar' 'New Britain' 'Bay of Maputo'\n",
      " 'Duke of York Islands' 'Taranto province' 'Northern Taiwan'\n",
      " 'Admiralty Islands, Manus Province' 'North Sumatra'\n",
      " \"250 miles southwest of O'ahu, Hawaii\" 'West coast' 'East Sepik'\n",
      " 'Near Bougainville (North Solomons)' 'East of the Gulf of Aqaba'\n",
      " 'Bougainville (North Solomons)' 'Victoria ' 'Okayama Prefecture'\n",
      " 'San Blas' 'Connecticut' 'Lau Group' 'Caribbean Coast' 'Vita Levu'\n",
      " 'San Blas Islands' 'Puntarenas Province' 'Lomaloma, Lau'\n",
      " 'Between Southampton & Canary Islands' 'South Coast, East New Britain'\n",
      " ' Lau Province' 'Ysabel Island' 'Santo Domingo' 'San Blas coast'\n",
      " 'Thessaly' 'Lomaiviti  Island Group' 'Rodrigues' 'Manus Island'\n",
      " 'Pinas Bay' 'Grand Turk Island' 'Off coast of West Africa' 'Sharon'\n",
      " 'Antalya Province' 'Northern District'\n",
      " 'New Ireland Province, Bismarck Archipelago' 'Cyclades' 'Viti Levu'\n",
      " 'Off the Coromandel Peninsula, North Island' 'Madang'\n",
      " 'Guadalcanal Province' '10ºS, 142ºE' 'Kwajalein Atoll' 'East Flores'\n",
      " 'Guerrrero' 'Western Luzon Island' 'Shefa Province'\n",
      " '165  miles from Bermuda'\n",
      " '25 km off the coast of Iran & 483km from mouth of Persian Gulf'\n",
      " 'Venice Province' 'Sandaun Province' 'Anatolia'\n",
      " 'East New Britain Province' 'United Arab Emirates'\n",
      " 'Wake Island (EnenKio)' '19S, 178?E' 'Pennsylvania' '9.35N 79.35W'\n",
      " 'Roncador Bank' 'Western District' 'Enroute from Suez to Aden (Yemen)'\n",
      " '180 miles southeast of Okinawa' 'Eniwetok Atoll' 'Cap-Vert Peninsula'\n",
      " 'Delagoa Bay' 'In the English Channel ' 'Cook Strait'\n",
      " 'Unknown, treated at Wick, SCOTLAND' 'Corregidor Island' 'Paget'\n",
      " '33N, 68W' 'Casamance' 'Madang (WO)' 'Between Timor & Darwin, Australia'\n",
      " 'Pacific coast' 'St. Georges ' 'Eastern  Province'\n",
      " 'Northwest of Viti Levu' 'West New Britain Province' 'Rigo subdistrict'\n",
      " 'Masbate' '400 miles southeast of Sri Lanka' 'Lomaiviti Province'\n",
      " 'Kadavu' 'Leyte Island' 'Orissa' 'Hokkaido Prefecture' 'North Palawan'\n",
      " 'Queaon' 'Istria' 'PANAMA' 'In the Gulf Stream ' 'Mersin Province'\n",
      " 'Guyamas' 'Between England & South Africa' 'Mindanao'\n",
      " ' Kikori River mouth' 'South Chungcheong Province' 'Ahirkapi coast'\n",
      " 'Tutuila Island' 'Primorje-Gorski Kotar County'\n",
      " 'Between Hawaii & Wake Island' 'Taipei Hsien' 'Ibaraki Prefecture'\n",
      " 'South Pacific Ocean' 'Canal Zone' '1,000 miles east of Hawaii' 'Honiara'\n",
      " 'Yucatan Channel' 'Havana Province' 'Karun River'\n",
      " 'Abau Subdistrict,Central Province' 'New Britain, Bismarck Archipelago'\n",
      " 'Estuaire Province' 'Near Dakar, Cap Vert Peninsula'\n",
      " 'Near the Andaman & Nicobar Islands' 'Mozambique Channel' 'Tyrrenian Sea'\n",
      " 'Congreve Channel' 'St. Thomas Bay' 'Madeira'\n",
      " 'Between Comores & Madagascar' 'Corfu Island' '1000 miles west of Hawaii'\n",
      " 'Izo Islands' ' Primorje-Gorski Kotar County' 'Open sea' 'Aden'\n",
      " 'New Ireland, Bismarck Archipelago' '18S / 50E' 'Illinois'\n",
      " 'Isles del Rosario' 'Wake Island' 'Isle of Man' 'Nagasaki Prefecture'\n",
      " 'Liguaria' 'Slovenia' 'South shore ' 'Buenos Aires Province'\n",
      " '330 to 350 miles east of Wake Island' 'Nova Scotia' 'Gulf of Panama'\n",
      " 'Genoa  Province' 'Abau Sub District, Central Province' 'Teramo'\n",
      " 'Red Sea State' 'Curacao' 'Port Louis Province' 'Montserrado'\n",
      " 'Bay of Maputu' 'Sofala Province' 'Salerno' 'Salerno Province' 'Taranto'\n",
      " 'Naples Province' ' La Libertad' 'Sago Prefecture' 'Savona'\n",
      " 'Southern Province' 'Jakarta Harbour' 'Singapore Harbor' 'Calabria'\n",
      " 'Shatt-el-Arab River' 'Shatt-al-Arab River' 'Tamaulipas'\n",
      " 'Calvados Archipelago' 'Shat-Al-Arab River'\n",
      " 'Between Kwajalein Atoll & Johnston Island' 'Attica' 'Adana Province'\n",
      " 'Bandar Ma\\x92shur sea inlet' 'Saipan' 'Carpathian Sea' 'Kwajalein'\n",
      " 'Dar-es-Salaam ' '\"Head of the Gulf\"' 'Ryukyu' ' North Carolina'\n",
      " 'In transit between Tinian and Leyte' 'Northern Java' 'Tel Aviv'\n",
      " 'Colon Province' '300 miles east of Luzon'\n",
      " 'Bernardino Strait near Gulf of Leyte'\n",
      " 'Off Samar Island in the Gulf of Leyte' 'Lake Nicaragua (fresh water)'\n",
      " 'Pacific Ocean' 'Near the Fiji Islands' '40 miles south of Naples '\n",
      " 'Northwest of Papua New Guinea' 'Between Hawaii and U.S.A.'\n",
      " 'Off South American coast' 'Makora-Ulawa Province' '04.05N-13.23W'\n",
      " 'Midway Atoll' '300 miles east of St. Thomas (Virgin Islands)'\n",
      " 'West of Ceylon (Sri  Lanka)' 'East Java' 'Camiguin Island'\n",
      " 'Cay Sal Bank' '(Southwestern Pacific)' 'Panama City' 'Off Libya'\n",
      " 'North of Pernambuco, Brazil' 'Off coast of Ecuador' 'Trelawney Province'\n",
      " 'In Convoy OB 274' 'New Georgia' 'Panama Bay (Pacific Ocean)' 'Bwagaoia'\n",
      " 'Western Papuan Gulf' 'Torres Strait ' 'Carabobo' 'Ascension Bay'\n",
      " 'North China' 'Lower San Juan River' 'Nicoya Peninsula' 'Basrah City'\n",
      " 'West Bengal' 'Queensland ' 'Argyllshire' 'Arran' 'Argyll'\n",
      " 'Fishing Grounds' 'Newfoundland' 'Isle of Wight' 'Makira-Uluwa Province'\n",
      " 'Northern (Oro) Province' 'Herzliyah' 'Elqui Province' 'Istanbul'\n",
      " 'St Michael Parish' 'Barlavento Islands' 'Viti Levu Island'\n",
      " 'Bay of Fundy' 'Manila' 'French Southern Territories' 'Niua '\n",
      " 'Black River' 'Phoenix Islands' 'Cienfuegos Province' 'Valencia'\n",
      " 'Santiago Island' 'Near Puntarenas' 'Porto Seguro' 'Salinas Bay'\n",
      " 'Golfo di Genova in the Ligurian Sea' 'Sants-Montjic'\n",
      " 'South of the Equator ' 'Bay of Monaco' 'Valencia ' 'Vancouver'\n",
      " '2 to 3 miles off Taboguilla Island, Pacific Ocean' 'Dorset'\n",
      " '150 miles offshore' 'Galica' 'Demerara County' 'Vera Cruz' ' Manila Bay'\n",
      " 'Lucy' 'East Yorkshire' 'Westmoreland Parish' 'Cavite Province, Luzon'\n",
      " 'Cape Haitien' 'Leyte' 'Halifax' 'Turtle Bogue'\n",
      " '60 miles north of San Domingo in the West Indies' 'Colon' 'Off Ireland'\n",
      " 'Mediterranean Sea' 'Gran Canaria' 'Apolima Strait' 'Essequibo' 'Lagos '\n",
      " 'Trieste' '5aint-Denis' 'Viti Levu group' 'Balearics' 'Málaga '\n",
      " 'Chatham Islands' 'Georges Bank' 'Zambesi River' 'Colón Province'\n",
      " '30 nm from Singapore' 'Andalucia' 'Sfax' 'South Atlantic Ocean'\n",
      " 'Galicia' 'Gulf of Suez' 'Java' 'Tiburon Peninsula' 'Oaxaca'\n",
      " 'Harare Province' 'Khánh Hòa Province' 'Maluku Province' 'Suez Canal'\n",
      " ' Nusa Tenggara' 'Between Noumea & Sydney' 'Villa Clara Province'\n",
      " 'Ancona Province' 'Quezon' 'Rio San Juan' 'Southern Cyprus' 'Syracuse'\n",
      " 'Western Viscayas' 'Mindoro Occidental' 'Negros ' 'Imperia Province'\n",
      " 'Muala' 'East coast' 'Ratak ' 'Socotra Islands' 'Off Cape Haitien'\n",
      " 'Moluccas' 'Bocas del Toro' 'Provence' 'Bay of Campeche' 'Rangoon'\n",
      " 'Bay of Bengal' 'Bayelsa State' 'South Island?' 'Norfolk Island'\n",
      " 'Brittany' 'Line Islands' 'Woodlark Islands' 'Munxar Reef'\n",
      " 'Northern Peloponnese' 'Between Perth & Colombo' 'Gujarat' 'Lukovo'\n",
      " 'Cortés' 'Gulf of California'\n",
      " 'Somewhere between Philadelphia and Hiogo, Japan' ' New Jersey'\n",
      " \"Côte d'Azur  \" 'Maldonado coast' 'Western Banks' 'Andaman Islands'\n",
      " 'Off the coast of West Africa' 'Misamis Oriental' 'Strait of Messina'\n",
      " 'Hoogly River' 'Cyclades archipelago' 'Mount Lebanon'\n",
      " 'Between Hastings & Fairlight, Sussex' 'Veracruz ' 'Gilbert Islands'\n",
      " 'Lomaiviti Provine' 'Off the coast of South America' '22ºN, 88ºE'\n",
      " 'Matanzas Province (north coast)' 'Alpes Maritime' 'Edinburgh'\n",
      " 'Eastern Catalona' '300 miles east of Mauritius' 'Foveaux Strait'\n",
      " 'Sumatra' 'Conakry Region' 'Corfu' 'Malaga' 'Bonin Islands'\n",
      " 'Fernando Po Island' 'Mangaia Island' 'New York ' 'Corfu '\n",
      " 'Between Australia & USA' 'Tongatapu' 'Norfolk' 'Island of St. Thomas'\n",
      " 'Cumberland' 'Sanma Province' \"35º39 : 165º8'\" 'CUBA' 'Western Area '\n",
      " 'Paraiba' 'Cape Coast' 'Rivers State' 'Maharashtra' 'St. Anne'\n",
      " 'St Helena' \"Côte d'Azur \" 'Skagerrak arm of the North Sea'\n",
      " 'Las Perlas archipelago' 'Bardestrand' 'Southwest coast' 'Kerala'\n",
      " 'Nice & Marseilles' 'Magarita or Cubagua Islands' 'Ionian Sea' 'Piraeus'\n",
      " 'Off Thessaly' 'Bocas del Toro Province' 'Rocha ' 'Gulf of Tadjoura'\n",
      " 'Cyrenaica' 'Northern Province' 'Los Roques  Islands'\n",
      " 'Dodecanese Islands' 'Malaita Province' 'South Korea'\n",
      " 'Milne Bay  Province' 'Island of Volos' 'Amirante Islands'\n",
      " 'Kadavu Island Group' 'Toamasina Province' 'Riau Province' 'Bikini Atoll'\n",
      " 'Between New Ireland & New Britain' 'Ba Ria-Vung Tau  Province'\n",
      " 'Moala Island']\n",
      "\n",
      "Location:['Oceanside, San Diego County' 'St. Simon Island, Glynn County'\n",
      " 'Habush, Oahu' ... 'Ocracoke Inlet' 'Panama Bay 8ºN, 79ºW'\n",
      " 'Below the English fort, Trincomalee']\n",
      "\n",
      "Activity:['Paddling' 'Standing' 'Surfing' ...\n",
      " 'Crew swimming alongside their anchored ship' '4 men were bathing'\n",
      " 'Wreck of  large double sailing canoe']\n",
      "\n",
      "Name:['Julie Wolfe' 'Adyson\\xa0McNeely ' 'John Denges' ... 'A \"chiefess\"'\n",
      " 'Ahmun' 'Jules Patterson']\n",
      "\n",
      "Sex:['F' 'M' nan 'M ' 'lli' 'N' '.']\n",
      "\n",
      "Age:['57' '11' '48' nan '18' '52' '15' '12' '32' '10' '21' '34' '30' '60' '33'\n",
      " '29' '54' '41' '37' '56' '19' '25' '69' '38' '55' '35' '46' '45' '14'\n",
      " '40s' '28' '20' '24' '26' '49' '22' '7' '31' '17' '40' '13' '42' '3' '8'\n",
      " '50' '16' '82' '73' '20s' '68' '51' '39' '58' 'Teen' '47' '61' '65' '36'\n",
      " '66' '43' '60s' '9' '72' '59' '6' '27' '64' '23' '71' '44' '62' '63' '70'\n",
      " '18 months' '53' '30s' '50s' 'teen' '77' '74' '28 & 26' '5' '86'\n",
      " '18 or 20' '12 or 13' '46 & 34' '28, 23 & 30' 'Teens' '36 & 26' '8 or 10'\n",
      " '84' '\\xa0 ' ' ' '30 or 36' '6½' '21 & ?' '75' '33 or 37' 'mid-30s'\n",
      " '23 & 20' ' 30' '7      &    31' ' 28' '20?' \"60's\" '32 & 30' '16 to 18'\n",
      " '87' '67' 'Elderly' 'mid-20s' 'Ca. 33' '74 ' '45 ' '21 or 26' '20 ' '>50'\n",
      " '18 to 22' 'adult' '9 & 12' '? & 19' '9 months' '25 to 35' '23 & 26' '1'\n",
      " '(adult)' '33 & 37' '25 or 28' '37, 67, 35, 27,  ? & 27' '21, 34,24 & 35'\n",
      " '30 & 32' '50 & 30' '17 & 35' 'X' '\"middle-age\"' '13 or 18' '34 & 19'\n",
      " '33 & 26' '2 to 3 months' 'MAKE LINE GREEN' ' 43' '81' '\"young\"' '7 or 8'\n",
      " '78' '17 & 16' 'F' 'Both 11' '9 or 10' 'young' '36 & 23' '  ' 'A.M.'\n",
      " '?    &   14' '10 or 12' '31 or 33' '2½' '13 or 14']\n",
      "\n",
      "Injury:['No injury to occupant, outrigger canoe and paddle damaged'\n",
      " 'Minor injury to left thigh'\n",
      " 'Injury to left lower leg from surfboard skeg' ...\n",
      " 'FATAL, leg stripped of flesh  '\n",
      " 'FATAL, knocked overboard by tail of shark & carried off by shark '\n",
      " 'FATAL. \"Shark bit him in half, carrying away the lower extremities\" ']\n",
      "\n",
      "Fatal:['N' 'Y' nan 'M' 'UNKNOWN' '2017' ' N' 'N ' 'y']\n",
      "\n",
      "Time:['18h00' '14h00  -15h00' '07h45' nan 'Late afternoon' '17h00' '14h00'\n",
      " 'Morning' '15h00' '08h15' '11h00' '10h30' '10h40' '16h50' '07h00' '09h30'\n",
      " 'Afternoon' '21h50' '09h40' '08h00' '17h35' '15h30' '07h30' '19h00, Dusk'\n",
      " 'Night' '16h00' '15h01' '12h00' '13h45' '23h30' '09h00' '14h30' '18h30'\n",
      " '12h30' '16h30' '18h45' '06h00' '10h00' '10h44' '13h19' 'Midday' '13h30'\n",
      " '10h45' '11h20' '11h45' '19h30' '08h30' '15h45' 'Shortly before 12h00'\n",
      " '17h34' '17h10' '11h15' '08h50' '17h45' '13h00' '10h20' '13h20' '02h00'\n",
      " '09h50' '11h30' '17h30' '9h00' '10h43' 'After noon' '15h15' '15h40'\n",
      " '19h05' '1300' '14h30 / 15h30' '22h00' '16h20' '14h34' '15h25' '14h55'\n",
      " '17h46' 'Morning ' '15h49' '19h00' 'Midnight' '09h30 / 10h00' '10h15'\n",
      " '18h15' '04h00' '14h50' '13h50' '19h20' '10h25' '10h45-11h15' '16h45'\n",
      " '15h52' '06h15' '14h40' '19h45' '10h10' '08h45' 'Evening' '12h10' '18h05'\n",
      " '11h41' '12h25' '17h51' '16h12' '12h45' '10h50' '14h15' '09h45' '06h45'\n",
      " '05h00' '03h30' 'Sometime between 06h00 & 08hoo' '06h30' '17h20' '20h00'\n",
      " '16h40' '16h18' '11h10' 'Early afternoon' '17h50' '07h00 - 08h00'\n",
      " '18h15-18h30' '17h01' '09h57' '08h20' '17h58' '20h30' '15h19' '10h55'\n",
      " '15h55' '23h00' '12h40' '13h55' '16h05' '14h10' '15h20' '12h50' '14h45'\n",
      " '13h40' '13h24' '09h00 - 09h30' '0830' '11h40' '08h10' '15h56' '14h20'\n",
      " 'Just before noon' '07h56' '1600' '17h17' '16h35' '09h05' '07h15' '07h20'\n",
      " '19h28' '12h38' '05h50' '15h50' '11h05' 'Early morning' 'Dawn' '05h45'\n",
      " '13h25' '12h20' '13h26' '09h11' '12h15' '13h15' '18h20' '15h35' 'AM'\n",
      " '13h51' 'A.M.' '08h05' '19h15' '10h35' '15h44' 'Dusk' '21h00' 'Lunchtime'\n",
      " '15j45' '09h35' '10h27' '10h16' '0500' 'Before 07h00' '09h20'\n",
      " '10h00 -- 11h00' '12h05' '14h21' '18h50' '15h53' '\"Just before 11h00\"'\n",
      " '11h115' '13h42' '20h15' '12h39' '07h05' 'Sunset' '  ' '13h05' '11h50'\n",
      " '\"Evening\"' 'Just before sundown' '17h55' '22h30' '17h15' '16h10'\n",
      " '11h30 ' '06h10' '16h15' 'Between 05h00 and 08h00' '07h08'\n",
      " '17h00 or 17h40' '03h00' '>08h00' '--' '12h02' '12h55' '16h14' '17h11'\n",
      " '00h30' '14h37' '10h07' '13h53' '11h55' '13h23' 'Just after 12h00'\n",
      " '02h30' '08h40' '11h56' '14h35' ' ' 'Early Morning' '07h50'\n",
      " 'Shortly after midnight' '14h25' '13h345' '\\xa0 ' '06h47' '09h00 -10h00'\n",
      " '20h45 (Sunset)' 'Late morning' 'P.M.' '18h40' '13h14' '13h06'\n",
      " 'Shortly before 13h00' '12h34' '11h53' '8:04 pm' '12h46' '12h48' '17h42'\n",
      " '12h35' 'Possibly same incident as 2000.08.21' 'After Dusk' '11h57'\n",
      " 'Noon' '17h40' '11h25' '18h25' '10h28' '09h15' '14h16' '09h55'\n",
      " '2 hours after Opperman' '15h05' '09h30 ' 'Mid afternoon' 'Mid morning'\n",
      " '11h48' '11h00 / 11h30' '07h19' '13h37' '11h06' '\"Night\"' '18h30?'\n",
      " '11h58' '11h51' '18h12' '07h10' '07h40' '12h33'\n",
      " '30 minutes after 1992.07.08.a' '>06h45' '15h06' '12h54'\n",
      " 'Between 06h00 & 07h20' '16h55' '05h40' '<07h30' '21h30' '17h00 Sunset'\n",
      " 'Nightfall' 'X' '08h57' '18h30 (Sunset)' '06j00' '08h35' '10h22' '02h45'\n",
      " 'Prior to 10h37' 'Daybreak' '18h10' '>12h00' 'Mid-morning' '08h55'\n",
      " '16h30 or 18h00' 'Just before dawn' ' 14h00' 'Daytime' '06h50' '01h00'\n",
      " 'Dark' '10h00 / 11h00' '\"After lunch\"' '07h32' '15h00 or 15h45' '>17h00'\n",
      " '19h00 / 20h00' '12h45 / 13h45' '14h00 - 15h00' 'night' '03h45 - 04h00'\n",
      " '13h10' '09h30 / 15h30' '08h00 / 09h30' '19h35' '12h00 to 14h00' '13h35'\n",
      " 'Late night' '01h32' '10h30 or 13h30' '16h23' '15h00j' 'Midday.'\n",
      " '\"After dark\"' '10h00 or 14h00' '19h10' '16h25' '2 hrs before sunset'\n",
      " '18h15 to 21h30' '1500' '\"shortly before dusk\"' '>17h30' '>14h30'\n",
      " 'Between 11h00 & 12h00' 'After 04h00' '11h01 -time of ship sinking'\n",
      " 'Ship aban-doned at 03h10' '19h55' 'After dusk'\n",
      " 'FATAL  (Wire netting installed at local beaches after this incident.)'\n",
      " '01h30' 'After midnight' 'Late afternon' '05h30' '08h58'\n",
      " '\"Early evening\"' 'Late Afternoon' '   ' 'Before daybreak' 'dusk'\n",
      " 'Before 10h30' '06h00 -- 07h00' '01h50' '17h00-18h00' '19h00-20h00']\n",
      "\n",
      "Species:['White shark' nan '2 m shark' ... \"12' tiger shark\" 'Blue pointers'\n",
      " 'Said to involve a grey nurse shark that leapt out of the water and  seized the boy but species identification is questionable']\n",
      "\n",
      "Investigator or Source:['R. Collier, GSAF' 'K.McMurray, TrackingSharks.com' 'B. Myatt, GSAF' ...\n",
      " 'F. Schwartz, p.23; C. Creswell, GSAF' 'The Sun, 10/20/1938' 'S.W. Baker']\n",
      "\n",
      "pdf:['2018.06.25-Wolfe.pdf' '2018.06.18-McNeely.pdf' '2018.06.09-Denges.pdf'\n",
      " ... 'ND-0002-JulesPatterson.pdf' 'ND-0001-Ceylon.pdf' nan]\n",
      "\n",
      "href formula:['http://sharkattackfile.net/spreadsheets/pdf_directory/2018.06.25-Wolfe.pdf'\n",
      " 'http://sharkattackfile.net/spreadsheets/pdf_directory/2018.06.18-McNeely.pdf'\n",
      " 'http://sharkattackfile.net/spreadsheets/pdf_directory/2018.06.09-Denges.pdf'\n",
      " ...\n",
      " 'http://sharkattackfile.net/spreadsheets/pdf_directory/ND-0003-Ocracoke_1900-1905.pdf'\n",
      " 'http://sharkattackfile.net/spreadsheets/pdf_directory/ND-0002-JulesPatterson.pdf'\n",
      " 'http://sharkattackfile.net/spreadsheets/pdf_directoryND-0001-Ceylon.pdf']\n",
      "\n",
      "href:['http://sharkattackfile.net/spreadsheets/pdf_directory/2018.06.25-Wolfe.pdf'\n",
      " 'http://sharkattackfile.net/spreadsheets/pdf_directory/2018.06.18-McNeely.pdf'\n",
      " 'http://sharkattackfile.net/spreadsheets/pdf_directory/2018.06.09-Denges.pdf'\n",
      " ...\n",
      " 'http://sharkattackfile.net/spreadsheets/pdf_directory/ND-0002-JulesPatterson.pdf'\n",
      " 'http://sharkattackfile.net/spreadsheets/pdf_directoryND-0001-Ceylon.pdf'\n",
      " nan]\n",
      "\n",
      "Case Number.1:['2018.06.25' '2018.06.18' '2018.06.09' ... 'ND.0002' 'ND.0001' nan]\n",
      "\n",
      "Case Number.2:['2018.06.25' '2018.06.18' '2018.06.09' ... 'ND.0002' 'ND.0001' nan]\n",
      "\n",
      "original order:[6303. 6302. 6301. ... 6309. 6310.   nan]\n",
      "\n",
      "Unnamed: 22:[nan 'stopped here']\n",
      "\n",
      "Unnamed: 23:[nan 'Teramo' 'change filename']\n",
      "\n"
     ]
    }
   ],
   "source": [
    "for i in data.columns:\n",
    "    print(str(i) + ':' + str(data[i].unique()) + '\\n' )"
   ]
  },
  {
   "cell_type": "code",
   "execution_count": 8,
   "metadata": {},
   "outputs": [
    {
     "data": {
      "text/html": [
       "<div>\n",
       "<style scoped>\n",
       "    .dataframe tbody tr th:only-of-type {\n",
       "        vertical-align: middle;\n",
       "    }\n",
       "\n",
       "    .dataframe tbody tr th {\n",
       "        vertical-align: top;\n",
       "    }\n",
       "\n",
       "    .dataframe thead th {\n",
       "        text-align: right;\n",
       "    }\n",
       "</style>\n",
       "<table border=\"1\" class=\"dataframe\">\n",
       "  <thead>\n",
       "    <tr style=\"text-align: right;\">\n",
       "      <th></th>\n",
       "      <th>Case Number</th>\n",
       "      <th>Date</th>\n",
       "      <th>Year</th>\n",
       "      <th>Type</th>\n",
       "      <th>Country</th>\n",
       "      <th>Area</th>\n",
       "      <th>Location</th>\n",
       "      <th>Activity</th>\n",
       "      <th>Name</th>\n",
       "      <th>Sex</th>\n",
       "      <th>...</th>\n",
       "      <th>Species</th>\n",
       "      <th>Investigator or Source</th>\n",
       "      <th>pdf</th>\n",
       "      <th>href formula</th>\n",
       "      <th>href</th>\n",
       "      <th>Case Number.1</th>\n",
       "      <th>Case Number.2</th>\n",
       "      <th>original order</th>\n",
       "      <th>Unnamed: 22</th>\n",
       "      <th>Unnamed: 23</th>\n",
       "    </tr>\n",
       "  </thead>\n",
       "  <tbody>\n",
       "    <tr>\n",
       "      <th>2189</th>\n",
       "      <td>1998.05.16.c</td>\n",
       "      <td>16-May-1998</td>\n",
       "      <td>1998.0</td>\n",
       "      <td>Unprovoked</td>\n",
       "      <td>USA</td>\n",
       "      <td>Florida</td>\n",
       "      <td>Pecks Lake, Martin County</td>\n",
       "      <td>Swimming</td>\n",
       "      <td>Janelle Dickinson</td>\n",
       "      <td>F</td>\n",
       "      <td>...</td>\n",
       "      <td>1.8 m [6'] shark, possibly a blacktip</td>\n",
       "      <td>The Stuart (FL) News, 5/17/1998</td>\n",
       "      <td>1998.05.16.c-Dickinson.pdf</td>\n",
       "      <td>http://sharkattackfile.net/spreadsheets/pdf_di...</td>\n",
       "      <td>http://sharkattackfile.net/spreadsheets/pdf_di...</td>\n",
       "      <td>1998.05.16.c</td>\n",
       "      <td>1998.05.16.c</td>\n",
       "      <td>4114.0</td>\n",
       "      <td>NaN</td>\n",
       "      <td>NaN</td>\n",
       "    </tr>\n",
       "    <tr>\n",
       "      <th>20041</th>\n",
       "      <td>NaN</td>\n",
       "      <td>NaN</td>\n",
       "      <td>NaN</td>\n",
       "      <td>NaN</td>\n",
       "      <td>NaN</td>\n",
       "      <td>NaN</td>\n",
       "      <td>NaN</td>\n",
       "      <td>NaN</td>\n",
       "      <td>NaN</td>\n",
       "      <td>NaN</td>\n",
       "      <td>...</td>\n",
       "      <td>NaN</td>\n",
       "      <td>NaN</td>\n",
       "      <td>NaN</td>\n",
       "      <td>NaN</td>\n",
       "      <td>NaN</td>\n",
       "      <td>NaN</td>\n",
       "      <td>NaN</td>\n",
       "      <td>NaN</td>\n",
       "      <td>NaN</td>\n",
       "      <td>NaN</td>\n",
       "    </tr>\n",
       "    <tr>\n",
       "      <th>15531</th>\n",
       "      <td>NaN</td>\n",
       "      <td>NaN</td>\n",
       "      <td>NaN</td>\n",
       "      <td>NaN</td>\n",
       "      <td>NaN</td>\n",
       "      <td>NaN</td>\n",
       "      <td>NaN</td>\n",
       "      <td>NaN</td>\n",
       "      <td>NaN</td>\n",
       "      <td>NaN</td>\n",
       "      <td>...</td>\n",
       "      <td>NaN</td>\n",
       "      <td>NaN</td>\n",
       "      <td>NaN</td>\n",
       "      <td>NaN</td>\n",
       "      <td>NaN</td>\n",
       "      <td>NaN</td>\n",
       "      <td>NaN</td>\n",
       "      <td>NaN</td>\n",
       "      <td>NaN</td>\n",
       "      <td>NaN</td>\n",
       "    </tr>\n",
       "  </tbody>\n",
       "</table>\n",
       "<p>3 rows × 24 columns</p>\n",
       "</div>"
      ],
      "text/plain": [
       "        Case Number         Date    Year        Type Country     Area  \\\n",
       "2189   1998.05.16.c  16-May-1998  1998.0  Unprovoked     USA  Florida   \n",
       "20041           NaN          NaN     NaN         NaN     NaN      NaN   \n",
       "15531           NaN          NaN     NaN         NaN     NaN      NaN   \n",
       "\n",
       "                        Location  Activity               Name  Sex  ...  \\\n",
       "2189   Pecks Lake, Martin County  Swimming  Janelle Dickinson    F  ...   \n",
       "20041                        NaN       NaN                NaN  NaN  ...   \n",
       "15531                        NaN       NaN                NaN  NaN  ...   \n",
       "\n",
       "                                     Species           Investigator or Source  \\\n",
       "2189   1.8 m [6'] shark, possibly a blacktip  The Stuart (FL) News, 5/17/1998   \n",
       "20041                                    NaN                              NaN   \n",
       "15531                                    NaN                              NaN   \n",
       "\n",
       "                              pdf  \\\n",
       "2189   1998.05.16.c-Dickinson.pdf   \n",
       "20041                         NaN   \n",
       "15531                         NaN   \n",
       "\n",
       "                                            href formula  \\\n",
       "2189   http://sharkattackfile.net/spreadsheets/pdf_di...   \n",
       "20041                                                NaN   \n",
       "15531                                                NaN   \n",
       "\n",
       "                                                    href Case Number.1  \\\n",
       "2189   http://sharkattackfile.net/spreadsheets/pdf_di...  1998.05.16.c   \n",
       "20041                                                NaN           NaN   \n",
       "15531                                                NaN           NaN   \n",
       "\n",
       "      Case Number.2 original order Unnamed: 22 Unnamed: 23  \n",
       "2189   1998.05.16.c         4114.0         NaN         NaN  \n",
       "20041           NaN            NaN         NaN         NaN  \n",
       "15531           NaN            NaN         NaN         NaN  \n",
       "\n",
       "[3 rows x 24 columns]"
      ]
     },
     "execution_count": 8,
     "metadata": {},
     "output_type": "execute_result"
    }
   ],
   "source": [
    "# Mediante esta función podemos ver datos aleatorios de nuestra estructura, y hacernos una idea de lo que tenemos\n",
    "\n",
    "data.sample(3)"
   ]
  },
  {
   "attachments": {},
   "cell_type": "markdown",
   "metadata": {},
   "source": [
    "#### Aqui si nos fijamos bien, no todas las columnas están bien escritas, o no aportan nada porque solamente contienen valores NaN, como en el caso de \"Unnamed: 22\" y \"Unnamed: 23\",  y eso nos puede llevar a errores mas adelante. Así que vamos a mofificar y eliminar las variables que no nos vayan a hacer falta o no aporten ningún valor al estudio."
   ]
  },
  {
   "cell_type": "code",
   "execution_count": 256,
   "metadata": {},
   "outputs": [],
   "source": [
    "# Tenemos dos columnas con un espacio al final y otra con paréntesis, mayúsculas... Vamos a renombrarlas\n",
    "\n",
    "print('Nombre columnas:',data.columns)"
   ]
  },
  {
   "cell_type": "markdown",
   "metadata": {},
   "source": [
    "### Arreglamos eso:"
   ]
  },
  {
   "cell_type": "code",
   "execution_count": 4,
   "metadata": {},
   "outputs": [],
   "source": [
    "data.rename(columns = {'Sex ':'Sex'}, inplace = True)\n",
    "data.rename(columns = {'Species ':'Species'}, inplace = True)\n",
    "data.rename(columns = {'Fatal (Y/N)':'Fatal'}, inplace = True)"
   ]
  },
  {
   "cell_type": "markdown",
   "metadata": {},
   "source": [
    "## Ahora comprobamos los países donde se dan mas casos de ataques de tiburones. El Top 5."
   ]
  },
  {
   "cell_type": "code",
   "execution_count": 5,
   "metadata": {},
   "outputs": [
    {
     "data": {
      "text/plain": [
       "[(nan, 19471),\n",
       " ('USA', 2229),\n",
       " ('AUSTRALIA', 1338),\n",
       " ('SOUTH AFRICA', 579),\n",
       " ('PAPUA NEW GUINEA', 134)]"
      ]
     },
     "execution_count": 5,
     "metadata": {},
     "output_type": "execute_result"
    }
   ],
   "source": [
    "country = data['Country']\n",
    "Counter(country).most_common(5)"
   ]
  },
  {
   "cell_type": "code",
   "execution_count": 6,
   "metadata": {},
   "outputs": [],
   "source": [
    "country = country.dropna()\n",
    "top_country = dict(Counter(country).most_common(5))\n",
    "y_count= (top_country.keys())\n",
    "x_count= top_country.values()\n",
    "y_pos_count = np.arange(len(y_count))"
   ]
  },
  {
   "cell_type": "code",
   "execution_count": 11,
   "metadata": {},
   "outputs": [
    {
     "data": {
      "text/plain": [
       "Text(0.5, 1.0, 'Países con mayor número de casos')"
      ]
     },
     "execution_count": 11,
     "metadata": {},
     "output_type": "execute_result"
    },
    {
     "data": {
      "image/png": "[encoded data removed]",
      "text/plain": [
       "<Figure size 1000x600 with 1 Axes>"
      ]
     },
     "metadata": {},
     "output_type": "display_data"
    }
   ],
   "source": [
    "plt.style.use('ggplot')\n",
    "plt.rcParams['figure.figsize'] = [10, 6]\n",
    "fig, ax = plt.subplots()\n",
    "ax.barh(y_pos_count, x_count, align='center')\n",
    "ax.set_yticks(y_pos_count)\n",
    "ax.set_yticklabels(y_count)\n",
    "ax.invert_yaxis()  \n",
    "ax.set_xlabel('Número de casos')\n",
    "ax.set(xlim=[0, 2500])\n",
    "ax.set_title('Países con mayor número de casos')"
   ]
  },
  {
   "cell_type": "markdown",
   "metadata": {},
   "source": [
    "### El País que vamor a centrar nuestro análisis exploratorio será USA"
   ]
  },
  {
   "cell_type": "code",
   "execution_count": 7,
   "metadata": {},
   "outputs": [
    {
     "name": "stdout",
     "output_type": "stream",
     "text": [
      "Los número de registros de ataques de tiburón en USA son 2229\n"
     ]
    }
   ],
   "source": [
    "# Vamos a filtrar el dataset por el país con el que nos vamos a quedar para el análisis\n",
    "\n",
    "country = 'USA'\n",
    "df_country_filtered = data[data['Country'] == country]\n",
    "\n",
    "count_num_country_filtered = len(df_country_filtered)\n",
    "print(f'Los número de registros de ataques de tiburón en {country} son {count_num_country_filtered}')"
   ]
  },
  {
   "cell_type": "markdown",
   "metadata": {},
   "source": [
    "# Limpieza de Nulos"
   ]
  },
  {
   "cell_type": "code",
   "execution_count": 259,
   "metadata": {},
   "outputs": [],
   "source": [
    "# Aqui vamos ha hacer un conteo de datos nulos en el nuevo dataset con los datos filtrados por el país elegido. USA\n",
    "\n",
    "df_country_filtered.isnull().sum()"
   ]
  },
  {
   "cell_type": "markdown",
   "metadata": {},
   "source": [
    "### Vamos a crear una función que nos permita visualizar mejor las columnas que contienen más datos nulos mediante una gráfica"
   ]
  },
  {
   "cell_type": "code",
   "execution_count": 16,
   "metadata": {},
   "outputs": [
    {
     "data": {
      "image/png": "[encoded data removed]",
      "text/plain": [
       "<Figure size 800x600 with 1 Axes>"
      ]
     },
     "metadata": {},
     "output_type": "display_data"
    }
   ],
   "source": [
    "plt.style.use(\"seaborn-white\")\n",
    "\n",
    "def plot_nas(df: pd.DataFrame):\n",
    "    if df.isnull().sum().sum() != 0:\n",
    "        na_df = (df.isnull().sum() / len(df)) * 100      \n",
    "        na_df = na_df.drop(na_df[na_df == 0].index).sort_values(ascending=False)\n",
    "        missing_data = pd.DataFrame({'Missing Ratio %' :na_df})\n",
    "        missing_data.plot(kind = \"barh\", title=\"Proporción de Nulos por Columnas\", color='blue', alpha=0.7, figsize=(8, 6))\n",
    "        plt.show()\n",
    "    else:\n",
    "        print('No Nas found')\n",
    "plot_nas(df_country_filtered)"
   ]
  },
  {
   "cell_type": "markdown",
   "metadata": {},
   "source": [
    "## Conteo de valores únicos de las variables que nos interesan"
   ]
  },
  {
   "cell_type": "code",
   "execution_count": 9,
   "metadata": {},
   "outputs": [],
   "source": [
    "dates_cunts = dict(df_country_filtered['Date'].value_counts())\n",
    "ages_counts = dict(df_country_filtered['Age'].value_counts())\n",
    "year_counts = dict(df_country_filtered['Year'].value_counts())\n",
    "activity_counts = dict(df_country_filtered['Activity'].value_counts())\n",
    "fatal_counts = dict(df_country_filtered['Fatal'].value_counts())\n",
    "sex_counts = dict(df_country_filtered['Sex'].value_counts())\n",
    "species_counts = dict(df_country_filtered['Species'].value_counts())"
   ]
  },
  {
   "cell_type": "markdown",
   "metadata": {},
   "source": [
    "### Vemos su estrucruta en forma de diccionario. Nos ayudará a visualizar de qué forma vamos a limpiar, sustituir valores, y sacar lo que nos interese cómo nos interese."
   ]
  },
  {
   "cell_type": "code",
   "execution_count": 260,
   "metadata": {},
   "outputs": [],
   "source": [
    "dates_cunts"
   ]
  },
  {
   "cell_type": "code",
   "execution_count": 261,
   "metadata": {},
   "outputs": [],
   "source": [
    "dates_cunts, ages_counts, year_counts, activity_counts, fatal_counts, sex_counts, species_counts"
   ]
  },
  {
   "cell_type": "markdown",
   "metadata": {},
   "source": [
    "### Borramos las columnas que no nos interesan para el estudio, haciendo una copia para que no perder es dataset original"
   ]
  },
  {
   "cell_type": "code",
   "execution_count": 73,
   "metadata": {},
   "outputs": [],
   "source": [
    "data_USA = df_country_filtered.copy()\n",
    "\n",
    "drop_columns = ['Unnamed: 22',\n",
    "         'Unnamed: 23',\n",
    "         'Case Number',\n",
    "         'Name',\n",
    "         'Investigator or Source',\n",
    "         'pdf',\n",
    "         'href formula',\n",
    "         'href',\n",
    "         'Case Number.1',\n",
    "         'Case Number.2',\n",
    "         'Injury',\n",
    "         'original order',\n",
    "         'Time',\n",
    "         'Location',\n",
    "         'Area',\n",
    "         'Type']\n",
    "         \n",
    "\n",
    "data_USA.drop(drop_columns, axis=1, inplace=True)"
   ]
  },
  {
   "cell_type": "code",
   "execution_count": 262,
   "metadata": {},
   "outputs": [],
   "source": [
    "data_USA"
   ]
  },
  {
   "cell_type": "markdown",
   "metadata": {},
   "source": [
    "### Completamos y corregimos datos de los campos donde no tenemos información de cada una de nuestras columnas."
   ]
  },
  {
   "cell_type": "code",
   "execution_count": 85,
   "metadata": {},
   "outputs": [],
   "source": [
    "data_USA[\"Sex\"].fillna('Unknown', inplace = True)\n",
    "data_USA['Fatal'].fillna('UNKNOWN', inplace = True)\n",
    "data_USA['Activity'].fillna('UNKNOWN', inplace = True)\n",
    "data_USA['Date'].fillna('UNKNOWN', inplace = True)\n",
    "data_USA['Species'].fillna('UNKNOWN', inplace = True)\n",
    "data_USA['Age'].fillna('UNKNOWN', inplace = True)\n",
    "data_USA['Year'].fillna('UNKNOWN' , inplace = True)"
   ]
  },
  {
   "cell_type": "code",
   "execution_count": 54,
   "metadata": {},
   "outputs": [],
   "source": [
    "data_USA"
   ]
  },
  {
   "cell_type": "markdown",
   "metadata": {},
   "source": [
    "### Corregimos valores y los ajustamos para poder trabajarlos"
   ]
  },
  {
   "cell_type": "code",
   "execution_count": 86,
   "metadata": {},
   "outputs": [],
   "source": [
    "data_USA = data_USA.replace({'Sex':{'M ':'M','N':'M','lli':'F'}})\n",
    "data_USA = data_USA.replace({'Year':{0.0:1962}})\n",
    "data_USA = data_USA.replace({'Age':{'Teen':'UNKNOWN',\n",
    "                         'teen':'UNKNOWN',\n",
    "                         '30s':'UNKNOWN',\n",
    "                         '20s':'UNKNOWN',\n",
    "                         ' 43':'UNKNOWN',\n",
    "                         'Elderly':'UNKNOWN',\n",
    "                         'mid-20s':'UNKNOWN',\n",
    "                         'Ca. 33':'UNKNOWN',\n",
    "                         'adult':'UNKNOWN',\n",
    "                         '21 or 26':'UNKNOWN',\n",
    "                         '10 or 12':'UNKNOWN',\n",
    "                         '9 & 12':'UNKNOWN',\n",
    "                         '37, 67, 35, 27,  ? & 27':'UNKNOWN',\n",
    "                         '9 & 12':'UNKNOWN',\n",
    "                         '?    &   14':'UNKNOWN',\n",
    "                         \"60's\":'UNKNOWN',\n",
    "                         \"\\\\xa0 \":'UNKNOWN',\n",
    "                         \" 28'\":'UNKNOWN',\n",
    "                         \"7      &    31\":'UNKNOWN',\n",
    "                         \"23 & 20\":'UNKNOWN',\n",
    "                         \"mid-30s\":'UNKNOWN',\n",
    "                         \"6½\":'UNKNOWN',\n",
    "                         \"Teens\":'UNKNOWN',\n",
    "                         \"12 or 13\":'UNKNOWN',\n",
    "                         \"50s\":'UNKNOWN',\n",
    "                         \"60s\":'UNKNOWN',\n",
    "                         \"young\":'UNKNOWN'}})\n",
    "data_USA = data_USA.replace({'Fatal':{' N':'N','N ':'N'}})"
   ]
  },
  {
   "cell_type": "markdown",
   "metadata": {},
   "source": [
    "### Creamos nuestro nuevo DataFrame reseteando los índices, para tenerlo ya con las columnas seleccionadas para nuestro estudio. Ahora ya están filtradas, limpias y corregidos errorer"
   ]
  },
  {
   "cell_type": "code",
   "execution_count": 87,
   "metadata": {},
   "outputs": [],
   "source": [
    "data_USA = data_USA.reset_index()\n",
    "data_USA.drop(['index'], axis=1 , inplace=True)"
   ]
  },
  {
   "cell_type": "code",
   "execution_count": 263,
   "metadata": {},
   "outputs": [],
   "source": [
    "data_USA.isnull().sum()"
   ]
  },
  {
   "cell_type": "code",
   "execution_count": 264,
   "metadata": {},
   "outputs": [],
   "source": [
    "data_USA.info()"
   ]
  },
  {
   "cell_type": "code",
   "execution_count": 59,
   "metadata": {},
   "outputs": [],
   "source": [
    "data_USA = data_USA.astype({'Year':'int'})"
   ]
  },
  {
   "cell_type": "code",
   "execution_count": 33,
   "metadata": {},
   "outputs": [],
   "source": [
    "data_USA['Year'].unique()"
   ]
  },
  {
   "cell_type": "markdown",
   "metadata": {},
   "source": [
    "### En este gráfico se muestra la cantidad de ataques de tuburones en USA desde que se tienen registros."
   ]
  },
  {
   "cell_type": "code",
   "execution_count": 38,
   "metadata": {},
   "outputs": [
    {
     "data": {
      "image/png": "[encoded data removed]",
      "text/plain": [
       "<Figure size 1000x500 with 1 Axes>"
      ]
     },
     "metadata": {},
     "output_type": "display_data"
    }
   ],
   "source": [
    "year_attack = data_USA[data_USA['Year'] >= 1642]\n",
    "\n",
    "year_attack = year_attack.groupby('Year')['Date'].count().reset_index()\n",
    "\n",
    "plt.style.use(\"seaborn-white\")\n",
    "year_attack.plot(kind='line', x= \"Year\", y= \"Date\", title= \"Ataques de tiburón en USA desde que se tienen registros\", legend=False, linestyle='-', color='g', figsize=(10, 5))\n",
    "plt.xlabel('Año')\n",
    "plt.ylabel('Casos Resgistrados')\n",
    "#fig = px.line(year_attack, x='Year', y='Date', title='Ataques de tiburón por año en USA')\n",
    "\n",
    "\n",
    "plt.show()"
   ]
  },
  {
   "cell_type": "markdown",
   "metadata": {},
   "source": [
    "### Aqui vamos a mostrar los ataques registrados en USA entre 2002 y 2018, siendo este último año, del último que se tienen registros"
   ]
  },
  {
   "cell_type": "code",
   "execution_count": 40,
   "metadata": {},
   "outputs": [
    {
     "data": {
      "image/png": "[encoded data removed]",
      "text/plain": [
       "<Figure size 1000x500 with 1 Axes>"
      ]
     },
     "metadata": {},
     "output_type": "display_data"
    }
   ],
   "source": [
    "year_attack2 = data_USA[data_USA['Year'] >= 2002]\n",
    "\n",
    "year_attack2 = year_attack2.groupby('Year')['Date'].count().reset_index()\n",
    "plt.style.use(\"seaborn-white\")\n",
    "year_attack2.plot(kind='line', x= \"Year\", y= \"Date\", title= \"Ataques de tiburón en USA entre 2002 y 2018\", legend=False, linestyle='-', color='g', figsize=(10, 5))\n",
    "plt.xlabel('Año')\n",
    "plt.ylabel('Casos Resgistrados')\n",
    "\n",
    "plt.show()"
   ]
  },
  {
   "cell_type": "markdown",
   "metadata": {},
   "source": [
    "## Visualización de ataques de tiburón en USA según el género"
   ]
  },
  {
   "cell_type": "code",
   "execution_count": 265,
   "metadata": {},
   "outputs": [],
   "source": [
    "data_USA['Sex'].value_counts()"
   ]
  },
  {
   "cell_type": "code",
   "execution_count": 78,
   "metadata": {},
   "outputs": [],
   "source": [
    "data_USA.loc[data_USA['Sex'].str.contains(\"M\"), 'Sex'] = \"Hombres\""
   ]
  },
  {
   "cell_type": "code",
   "execution_count": 79,
   "metadata": {},
   "outputs": [],
   "source": [
    "data_USA.loc[data_USA['Sex'].str.contains(\"F\"), 'Sex'] = \"Mujeres\""
   ]
  },
  {
   "cell_type": "code",
   "execution_count": 266,
   "metadata": {},
   "outputs": [],
   "source": [
    "Sex_count = data_USA['Sex'].value_counts().reset_index().rename(columns={'index':'Gender','Sex':'Count'})\n",
    "\n",
    "Sex_count"
   ]
  },
  {
   "cell_type": "markdown",
   "metadata": {},
   "source": [
    "## Gráfica sobre la Propoción de Hombres, Mujeres y Sin Especificar, de casos de ataques de tiburones en USA."
   ]
  },
  {
   "cell_type": "code",
   "execution_count": 189,
   "metadata": {},
   "outputs": [],
   "source": [
    "fig = px.pie(data_frame = Sex_count,\n",
    "             values = 'Count',\n",
    "             names = 'Gender',\n",
    "             title = 'Ataques de Tiburón por Género en USA',\n",
    "             color_discrete_sequence=px.colors.qualitative.Set2\n",
    "             )"
   ]
  },
  {
   "cell_type": "code",
   "execution_count": 190,
   "metadata": {},
   "outputs": [
    {
     "data": {
      "application/vnd.plotly.v1+json": {
       "config": {
        "plotlyServerURL": "https://plot.ly"
       },
       "data": [
        {
         "domain": {
          "x": [
           0,
           1
          ],
          "y": [
           0,
           1
          ]
         },
         "hovertemplate": "Gender=%{label}<br>Count=%{value}<extra></extra>",
         "labels": [
          "Hombres",
          "Mujeres",
          "UNKNOWN"
         ],
         "legendgroup": "",
         "name": "",
         "showlegend": true,
         "textinfo": "label+percent",
         "textposition": "outside",
         "type": "pie",
         "values": [
          1793,
          338,
          98
         ]
        }
       ],
       "layout": {
        "font": {
         "color": "black",
         "family": "Helvetica",
         "size": 18
        },
        "legend": {
         "title": {
          "text": "Género"
         },
         "tracegroupgap": 0
        },
        "paper_bgcolor": "moccasin",
        "piecolorway": [
         "rgb(102,194,165)",
         "rgb(252,141,98)",
         "rgb(141,160,203)",
         "rgb(231,138,195)",
         "rgb(166,216,84)",
         "rgb(255,217,47)",
         "rgb(229,196,148)",
         "rgb(179,179,179)"
        ],
        "template": {
         "data": {
          "bar": [
           {
            "error_x": {
             "color": "#2a3f5f"
            },
            "error_y": {
             "color": "#2a3f5f"
            },
            "marker": {
             "line": {
              "color": "#E5ECF6",
              "width": 0.5
             },
             "pattern": {
              "fillmode": "overlay",
              "size": 10,
              "solidity": 0.2
             }
            },
            "type": "bar"
           }
          ],
          "barpolar": [
           {
            "marker": {
             "line": {
              "color": "#E5ECF6",
              "width": 0.5
             },
             "pattern": {
              "fillmode": "overlay",
              "size": 10,
              "solidity": 0.2
             }
            },
            "type": "barpolar"
           }
          ],
          "carpet": [
           {
            "aaxis": {
             "endlinecolor": "#2a3f5f",
             "gridcolor": "white",
             "linecolor": "white",
             "minorgridcolor": "white",
             "startlinecolor": "#2a3f5f"
            },
            "baxis": {
             "endlinecolor": "#2a3f5f",
             "gridcolor": "white",
             "linecolor": "white",
             "minorgridcolor": "white",
             "startlinecolor": "#2a3f5f"
            },
            "type": "carpet"
           }
          ],
          "choropleth": [
           {
            "colorbar": {
             "outlinewidth": 0,
             "ticks": ""
            },
            "type": "choropleth"
           }
          ],
          "contour": [
           {
            "colorbar": {
             "outlinewidth": 0,
             "ticks": ""
            },
            "colorscale": [
             [
              0,
              "#0d0887"
             ],
             [
              0.1111111111111111,
              "#46039f"
             ],
             [
              0.2222222222222222,
              "#7201a8"
             ],
             [
              0.3333333333333333,
              "#9c179e"
             ],
             [
              0.4444444444444444,
              "#bd3786"
             ],
             [
              0.5555555555555556,
              "#d8576b"
             ],
             [
              0.6666666666666666,
              "#ed7953"
             ],
             [
              0.7777777777777778,
              "#fb9f3a"
             ],
             [
              0.8888888888888888,
              "#fdca26"
             ],
             [
              1,
              "#f0f921"
             ]
            ],
            "type": "contour"
           }
          ],
          "contourcarpet": [
           {
            "colorbar": {
             "outlinewidth": 0,
             "ticks": ""
            },
            "type": "contourcarpet"
           }
          ],
          "heatmap": [
           {
            "colorbar": {
             "outlinewidth": 0,
             "ticks": ""
            },
            "colorscale": [
             [
              0,
              "#0d0887"
             ],
             [
              0.1111111111111111,
              "#46039f"
             ],
             [
              0.2222222222222222,
              "#7201a8"
             ],
             [
              0.3333333333333333,
              "#9c179e"
             ],
             [
              0.4444444444444444,
              "#bd3786"
             ],
             [
              0.5555555555555556,
              "#d8576b"
             ],
             [
              0.6666666666666666,
              "#ed7953"
             ],
             [
              0.7777777777777778,
              "#fb9f3a"
             ],
             [
              0.8888888888888888,
              "#fdca26"
             ],
             [
              1,
              "#f0f921"
             ]
            ],
            "type": "heatmap"
           }
          ],
          "heatmapgl": [
           {
            "colorbar": {
             "outlinewidth": 0,
             "ticks": ""
            },
            "colorscale": [
             [
              0,
              "#0d0887"
             ],
             [
              0.1111111111111111,
              "#46039f"
             ],
             [
              0.2222222222222222,
              "#7201a8"
             ],
             [
              0.3333333333333333,
              "#9c179e"
             ],
             [
              0.4444444444444444,
              "#bd3786"
             ],
             [
              0.5555555555555556,
              "#d8576b"
             ],
             [
              0.6666666666666666,
              "#ed7953"
             ],
             [
              0.7777777777777778,
              "#fb9f3a"
             ],
             [
              0.8888888888888888,
              "#fdca26"
             ],
             [
              1,
              "#f0f921"
             ]
            ],
            "type": "heatmapgl"
           }
          ],
          "histogram": [
           {
            "marker": {
             "pattern": {
              "fillmode": "overlay",
              "size": 10,
              "solidity": 0.2
             }
            },
            "type": "histogram"
           }
          ],
          "histogram2d": [
           {
            "colorbar": {
             "outlinewidth": 0,
             "ticks": ""
            },
            "colorscale": [
             [
              0,
              "#0d0887"
             ],
             [
              0.1111111111111111,
              "#46039f"
             ],
             [
              0.2222222222222222,
              "#7201a8"
             ],
             [
              0.3333333333333333,
              "#9c179e"
             ],
             [
              0.4444444444444444,
              "#bd3786"
             ],
             [
              0.5555555555555556,
              "#d8576b"
             ],
             [
              0.6666666666666666,
              "#ed7953"
             ],
             [
              0.7777777777777778,
              "#fb9f3a"
             ],
             [
              0.8888888888888888,
              "#fdca26"
             ],
             [
              1,
              "#f0f921"
             ]
            ],
            "type": "histogram2d"
           }
          ],
          "histogram2dcontour": [
           {
            "colorbar": {
             "outlinewidth": 0,
             "ticks": ""
            },
            "colorscale": [
             [
              0,
              "#0d0887"
             ],
             [
              0.1111111111111111,
              "#46039f"
             ],
             [
              0.2222222222222222,
              "#7201a8"
             ],
             [
              0.3333333333333333,
              "#9c179e"
             ],
             [
              0.4444444444444444,
              "#bd3786"
             ],
             [
              0.5555555555555556,
              "#d8576b"
             ],
             [
              0.6666666666666666,
              "#ed7953"
             ],
             [
              0.7777777777777778,
              "#fb9f3a"
             ],
             [
              0.8888888888888888,
              "#fdca26"
             ],
             [
              1,
              "#f0f921"
             ]
            ],
            "type": "histogram2dcontour"
           }
          ],
          "mesh3d": [
           {
            "colorbar": {
             "outlinewidth": 0,
             "ticks": ""
            },
            "type": "mesh3d"
           }
          ],
          "parcoords": [
           {
            "line": {
             "colorbar": {
              "outlinewidth": 0,
              "ticks": ""
             }
            },
            "type": "parcoords"
           }
          ],
          "pie": [
           {
            "automargin": true,
            "type": "pie"
           }
          ],
          "scatter": [
           {
            "fillpattern": {
             "fillmode": "overlay",
             "size": 10,
             "solidity": 0.2
            },
            "type": "scatter"
           }
          ],
          "scatter3d": [
           {
            "line": {
             "colorbar": {
              "outlinewidth": 0,
              "ticks": ""
             }
            },
            "marker": {
             "colorbar": {
              "outlinewidth": 0,
              "ticks": ""
             }
            },
            "type": "scatter3d"
           }
          ],
          "scattercarpet": [
           {
            "marker": {
             "colorbar": {
              "outlinewidth": 0,
              "ticks": ""
             }
            },
            "type": "scattercarpet"
           }
          ],
          "scattergeo": [
           {
            "marker": {
             "colorbar": {
              "outlinewidth": 0,
              "ticks": ""
             }
            },
            "type": "scattergeo"
           }
          ],
          "scattergl": [
           {
            "marker": {
             "colorbar": {
              "outlinewidth": 0,
              "ticks": ""
             }
            },
            "type": "scattergl"
           }
          ],
          "scattermapbox": [
           {
            "marker": {
             "colorbar": {
              "outlinewidth": 0,
              "ticks": ""
             }
            },
            "type": "scattermapbox"
           }
          ],
          "scatterpolar": [
           {
            "marker": {
             "colorbar": {
              "outlinewidth": 0,
              "ticks": ""
             }
            },
            "type": "scatterpolar"
           }
          ],
          "scatterpolargl": [
           {
            "marker": {
             "colorbar": {
              "outlinewidth": 0,
              "ticks": ""
             }
            },
            "type": "scatterpolargl"
           }
          ],
          "scatterternary": [
           {
            "marker": {
             "colorbar": {
              "outlinewidth": 0,
              "ticks": ""
             }
            },
            "type": "scatterternary"
           }
          ],
          "surface": [
           {
            "colorbar": {
             "outlinewidth": 0,
             "ticks": ""
            },
            "colorscale": [
             [
              0,
              "#0d0887"
             ],
             [
              0.1111111111111111,
              "#46039f"
             ],
             [
              0.2222222222222222,
              "#7201a8"
             ],
             [
              0.3333333333333333,
              "#9c179e"
             ],
             [
              0.4444444444444444,
              "#bd3786"
             ],
             [
              0.5555555555555556,
              "#d8576b"
             ],
             [
              0.6666666666666666,
              "#ed7953"
             ],
             [
              0.7777777777777778,
              "#fb9f3a"
             ],
             [
              0.8888888888888888,
              "#fdca26"
             ],
             [
              1,
              "#f0f921"
             ]
            ],
            "type": "surface"
           }
          ],
          "table": [
           {
            "cells": {
             "fill": {
              "color": "#EBF0F8"
             },
             "line": {
              "color": "white"
             }
            },
            "header": {
             "fill": {
              "color": "#C8D4E3"
             },
             "line": {
              "color": "white"
             }
            },
            "type": "table"
           }
          ]
         },
         "layout": {
          "annotationdefaults": {
           "arrowcolor": "#2a3f5f",
           "arrowhead": 0,
           "arrowwidth": 1
          },
          "autotypenumbers": "strict",
          "coloraxis": {
           "colorbar": {
            "outlinewidth": 0,
            "ticks": ""
           }
          },
          "colorscale": {
           "diverging": [
            [
             0,
             "#8e0152"
            ],
            [
             0.1,
             "#c51b7d"
            ],
            [
             0.2,
             "#de77ae"
            ],
            [
             0.3,
             "#f1b6da"
            ],
            [
             0.4,
             "#fde0ef"
            ],
            [
             0.5,
             "#f7f7f7"
            ],
            [
             0.6,
             "#e6f5d0"
            ],
            [
             0.7,
             "#b8e186"
            ],
            [
             0.8,
             "#7fbc41"
            ],
            [
             0.9,
             "#4d9221"
            ],
            [
             1,
             "#276419"
            ]
           ],
           "sequential": [
            [
             0,
             "#0d0887"
            ],
            [
             0.1111111111111111,
             "#46039f"
            ],
            [
             0.2222222222222222,
             "#7201a8"
            ],
            [
             0.3333333333333333,
             "#9c179e"
            ],
            [
             0.4444444444444444,
             "#bd3786"
            ],
            [
             0.5555555555555556,
             "#d8576b"
            ],
            [
             0.6666666666666666,
             "#ed7953"
            ],
            [
             0.7777777777777778,
             "#fb9f3a"
            ],
            [
             0.8888888888888888,
             "#fdca26"
            ],
            [
             1,
             "#f0f921"
            ]
           ],
           "sequentialminus": [
            [
             0,
             "#0d0887"
            ],
            [
             0.1111111111111111,
             "#46039f"
            ],
            [
             0.2222222222222222,
             "#7201a8"
            ],
            [
             0.3333333333333333,
             "#9c179e"
            ],
            [
             0.4444444444444444,
             "#bd3786"
            ],
            [
             0.5555555555555556,
             "#d8576b"
            ],
            [
             0.6666666666666666,
             "#ed7953"
            ],
            [
             0.7777777777777778,
             "#fb9f3a"
            ],
            [
             0.8888888888888888,
             "#fdca26"
            ],
            [
             1,
             "#f0f921"
            ]
           ]
          },
          "colorway": [
           "#636efa",
           "#EF553B",
           "#00cc96",
           "#ab63fa",
           "#FFA15A",
           "#19d3f3",
           "#FF6692",
           "#B6E880",
           "#FF97FF",
           "#FECB52"
          ],
          "font": {
           "color": "#2a3f5f"
          },
          "geo": {
           "bgcolor": "white",
           "lakecolor": "white",
           "landcolor": "#E5ECF6",
           "showlakes": true,
           "showland": true,
           "subunitcolor": "white"
          },
          "hoverlabel": {
           "align": "left"
          },
          "hovermode": "closest",
          "mapbox": {
           "style": "light"
          },
          "paper_bgcolor": "white",
          "plot_bgcolor": "#E5ECF6",
          "polar": {
           "angularaxis": {
            "gridcolor": "white",
            "linecolor": "white",
            "ticks": ""
           },
           "bgcolor": "#E5ECF6",
           "radialaxis": {
            "gridcolor": "white",
            "linecolor": "white",
            "ticks": ""
           }
          },
          "scene": {
           "xaxis": {
            "backgroundcolor": "#E5ECF6",
            "gridcolor": "white",
            "gridwidth": 2,
            "linecolor": "white",
            "showbackground": true,
            "ticks": "",
            "zerolinecolor": "white"
           },
           "yaxis": {
            "backgroundcolor": "#E5ECF6",
            "gridcolor": "white",
            "gridwidth": 2,
            "linecolor": "white",
            "showbackground": true,
            "ticks": "",
            "zerolinecolor": "white"
           },
           "zaxis": {
            "backgroundcolor": "#E5ECF6",
            "gridcolor": "white",
            "gridwidth": 2,
            "linecolor": "white",
            "showbackground": true,
            "ticks": "",
            "zerolinecolor": "white"
           }
          },
          "shapedefaults": {
           "line": {
            "color": "#2a3f5f"
           }
          },
          "ternary": {
           "aaxis": {
            "gridcolor": "white",
            "linecolor": "white",
            "ticks": ""
           },
           "baxis": {
            "gridcolor": "white",
            "linecolor": "white",
            "ticks": ""
           },
           "bgcolor": "#E5ECF6",
           "caxis": {
            "gridcolor": "white",
            "linecolor": "white",
            "ticks": ""
           }
          },
          "title": {
           "x": 0.05
          },
          "xaxis": {
           "automargin": true,
           "gridcolor": "white",
           "linecolor": "white",
           "ticks": "",
           "title": {
            "standoff": 15
           },
           "zerolinecolor": "white",
           "zerolinewidth": 2
          },
          "yaxis": {
           "automargin": true,
           "gridcolor": "white",
           "linecolor": "white",
           "ticks": "",
           "title": {
            "standoff": 15
           },
           "zerolinecolor": "white",
           "zerolinewidth": 2
          }
         }
        },
        "title": {
         "text": "Ataques de Tiburón por Género en USA"
        }
       }
      }
     },
     "metadata": {},
     "output_type": "display_data"
    }
   ],
   "source": [
    "fig.update_traces(textposition ='outside',\n",
    "                  textinfo = 'label+percent')\n",
    "fig.update_layout(paper_bgcolor='moccasin',\n",
    "                  legend_title = 'Género',\n",
    "                  font = dict(\n",
    "                      family = \"Helvetica\",\n",
    "                      size = 18,\n",
    "                      color = 'black'\n",
    "                  ))\n",
    "\n",
    "fig.show()"
   ]
  },
  {
   "cell_type": "markdown",
   "metadata": {},
   "source": [
    "## Vamos a mostrar ahora las proporciones de muertes y de supervivientes a los ataques por tiburones en USA"
   ]
  },
  {
   "cell_type": "code",
   "execution_count": 267,
   "metadata": {},
   "outputs": [],
   "source": [
    "data_USA['Fatal'].value_counts()"
   ]
  },
  {
   "cell_type": "code",
   "execution_count": 130,
   "metadata": {},
   "outputs": [],
   "source": [
    "data_USA.loc[data_USA['Fatal'] == \"N\", 'Fatal'] = 'NO'"
   ]
  },
  {
   "cell_type": "code",
   "execution_count": 131,
   "metadata": {},
   "outputs": [],
   "source": [
    "data_USA.loc[data_USA['Fatal'] == \"Y\", 'Fatal'] = 'SI'"
   ]
  },
  {
   "cell_type": "code",
   "execution_count": 268,
   "metadata": {},
   "outputs": [],
   "source": [
    "Fatal_count = data_USA['Fatal'].value_counts().reset_index().rename(columns = {'Fatal':'Count','index':'Status'})\n",
    "Fatal_count"
   ]
  },
  {
   "cell_type": "code",
   "execution_count": 210,
   "metadata": {},
   "outputs": [],
   "source": [
    "fig2 = px.pie(data_frame = Fatal_count,\n",
    "             values = 'Count',\n",
    "             names = 'Status',\n",
    "             title = '¿Sobrevivió?',\n",
    "             color_discrete_sequence=px.colors.qualitative.Set1\n",
    "             )"
   ]
  },
  {
   "cell_type": "code",
   "execution_count": 211,
   "metadata": {},
   "outputs": [
    {
     "data": {
      "application/vnd.plotly.v1+json": {
       "config": {
        "plotlyServerURL": "https://plot.ly"
       },
       "data": [
        {
         "domain": {
          "x": [
           0,
           1
          ],
          "y": [
           0,
           1
          ]
         },
         "hovertemplate": "Status=%{label}<br>Count=%{value}<extra></extra>",
         "labels": [
          "NO",
          "UNKNOWN",
          "SI"
         ],
         "legendgroup": "",
         "name": "",
         "showlegend": true,
         "textinfo": "label+percent",
         "textposition": "outside",
         "type": "pie",
         "values": [
          1837,
          206,
          186
         ]
        }
       ],
       "layout": {
        "font": {
         "color": "black",
         "family": "Helvetica",
         "size": 18
        },
        "legend": {
         "title": {
          "text": "Estado"
         },
         "tracegroupgap": 0
        },
        "paper_bgcolor": "navajowhite",
        "piecolorway": [
         "rgb(228,26,28)",
         "rgb(55,126,184)",
         "rgb(77,175,74)",
         "rgb(152,78,163)",
         "rgb(255,127,0)",
         "rgb(255,255,51)",
         "rgb(166,86,40)",
         "rgb(247,129,191)",
         "rgb(153,153,153)"
        ],
        "template": {
         "data": {
          "bar": [
           {
            "error_x": {
             "color": "#2a3f5f"
            },
            "error_y": {
             "color": "#2a3f5f"
            },
            "marker": {
             "line": {
              "color": "#E5ECF6",
              "width": 0.5
             },
             "pattern": {
              "fillmode": "overlay",
              "size": 10,
              "solidity": 0.2
             }
            },
            "type": "bar"
           }
          ],
          "barpolar": [
           {
            "marker": {
             "line": {
              "color": "#E5ECF6",
              "width": 0.5
             },
             "pattern": {
              "fillmode": "overlay",
              "size": 10,
              "solidity": 0.2
             }
            },
            "type": "barpolar"
           }
          ],
          "carpet": [
           {
            "aaxis": {
             "endlinecolor": "#2a3f5f",
             "gridcolor": "white",
             "linecolor": "white",
             "minorgridcolor": "white",
             "startlinecolor": "#2a3f5f"
            },
            "baxis": {
             "endlinecolor": "#2a3f5f",
             "gridcolor": "white",
             "linecolor": "white",
             "minorgridcolor": "white",
             "startlinecolor": "#2a3f5f"
            },
            "type": "carpet"
           }
          ],
          "choropleth": [
           {
            "colorbar": {
             "outlinewidth": 0,
             "ticks": ""
            },
            "type": "choropleth"
           }
          ],
          "contour": [
           {
            "colorbar": {
             "outlinewidth": 0,
             "ticks": ""
            },
            "colorscale": [
             [
              0,
              "#0d0887"
             ],
             [
              0.1111111111111111,
              "#46039f"
             ],
             [
              0.2222222222222222,
              "#7201a8"
             ],
             [
              0.3333333333333333,
              "#9c179e"
             ],
             [
              0.4444444444444444,
              "#bd3786"
             ],
             [
              0.5555555555555556,
              "#d8576b"
             ],
             [
              0.6666666666666666,
              "#ed7953"
             ],
             [
              0.7777777777777778,
              "#fb9f3a"
             ],
             [
              0.8888888888888888,
              "#fdca26"
             ],
             [
              1,
              "#f0f921"
             ]
            ],
            "type": "contour"
           }
          ],
          "contourcarpet": [
           {
            "colorbar": {
             "outlinewidth": 0,
             "ticks": ""
            },
            "type": "contourcarpet"
           }
          ],
          "heatmap": [
           {
            "colorbar": {
             "outlinewidth": 0,
             "ticks": ""
            },
            "colorscale": [
             [
              0,
              "#0d0887"
             ],
             [
              0.1111111111111111,
              "#46039f"
             ],
             [
              0.2222222222222222,
              "#7201a8"
             ],
             [
              0.3333333333333333,
              "#9c179e"
             ],
             [
              0.4444444444444444,
              "#bd3786"
             ],
             [
              0.5555555555555556,
              "#d8576b"
             ],
             [
              0.6666666666666666,
              "#ed7953"
             ],
             [
              0.7777777777777778,
              "#fb9f3a"
             ],
             [
              0.8888888888888888,
              "#fdca26"
             ],
             [
              1,
              "#f0f921"
             ]
            ],
            "type": "heatmap"
           }
          ],
          "heatmapgl": [
           {
            "colorbar": {
             "outlinewidth": 0,
             "ticks": ""
            },
            "colorscale": [
             [
              0,
              "#0d0887"
             ],
             [
              0.1111111111111111,
              "#46039f"
             ],
             [
              0.2222222222222222,
              "#7201a8"
             ],
             [
              0.3333333333333333,
              "#9c179e"
             ],
             [
              0.4444444444444444,
              "#bd3786"
             ],
             [
              0.5555555555555556,
              "#d8576b"
             ],
             [
              0.6666666666666666,
              "#ed7953"
             ],
             [
              0.7777777777777778,
              "#fb9f3a"
             ],
             [
              0.8888888888888888,
              "#fdca26"
             ],
             [
              1,
              "#f0f921"
             ]
            ],
            "type": "heatmapgl"
           }
          ],
          "histogram": [
           {
            "marker": {
             "pattern": {
              "fillmode": "overlay",
              "size": 10,
              "solidity": 0.2
             }
            },
            "type": "histogram"
           }
          ],
          "histogram2d": [
           {
            "colorbar": {
             "outlinewidth": 0,
             "ticks": ""
            },
            "colorscale": [
             [
              0,
              "#0d0887"
             ],
             [
              0.1111111111111111,
              "#46039f"
             ],
             [
              0.2222222222222222,
              "#7201a8"
             ],
             [
              0.3333333333333333,
              "#9c179e"
             ],
             [
              0.4444444444444444,
              "#bd3786"
             ],
             [
              0.5555555555555556,
              "#d8576b"
             ],
             [
              0.6666666666666666,
              "#ed7953"
             ],
             [
              0.7777777777777778,
              "#fb9f3a"
             ],
             [
              0.8888888888888888,
              "#fdca26"
             ],
             [
              1,
              "#f0f921"
             ]
            ],
            "type": "histogram2d"
           }
          ],
          "histogram2dcontour": [
           {
            "colorbar": {
             "outlinewidth": 0,
             "ticks": ""
            },
            "colorscale": [
             [
              0,
              "#0d0887"
             ],
             [
              0.1111111111111111,
              "#46039f"
             ],
             [
              0.2222222222222222,
              "#7201a8"
             ],
             [
              0.3333333333333333,
              "#9c179e"
             ],
             [
              0.4444444444444444,
              "#bd3786"
             ],
             [
              0.5555555555555556,
              "#d8576b"
             ],
             [
              0.6666666666666666,
              "#ed7953"
             ],
             [
              0.7777777777777778,
              "#fb9f3a"
             ],
             [
              0.8888888888888888,
              "#fdca26"
             ],
             [
              1,
              "#f0f921"
             ]
            ],
            "type": "histogram2dcontour"
           }
          ],
          "mesh3d": [
           {
            "colorbar": {
             "outlinewidth": 0,
             "ticks": ""
            },
            "type": "mesh3d"
           }
          ],
          "parcoords": [
           {
            "line": {
             "colorbar": {
              "outlinewidth": 0,
              "ticks": ""
             }
            },
            "type": "parcoords"
           }
          ],
          "pie": [
           {
            "automargin": true,
            "type": "pie"
           }
          ],
          "scatter": [
           {
            "fillpattern": {
             "fillmode": "overlay",
             "size": 10,
             "solidity": 0.2
            },
            "type": "scatter"
           }
          ],
          "scatter3d": [
           {
            "line": {
             "colorbar": {
              "outlinewidth": 0,
              "ticks": ""
             }
            },
            "marker": {
             "colorbar": {
              "outlinewidth": 0,
              "ticks": ""
             }
            },
            "type": "scatter3d"
           }
          ],
          "scattercarpet": [
           {
            "marker": {
             "colorbar": {
              "outlinewidth": 0,
              "ticks": ""
             }
            },
            "type": "scattercarpet"
           }
          ],
          "scattergeo": [
           {
            "marker": {
             "colorbar": {
              "outlinewidth": 0,
              "ticks": ""
             }
            },
            "type": "scattergeo"
           }
          ],
          "scattergl": [
           {
            "marker": {
             "colorbar": {
              "outlinewidth": 0,
              "ticks": ""
             }
            },
            "type": "scattergl"
           }
          ],
          "scattermapbox": [
           {
            "marker": {
             "colorbar": {
              "outlinewidth": 0,
              "ticks": ""
             }
            },
            "type": "scattermapbox"
           }
          ],
          "scatterpolar": [
           {
            "marker": {
             "colorbar": {
              "outlinewidth": 0,
              "ticks": ""
             }
            },
            "type": "scatterpolar"
           }
          ],
          "scatterpolargl": [
           {
            "marker": {
             "colorbar": {
              "outlinewidth": 0,
              "ticks": ""
             }
            },
            "type": "scatterpolargl"
           }
          ],
          "scatterternary": [
           {
            "marker": {
             "colorbar": {
              "outlinewidth": 0,
              "ticks": ""
             }
            },
            "type": "scatterternary"
           }
          ],
          "surface": [
           {
            "colorbar": {
             "outlinewidth": 0,
             "ticks": ""
            },
            "colorscale": [
             [
              0,
              "#0d0887"
             ],
             [
              0.1111111111111111,
              "#46039f"
             ],
             [
              0.2222222222222222,
              "#7201a8"
             ],
             [
              0.3333333333333333,
              "#9c179e"
             ],
             [
              0.4444444444444444,
              "#bd3786"
             ],
             [
              0.5555555555555556,
              "#d8576b"
             ],
             [
              0.6666666666666666,
              "#ed7953"
             ],
             [
              0.7777777777777778,
              "#fb9f3a"
             ],
             [
              0.8888888888888888,
              "#fdca26"
             ],
             [
              1,
              "#f0f921"
             ]
            ],
            "type": "surface"
           }
          ],
          "table": [
           {
            "cells": {
             "fill": {
              "color": "#EBF0F8"
             },
             "line": {
              "color": "white"
             }
            },
            "header": {
             "fill": {
              "color": "#C8D4E3"
             },
             "line": {
              "color": "white"
             }
            },
            "type": "table"
           }
          ]
         },
         "layout": {
          "annotationdefaults": {
           "arrowcolor": "#2a3f5f",
           "arrowhead": 0,
           "arrowwidth": 1
          },
          "autotypenumbers": "strict",
          "coloraxis": {
           "colorbar": {
            "outlinewidth": 0,
            "ticks": ""
           }
          },
          "colorscale": {
           "diverging": [
            [
             0,
             "#8e0152"
            ],
            [
             0.1,
             "#c51b7d"
            ],
            [
             0.2,
             "#de77ae"
            ],
            [
             0.3,
             "#f1b6da"
            ],
            [
             0.4,
             "#fde0ef"
            ],
            [
             0.5,
             "#f7f7f7"
            ],
            [
             0.6,
             "#e6f5d0"
            ],
            [
             0.7,
             "#b8e186"
            ],
            [
             0.8,
             "#7fbc41"
            ],
            [
             0.9,
             "#4d9221"
            ],
            [
             1,
             "#276419"
            ]
           ],
           "sequential": [
            [
             0,
             "#0d0887"
            ],
            [
             0.1111111111111111,
             "#46039f"
            ],
            [
             0.2222222222222222,
             "#7201a8"
            ],
            [
             0.3333333333333333,
             "#9c179e"
            ],
            [
             0.4444444444444444,
             "#bd3786"
            ],
            [
             0.5555555555555556,
             "#d8576b"
            ],
            [
             0.6666666666666666,
             "#ed7953"
            ],
            [
             0.7777777777777778,
             "#fb9f3a"
            ],
            [
             0.8888888888888888,
             "#fdca26"
            ],
            [
             1,
             "#f0f921"
            ]
           ],
           "sequentialminus": [
            [
             0,
             "#0d0887"
            ],
            [
             0.1111111111111111,
             "#46039f"
            ],
            [
             0.2222222222222222,
             "#7201a8"
            ],
            [
             0.3333333333333333,
             "#9c179e"
            ],
            [
             0.4444444444444444,
             "#bd3786"
            ],
            [
             0.5555555555555556,
             "#d8576b"
            ],
            [
             0.6666666666666666,
             "#ed7953"
            ],
            [
             0.7777777777777778,
             "#fb9f3a"
            ],
            [
             0.8888888888888888,
             "#fdca26"
            ],
            [
             1,
             "#f0f921"
            ]
           ]
          },
          "colorway": [
           "#636efa",
           "#EF553B",
           "#00cc96",
           "#ab63fa",
           "#FFA15A",
           "#19d3f3",
           "#FF6692",
           "#B6E880",
           "#FF97FF",
           "#FECB52"
          ],
          "font": {
           "color": "#2a3f5f"
          },
          "geo": {
           "bgcolor": "white",
           "lakecolor": "white",
           "landcolor": "#E5ECF6",
           "showlakes": true,
           "showland": true,
           "subunitcolor": "white"
          },
          "hoverlabel": {
           "align": "left"
          },
          "hovermode": "closest",
          "mapbox": {
           "style": "light"
          },
          "paper_bgcolor": "white",
          "plot_bgcolor": "#E5ECF6",
          "polar": {
           "angularaxis": {
            "gridcolor": "white",
            "linecolor": "white",
            "ticks": ""
           },
           "bgcolor": "#E5ECF6",
           "radialaxis": {
            "gridcolor": "white",
            "linecolor": "white",
            "ticks": ""
           }
          },
          "scene": {
           "xaxis": {
            "backgroundcolor": "#E5ECF6",
            "gridcolor": "white",
            "gridwidth": 2,
            "linecolor": "white",
            "showbackground": true,
            "ticks": "",
            "zerolinecolor": "white"
           },
           "yaxis": {
            "backgroundcolor": "#E5ECF6",
            "gridcolor": "white",
            "gridwidth": 2,
            "linecolor": "white",
            "showbackground": true,
            "ticks": "",
            "zerolinecolor": "white"
           },
           "zaxis": {
            "backgroundcolor": "#E5ECF6",
            "gridcolor": "white",
            "gridwidth": 2,
            "linecolor": "white",
            "showbackground": true,
            "ticks": "",
            "zerolinecolor": "white"
           }
          },
          "shapedefaults": {
           "line": {
            "color": "#2a3f5f"
           }
          },
          "ternary": {
           "aaxis": {
            "gridcolor": "white",
            "linecolor": "white",
            "ticks": ""
           },
           "baxis": {
            "gridcolor": "white",
            "linecolor": "white",
            "ticks": ""
           },
           "bgcolor": "#E5ECF6",
           "caxis": {
            "gridcolor": "white",
            "linecolor": "white",
            "ticks": ""
           }
          },
          "title": {
           "x": 0.05
          },
          "xaxis": {
           "automargin": true,
           "gridcolor": "white",
           "linecolor": "white",
           "ticks": "",
           "title": {
            "standoff": 15
           },
           "zerolinecolor": "white",
           "zerolinewidth": 2
          },
          "yaxis": {
           "automargin": true,
           "gridcolor": "white",
           "linecolor": "white",
           "ticks": "",
           "title": {
            "standoff": 15
           },
           "zerolinecolor": "white",
           "zerolinewidth": 2
          }
         }
        },
        "title": {
         "text": "¿Sobrevivió?"
        }
       }
      }
     },
     "metadata": {},
     "output_type": "display_data"
    }
   ],
   "source": [
    "fig2.update_traces(textposition ='outside',\n",
    "                  textinfo = 'label+percent')\n",
    "fig2.update_layout(paper_bgcolor='navajowhite',\n",
    "                  legend_title = 'Estado',\n",
    "                  font = dict(\n",
    "                      family = \"Helvetica\",\n",
    "                      size = 18,\n",
    "                      color = 'black'\n",
    "                  ))\n",
    "\n",
    "fig2.show()"
   ]
  },
  {
   "cell_type": "markdown",
   "metadata": {},
   "source": [
    "## Aqui vamos a ver de forma gráfica el TOP 5 de los tiburones que más ataques han provocado en USA"
   ]
  },
  {
   "cell_type": "code",
   "execution_count": 269,
   "metadata": {},
   "outputs": [],
   "source": [
    "data_USA['Species'].value_counts()"
   ]
  },
  {
   "cell_type": "code",
   "execution_count": 270,
   "metadata": {},
   "outputs": [
    {
     "data": {
      "image/png": "[encoded data removed]",
      "text/plain": [
       "<Figure size 800x600 with 1 Axes>"
      ]
     },
     "metadata": {},
     "output_type": "display_data"
    }
   ],
   "source": [
    "shark5 = data_USA.groupby(['Species'], as_index=False).size()\n",
    "\n",
    "shark5 = shark5.sort_values(by=['size'], ascending=False)\n",
    "\n",
    "shark5 = shark5[0:5]\n",
    "\n",
    "mlabels=['White shark','Tiger shark','Bull shark','Bronze whaler shark', 'Nurse shark']\n",
    "\n",
    "plt.pie(shark5['size'],labels=mlabels, explode = (0.1,0.1,0.1,0.1,0.1), autopct='%1.1f%%')\n",
    "\n",
    "plt.title('Top 5 de los Tiburones más Peligrosos en USA', loc='center')\n",
    "\n",
    "fig = plt.gcf()\n",
    "\n",
    "fig.set_size_inches(8,6)\n",
    "\n",
    "plt.legend(bbox_to_anchor=(1,0.6), loc=\"lower left\")\n",
    "\n",
    "plt.show()\n",
    "                          "
   ]
  }
 ],
 "metadata": {
  "kernelspec": {
   "display_name": "Python 3",
   "language": "python",
   "name": "python3"
  },
  "language_info": {
   "codemirror_mode": {
    "name": "ipython",
    "version": 3
   },
   "file_extension": ".py",
   "mimetype": "text/x-python",
   "name": "python",
   "nbconvert_exporter": "python",
   "pygments_lexer": "ipython3",
   "version": "3.7.4"
  },
  "orig_nbformat": 4,
  "vscode": {
   "interpreter": {
    "hash": "aee8b7b246df8f9039afb4144a1f6fd8d2ca17a180786b69acc140d282b71a49"
   }
  }
 },
 "nbformat": 4,
 "nbformat_minor": 2
}
